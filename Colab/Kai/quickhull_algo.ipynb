{
  "nbformat": 4,
  "nbformat_minor": 0,
  "metadata": {
    "colab": {
      "provenance": [],
      "authorship_tag": "ABX9TyMjXUPwyyb0ZUbImN18J/SD",
      "include_colab_link": true
    },
    "kernelspec": {
      "name": "python3",
      "display_name": "Python 3"
    },
    "language_info": {
      "name": "python"
    }
  },
  "cells": [
    {
      "cell_type": "markdown",
      "metadata": {
        "id": "view-in-github",
        "colab_type": "text"
      },
      "source": [
        "<a href=\"https://colab.research.google.com/github/AlecTraas/computational-geo-lab/blob/main/Colab/Kai/quickhull_algo.ipynb\" target=\"_parent\"><img src=\"https://colab.research.google.com/assets/colab-badge.svg\" alt=\"Open In Colab\"/></a>"
      ]
    },
    {
      "cell_type": "code",
      "execution_count": null,
      "metadata": {
        "id": "4SxUlV6pa6aq"
      },
      "outputs": [],
      "source": [
        "import numpy as np\n",
        "import matplotlib.pyplot as plt"
      ]
    },
    {
      "cell_type": "code",
      "source": [
        "def runProgram():\n",
        "  num_points = 10\n",
        "\n",
        "  points = np.random.rand(num_points,2)*10\n",
        "\n",
        "  sort = sorted(points, key=lambda x: x[0])\n",
        "\n",
        "  left = sort[0]\n",
        "  right = sort[-1]\n",
        "\n",
        "  hull_set = np.ndarray((2,), dtype=float)\n",
        "  hull_set = hull_set + [left, right]\n",
        "\n",
        "  sort.pop(0)\n",
        "  sort.pop(-1)\n",
        "\n",
        "  parseSides = lambda l, r, ps: (\n",
        "    np.array([p for p in ps if aboveLine(l, r, p)]),\n",
        "    np.array([p for p in ps if not aboveLine(l, r, p)])\n",
        "  )\n",
        "\n",
        "  upper_set, lower_set = parseSides(left, right, sort)\n",
        "\n",
        "  hull_set += quickHull(upper_set,left,right,1)\n",
        "  hull_set += quickHull(lower_set,left,right,-1)\n",
        "\n",
        "  plt.scatter(points[:,0],points[:,1])\n",
        "  plt.scatter(hull_set[:,0],hull_set[:,1],color='red')\n",
        "\n",
        "  return hull_set"
      ],
      "metadata": {
        "id": "catyJaWp7eG2"
      },
      "execution_count": null,
      "outputs": []
    },
    {
      "cell_type": "code",
      "source": [
        "def aboveLine(a,b,c):\n",
        "  return (b[0] - a[0]) * (c[1] - a[1]) - (b[1] - a[1]) * (c[0] - a[0]) > 0"
      ],
      "metadata": {
        "id": "N-jN-BMGlL76"
      },
      "execution_count": null,
      "outputs": []
    },
    {
      "cell_type": "code",
      "source": [
        "def furthestP(points,a,b):\n",
        "  dist = 1/2 * np.abs(a[0]*(b[1] - points[:,1]) + b[0]*(points[:,1] - a[1]) + points[:,0]*(a[1] - b[1]))\n",
        "  return points[np.argmax(dist)]"
      ],
      "metadata": {
        "id": "p6Ckvx5368-f"
      },
      "execution_count": null,
      "outputs": []
    },
    {
      "cell_type": "code",
      "source": [
        "def quickHull(points,a,b,f):\n",
        "  print(\"\\npoints left: \", points)\n",
        "  print(\"size\",points.size)\n",
        "  if points.size <= 2:\n",
        "    return points\n",
        "\n",
        "  c = furthestP(points,a,b)\n",
        "\n",
        "  hull_set = np.array([c])\n",
        "\n",
        "  parseSides = lambda l, r, ps: (\n",
        "    np.array([p for p in ps if aboveLine(l, r, p)]),\n",
        "    np.array([p for p in ps if not aboveLine(l, r, p)])\n",
        "  )\n",
        "\n",
        "  set_1a, set_1b = parseSides(a,c,points)\n",
        "  set_2a, set_2b = parseSides(b,c,points)\n",
        "\n",
        "  if f == 1:\n",
        "      hull_set = hull_set + quickHull(set_1a, a, c, 1)\n",
        "      hull_set = hull_set + quickHull(set_2a, c, b, 1)\n",
        "\n",
        "  else:\n",
        "      hull_set = hull_set + quickHull(set_1b, a, c, -1)\n",
        "      hull_set = hull_set + quickHull(set_2b, c, b, -1)\n",
        "\n",
        "  return hull_set"
      ],
      "metadata": {
        "id": "F-ZJZTZGmCwo"
      },
      "execution_count": 94,
      "outputs": []
    },
    {
      "cell_type": "code",
      "source": [
        "runProgram()"
      ],
      "metadata": {
        "id": "3tvUG1qgn1NV",
        "colab": {
          "base_uri": "https://localhost:8080/",
          "height": 547
        },
        "outputId": "f9df8dbc-1ad6-4efe-b997-b879d2d7b693"
      },
      "execution_count": 95,
      "outputs": [
        {
          "output_type": "stream",
          "name": "stdout",
          "text": [
            "\n",
            "points left:  [[1.31606712 6.06826033]\n",
            " [2.01769281 6.77632933]\n",
            " [3.06350845 8.59385206]\n",
            " [5.00073947 7.93823365]]\n",
            "size 8\n",
            "\n",
            "points left:  [[1.31606712 6.06826033]\n",
            " [2.01769281 6.77632933]]\n",
            "size 4\n",
            "\n",
            "points left:  []\n",
            "size 0\n"
          ]
        },
        {
          "output_type": "error",
          "ename": "ValueError",
          "evalue": "operands could not be broadcast together with shapes (1,2) (0,) ",
          "traceback": [
            "\u001b[0;31m---------------------------------------------------------------------------\u001b[0m",
            "\u001b[0;31mValueError\u001b[0m                                Traceback (most recent call last)",
            "\u001b[0;32m<ipython-input-95-02a152c58f55>\u001b[0m in \u001b[0;36m<cell line: 1>\u001b[0;34m()\u001b[0m\n\u001b[0;32m----> 1\u001b[0;31m \u001b[0mrunProgram\u001b[0m\u001b[0;34m(\u001b[0m\u001b[0;34m)\u001b[0m\u001b[0;34m\u001b[0m\u001b[0;34m\u001b[0m\u001b[0m\n\u001b[0m",
            "\u001b[0;32m<ipython-input-2-376f4333b474>\u001b[0m in \u001b[0;36mrunProgram\u001b[0;34m()\u001b[0m\n\u001b[1;32m     22\u001b[0m   \u001b[0mupper_set\u001b[0m\u001b[0;34m,\u001b[0m \u001b[0mlower_set\u001b[0m \u001b[0;34m=\u001b[0m \u001b[0mparseSides\u001b[0m\u001b[0;34m(\u001b[0m\u001b[0mleft\u001b[0m\u001b[0;34m,\u001b[0m \u001b[0mright\u001b[0m\u001b[0;34m,\u001b[0m \u001b[0msort\u001b[0m\u001b[0;34m)\u001b[0m\u001b[0;34m\u001b[0m\u001b[0;34m\u001b[0m\u001b[0m\n\u001b[1;32m     23\u001b[0m \u001b[0;34m\u001b[0m\u001b[0m\n\u001b[0;32m---> 24\u001b[0;31m   \u001b[0mhull_set\u001b[0m \u001b[0;34m+=\u001b[0m \u001b[0mquickHull\u001b[0m\u001b[0;34m(\u001b[0m\u001b[0mupper_set\u001b[0m\u001b[0;34m,\u001b[0m\u001b[0mleft\u001b[0m\u001b[0;34m,\u001b[0m\u001b[0mright\u001b[0m\u001b[0;34m,\u001b[0m\u001b[0;36m1\u001b[0m\u001b[0;34m)\u001b[0m\u001b[0;34m\u001b[0m\u001b[0;34m\u001b[0m\u001b[0m\n\u001b[0m\u001b[1;32m     25\u001b[0m   \u001b[0mhull_set\u001b[0m \u001b[0;34m+=\u001b[0m \u001b[0mquickHull\u001b[0m\u001b[0;34m(\u001b[0m\u001b[0mlower_set\u001b[0m\u001b[0;34m,\u001b[0m\u001b[0mleft\u001b[0m\u001b[0;34m,\u001b[0m\u001b[0mright\u001b[0m\u001b[0;34m,\u001b[0m\u001b[0;34m-\u001b[0m\u001b[0;36m1\u001b[0m\u001b[0;34m)\u001b[0m\u001b[0;34m\u001b[0m\u001b[0;34m\u001b[0m\u001b[0m\n\u001b[1;32m     26\u001b[0m \u001b[0;34m\u001b[0m\u001b[0m\n",
            "\u001b[0;32m<ipython-input-94-3ee13c02ccb0>\u001b[0m in \u001b[0;36mquickHull\u001b[0;34m(points, a, b, f)\u001b[0m\n\u001b[1;32m     18\u001b[0m \u001b[0;34m\u001b[0m\u001b[0m\n\u001b[1;32m     19\u001b[0m   \u001b[0;32mif\u001b[0m \u001b[0mf\u001b[0m \u001b[0;34m==\u001b[0m \u001b[0;36m1\u001b[0m\u001b[0;34m:\u001b[0m\u001b[0;34m\u001b[0m\u001b[0;34m\u001b[0m\u001b[0m\n\u001b[0;32m---> 20\u001b[0;31m       \u001b[0mhull_set\u001b[0m \u001b[0;34m=\u001b[0m \u001b[0mhull_set\u001b[0m \u001b[0;34m+\u001b[0m \u001b[0mquickHull\u001b[0m\u001b[0;34m(\u001b[0m\u001b[0mset_1a\u001b[0m\u001b[0;34m,\u001b[0m \u001b[0ma\u001b[0m\u001b[0;34m,\u001b[0m \u001b[0mc\u001b[0m\u001b[0;34m,\u001b[0m \u001b[0;36m1\u001b[0m\u001b[0;34m)\u001b[0m\u001b[0;34m\u001b[0m\u001b[0;34m\u001b[0m\u001b[0m\n\u001b[0m\u001b[1;32m     21\u001b[0m       \u001b[0mhull_set\u001b[0m \u001b[0;34m=\u001b[0m \u001b[0mhull_set\u001b[0m \u001b[0;34m+\u001b[0m \u001b[0mquickHull\u001b[0m\u001b[0;34m(\u001b[0m\u001b[0mset_2a\u001b[0m\u001b[0;34m,\u001b[0m \u001b[0mc\u001b[0m\u001b[0;34m,\u001b[0m \u001b[0mb\u001b[0m\u001b[0;34m,\u001b[0m \u001b[0;36m1\u001b[0m\u001b[0;34m)\u001b[0m\u001b[0;34m\u001b[0m\u001b[0;34m\u001b[0m\u001b[0m\n\u001b[1;32m     22\u001b[0m \u001b[0;34m\u001b[0m\u001b[0m\n",
            "\u001b[0;32m<ipython-input-94-3ee13c02ccb0>\u001b[0m in \u001b[0;36mquickHull\u001b[0;34m(points, a, b, f)\u001b[0m\n\u001b[1;32m     18\u001b[0m \u001b[0;34m\u001b[0m\u001b[0m\n\u001b[1;32m     19\u001b[0m   \u001b[0;32mif\u001b[0m \u001b[0mf\u001b[0m \u001b[0;34m==\u001b[0m \u001b[0;36m1\u001b[0m\u001b[0;34m:\u001b[0m\u001b[0;34m\u001b[0m\u001b[0;34m\u001b[0m\u001b[0m\n\u001b[0;32m---> 20\u001b[0;31m       \u001b[0mhull_set\u001b[0m \u001b[0;34m=\u001b[0m \u001b[0mhull_set\u001b[0m \u001b[0;34m+\u001b[0m \u001b[0mquickHull\u001b[0m\u001b[0;34m(\u001b[0m\u001b[0mset_1a\u001b[0m\u001b[0;34m,\u001b[0m \u001b[0ma\u001b[0m\u001b[0;34m,\u001b[0m \u001b[0mc\u001b[0m\u001b[0;34m,\u001b[0m \u001b[0;36m1\u001b[0m\u001b[0;34m)\u001b[0m\u001b[0;34m\u001b[0m\u001b[0;34m\u001b[0m\u001b[0m\n\u001b[0m\u001b[1;32m     21\u001b[0m       \u001b[0mhull_set\u001b[0m \u001b[0;34m=\u001b[0m \u001b[0mhull_set\u001b[0m \u001b[0;34m+\u001b[0m \u001b[0mquickHull\u001b[0m\u001b[0;34m(\u001b[0m\u001b[0mset_2a\u001b[0m\u001b[0;34m,\u001b[0m \u001b[0mc\u001b[0m\u001b[0;34m,\u001b[0m \u001b[0mb\u001b[0m\u001b[0;34m,\u001b[0m \u001b[0;36m1\u001b[0m\u001b[0;34m)\u001b[0m\u001b[0;34m\u001b[0m\u001b[0;34m\u001b[0m\u001b[0m\n\u001b[1;32m     22\u001b[0m \u001b[0;34m\u001b[0m\u001b[0m\n",
            "\u001b[0;31mValueError\u001b[0m: operands could not be broadcast together with shapes (1,2) (0,) "
          ]
        }
      ]
    }
  ]
}