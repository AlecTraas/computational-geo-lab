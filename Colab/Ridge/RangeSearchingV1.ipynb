{
  "nbformat": 4,
  "nbformat_minor": 0,
  "metadata": {
    "colab": {
      "provenance": [],
      "authorship_tag": "ABX9TyPReJaO2ekH21GCZ8sD6/zC",
      "include_colab_link": true
    },
    "kernelspec": {
      "name": "python3",
      "display_name": "Python 3"
    },
    "language_info": {
      "name": "python"
    }
  },
  "cells": [
    {
      "cell_type": "markdown",
      "metadata": {
        "id": "view-in-github",
        "colab_type": "text"
      },
      "source": [
        "<a href=\"https://colab.research.google.com/github/AlecTraas/computational-geo-lab/blob/main/Colab/Ridge/RangeSearchingV1.ipynb\" target=\"_parent\"><img src=\"https://colab.research.google.com/assets/colab-badge.svg\" alt=\"Open In Colab\"/></a>"
      ]
    },
    {
      "cell_type": "code",
      "execution_count": null,
      "metadata": {
        "id": "Fwky6f3LvPq7"
      },
      "outputs": [],
      "source": [
        "import numpy as np\n",
        "import pandas as pd\n",
        "import math"
      ]
    },
    {
      "cell_type": "code",
      "source": [
        "class point_builder:\n",
        "\n",
        "  @staticmethod\n",
        "  def build_point(values):\n",
        "    return 5\n",
        "\n"
      ],
      "metadata": {
        "id": "J9wN323cm9O6"
      },
      "execution_count": null,
      "outputs": []
    },
    {
      "cell_type": "code",
      "source": [
        "class node:\n",
        "\n",
        "  def __init__(self, value):\n",
        "    self.value = value\n",
        "    self.lchild = None\n",
        "    self.rchild = None\n",
        "    self.canon_tree = None\n",
        "    self.subtree = None\n",
        "\n",
        "  def get_value(self):\n",
        "    return self.value\n",
        "\n",
        "  def set_rchild(self, child):\n",
        "    self.rchild = child\n",
        "\n",
        "  def set_lchild(self, child):\n",
        "    self.lchild = child\n",
        "\n",
        "  def get_rchild(self):\n",
        "    return self.rchild\n",
        "\n",
        "  def get_lchild(self):\n",
        "    return self.lchild\n",
        "\n",
        "  def is_leaf(self):\n",
        "    return self.lchild is None and self.rchild is None\n",
        "\n",
        "  def has_lchild(self):\n",
        "    return not self.lchild is None\n",
        "\n",
        "  def has_rchild(self):\n",
        "    return not self.rchild is None\n",
        "\n",
        "  def set_canon_tree(self, root):\n",
        "    self.canon_tree = root\n",
        "\n",
        "  def get_canon_tree(self):\n",
        "    return self.canon_tree\n",
        "\n",
        "  def set_subtree(self, nodes):\n",
        "    self.subtree = nodes\n",
        "\n",
        "  def get_subtree(self):\n",
        "    return self.subtree\n",
        "\n",
        "  def display(self):\n",
        "    format = \"\"\n",
        "    queue = [(self,0)]\n",
        "    prev_depth = 0\n",
        "    while len(queue) != 0:\n",
        "      cur = queue.pop(0)\n",
        "      curnode = cur[0]\n",
        "      cur_depth = cur[1]\n",
        "      if(cur_depth > prev_depth):\n",
        "        print(format)\n",
        "        format = \"\"\n",
        "        #format += \"/n\n",
        "        prev_depth = cur_depth\n",
        "      format += str(curnode.value)\n",
        "      if(curnode.has_lchild()):\n",
        "        queue.append((curnode.lchild,cur_depth+1))\n",
        "      if(curnode.has_rchild()):\n",
        "        queue.append((curnode.rchild,cur_depth+1))\n",
        "\n",
        "    print(format)\n",
        "\n",
        "\n",
        "\n",
        "\n",
        "\n",
        "  \"\"\" def set_next_tree():\n",
        "\n",
        "  def get_next_tree():\"\"\"\n"
      ],
      "metadata": {
        "id": "Gd1-qV1JXKmz"
      },
      "execution_count": null,
      "outputs": []
    },
    {
      "cell_type": "code",
      "source": [
        "thing = node(5)\n",
        "right = node(6)\n",
        "left = node(4)\n",
        "thing.set_rchild(right)\n",
        "print(thing.is_leaf())"
      ],
      "metadata": {
        "colab": {
          "base_uri": "https://localhost:8080/"
        },
        "id": "_95QsfmvtYMB",
        "outputId": "f36b7940-6761-469e-d953-dfc45344e353"
      },
      "execution_count": null,
      "outputs": [
        {
          "output_type": "stream",
          "name": "stdout",
          "text": [
            "False\n"
          ]
        }
      ]
    },
    {
      "cell_type": "markdown",
      "source": [],
      "metadata": {
        "id": "ZuiV9fqXXJY1"
      }
    },
    {
      "cell_type": "code",
      "source": [
        "class range_tree_2D:\n",
        "\n",
        "  def __init__(self, points=[]):\n",
        "    self.points = [sorted(points, key=lambda x: x[0]), sorted(points,key=lambda x: x[1])]\n",
        "    #combine into one list for ndimensional\n",
        "    self.num_points = len(points)\n",
        "    # create sorted x points\n",
        "    # create sorted y points\n",
        "    #self.create_range_tree()\n",
        "\n",
        "\n",
        "  def display(self):\n",
        "    print(\"id\\tx\\ty\")\n",
        "    for i in range(0,self.num_points):\n",
        "      print(\"--------------------\")\n",
        "      print(f\"{i}\\t{self.points[0][i][0]}\\t{self.points[0][i][1]}\")\n",
        "\n",
        "\n",
        "  def display_sorted(self):\n",
        "    print(self.points[0])\n",
        "    print(self.points[1])\n",
        "\n",
        "\n",
        "  def add_helper(self, point, dimension, i=0):\n",
        "    val = point[dimension]\n",
        "    j = len(self.points[dimension])\n",
        "    while i < j and val > self.points[dimension][i][dimension]:\n",
        "      i+= 1\n",
        "    self.points[dimension].insert(i, point)\n",
        "    return i\n",
        "\n",
        "\n",
        "  def add(self, point):\n",
        "    # O(n)\n",
        "    self.add_helper(point,0)\n",
        "    self.add_helper(point,1)\n",
        "    self.num_points += 1\n",
        "\n",
        "\n",
        "  def addn(self, points):\n",
        "    # O(klogk + n)\n",
        "    new_x = sorted(points, key=lambda x: x[0])\n",
        "    new_y = sorted(points, key=lambda x: x[1])\n",
        "    i = 0\n",
        "    for point in new_x:\n",
        "      i = self.add_helper(point, 0, i)\n",
        "    i = 0\n",
        "    for point in new_y:\n",
        "      i = self.add_helper(point, 1, i)\n",
        "      self.num_points += 1\n",
        "\n",
        "\n",
        "  def build_range_tree(self):\n",
        "    self\n",
        "\n",
        "\n",
        "  def\n",
        "\n",
        "  def query()\n",
        "\n",
        "\"\"\"\n"
      ],
      "metadata": {
        "colab": {
          "base_uri": "https://localhost:8080/",
          "height": 106
        },
        "id": "GRVj6JG6vv74",
        "outputId": "32456ba9-ada8-4dc3-b6c5-40689546b690"
      },
      "execution_count": null,
      "outputs": [
        {
          "output_type": "error",
          "ename": "SyntaxError",
          "evalue": "unterminated triple-quoted string literal (detected at line 61) (<ipython-input-3-e938007c1fd5>, line 61)",
          "traceback": [
            "\u001b[0;36m  File \u001b[0;32m\"<ipython-input-3-e938007c1fd5>\"\u001b[0;36m, line \u001b[0;32m61\u001b[0m\n\u001b[0;31m    \"\"\"\u001b[0m\n\u001b[0m    ^\u001b[0m\n\u001b[0;31mSyntaxError\u001b[0m\u001b[0;31m:\u001b[0m unterminated triple-quoted string literal (detected at line 61)\n"
          ]
        }
      ]
    },
    {
      "cell_type": "code",
      "source": [
        "def rec_2D_range_tree(points, ndim, dim):\n",
        "  #points is sorted based on x\n",
        "\n",
        "  if len(points) == 0:\n",
        "    return None\n",
        "\n",
        "  if len(points) == 1:\n",
        "    root = node(points[0])\n",
        "    if dim < ndim:\n",
        "      root.set_canon_tree(node(points[0]))\n",
        "    else:\n",
        "      root.set_subtree(points)\n",
        "\n",
        "  else:\n",
        "    median = len(points) // 2\n",
        "    root = node(points[median])\n",
        "    root.set_lchild(rec_2D_range_tree(points[:median],ndim, dim))\n",
        "    root.set_rchild(rec_2D_range_tree(points[median:],ndim, dim)) # median included in right tree\n",
        "\n",
        "    if dim < ndim:\n",
        "      ypoints = sorted(points, key=lambda x: x[dim+1]) # sorted on next variable\n",
        "      root.set_canon_tree(rec_2D_range_tree(ypoints, ndim, dim+1))\n",
        "    else:\n",
        "      root.set_subtree(points)\n",
        "\n",
        "  return root"
      ],
      "metadata": {
        "id": "_uyBrWKAvdoe"
      },
      "execution_count": null,
      "outputs": []
    },
    {
      "cell_type": "code",
      "source": [
        "def create_2D_range_tree(points, vars):\n",
        "  ndim = vars - 1\n",
        "  points = sorted(points, key=lambda x: x[0])\n",
        "  return rec_2D_range_tree(points, ndim, 0)"
      ],
      "metadata": {
        "id": "z6JnK54_yPVt"
      },
      "execution_count": null,
      "outputs": []
    },
    {
      "cell_type": "code",
      "source": [
        "answer = []"
      ],
      "metadata": {
        "id": "KT0ueweXIMfj"
      },
      "execution_count": null,
      "outputs": []
    },
    {
      "cell_type": "code",
      "source": [
        "def find_split_node(root, query, dimension):\n",
        "  start = query[0]\n",
        "  end = query[1]\n",
        "  curnode = root\n",
        "  curval = curnode.get_value()[dimension]\n",
        "  while not curnode.is_leaf() and (end < curval or start >= curval):\n",
        "    if end < curval:\n",
        "      curnode = curnode.get_lchild()\n",
        "    else:\n",
        "      curnode = curnode.get_rchild()\n",
        "    curval = curnode.get_value()[dimension]\n",
        "  return curnode"
      ],
      "metadata": {
        "id": "QEyw_meF1Rqi"
      },
      "execution_count": null,
      "outputs": []
    },
    {
      "cell_type": "code",
      "source": [
        "def query(root,param):\n",
        "\n",
        "  split = find_split_node(root,param[0], 0)\n",
        "\n",
        "  start = param[0][0]\n",
        "  end = param[0][1]\n",
        "\n",
        "  if split.is_leaf():\n",
        "    if check_leaf(split, start, end, 0):\n",
        "      oned_range_query(split, param[1])\n",
        "    return\n",
        "\n",
        "  curnode = split.get_lchild()\n",
        "\n",
        "  while not curnode.is_leaf():\n",
        "    if start < curnode.get_value()[0]:\n",
        "      oned_range_query(curnode.get_rchild().get_canon_tree(),param[1])\n",
        "      curnode = curnode.get_lchild()\n",
        "    else:\n",
        "      curnode = curnode.get_rchild()\n",
        "\n",
        "  if check_leaf(curnode, start, end, 0):\n",
        "    oned_range_query(curnode, param[1])\n",
        "\n",
        "  curnode = split.get_rchild()\n",
        "\n",
        "  while not curnode.is_leaf():\n",
        "    if end >= curnode.get_value()[0]:\n",
        "      oned_range_query(curnode.get_lchild().get_canon_tree(),param[1])\n",
        "      curnode = curnode.get_rchild()\n",
        "    else:\n",
        "      curnode = curnode.get_lchild()\n",
        "\n",
        "  if check_leaf(curnode, start, end, 0):\n",
        "    oned_range_query(curnode, param[1])\n",
        "\n"
      ],
      "metadata": {
        "id": "m_ArNMUnmnIB"
      },
      "execution_count": null,
      "outputs": []
    },
    {
      "cell_type": "code",
      "source": [
        "def check_leaf(leaf, start, end, dim):\n",
        "  value = leaf.get_value()[dim]\n",
        "  return value >= start and value <= end"
      ],
      "metadata": {
        "id": "EoXOPkMYI4Xu"
      },
      "execution_count": null,
      "outputs": []
    },
    {
      "cell_type": "code",
      "source": [
        "def  oned_range_query(root, param):\n",
        "  global answer\n",
        "  start = param[0]\n",
        "  end = param[1]\n",
        "  split = find_split_node(root, param, 1)\n",
        "  curnode = split\n",
        "\n",
        "  if curnode.is_leaf():\n",
        "    if check_leaf(split, start, end, 1):\n",
        "      answer += [curnode.get_value()]\n",
        "    return\n",
        "\n",
        "  curnode = split.get_lchild()\n",
        "\n",
        "  while not curnode.is_leaf():\n",
        "    if start < curnode.get_value()[0]:\n",
        "      answer += [curnode.get_rchild().get_subtree()]\n",
        "      curnode = curnode.get_lchild()\n",
        "    else:\n",
        "      curnode = curnode.get_rchild()\n",
        "\n",
        "  if check_leaf(curnode, start, end, 1):\n",
        "    answer += [curnode.get_value()]\n",
        "\n",
        "  curnode = split.get_rchild()\n",
        "\n",
        "  while not curnode.is_leaf():\n",
        "    if end >= curnode.get_value()[0]:\n",
        "      answer += [curnode.get_lchild().get_subtree()]\n",
        "      curnode = curnode.get_rchild()\n",
        "    else:\n",
        "      curnode = curnode.get_lchild()\n",
        "\n",
        "  if check_leaf(curnode, start, end, 1):\n",
        "    answer += [curnode.get_value()]"
      ],
      "metadata": {
        "id": "s9iLUwYUd3fP"
      },
      "execution_count": null,
      "outputs": []
    },
    {
      "cell_type": "code",
      "source": [
        "points = [[0,1],[1,2],[2,8],[3,6],[4,7]]\n",
        "ypoints = sorted(points, key=lambda x: x[1])\n",
        "\"\"\"print(ypoints)\n",
        "# [[],[],[],[],[]]\"\"\"\n",
        "\n",
        "root = create_2D_range_tree(points, 2)\n",
        "\n",
        "answer = []\n",
        "\n",
        "split = find_split_node(root, [2,5], 0)\n",
        "print(split.is_leaf())\n",
        "print(split.lchild)\n",
        "\n",
        "query(root, [[0,12],[0,9]])\n",
        "\n",
        "\n",
        "#print(root.canon_tree.lchild.value)"
      ],
      "metadata": {
        "colab": {
          "base_uri": "https://localhost:8080/"
        },
        "id": "U5PEGhPJVoUI",
        "outputId": "72649c1c-3f67-47a4-99a2-ada6356a3d68"
      },
      "execution_count": null,
      "outputs": [
        {
          "output_type": "stream",
          "name": "stdout",
          "text": [
            "False\n",
            "<__main__.node object at 0x7c79697d3610>\n",
            "[2, 8]\n",
            "<__main__.node object at 0x7c79697d1180>\n",
            "<__main__.node object at 0x7c79697d25c0>\n",
            "1D call 2: [1, 2]\n",
            "1D call 3: [0, 1]\n",
            "1D call 4: [2, 8]\n",
            "1D call 4: [3, 6]\n",
            "1D call 5: [4, 7]\n"
          ]
        }
      ]
    },
    {
      "cell_type": "code",
      "source": [
        "print(answer)"
      ],
      "metadata": {
        "colab": {
          "base_uri": "https://localhost:8080/"
        },
        "id": "pYuDhoLTUOyF",
        "outputId": "bd724282-2822-4e27-a13c-8ba341216f0f"
      },
      "execution_count": null,
      "outputs": [
        {
          "output_type": "stream",
          "name": "stdout",
          "text": [
            "[[1, 2], [0, 1], [2, 8], [3, 6], [4, 7]]\n"
          ]
        }
      ]
    },
    {
      "cell_type": "code",
      "source": [
        "\"\"\"things to add:\n",
        "parser?\n",
        "AND, OR, NOT\n",
        "add points\n",
        "\"\"\""
      ],
      "metadata": {
        "id": "-CjOTao4x9fe"
      },
      "execution_count": null,
      "outputs": []
    }
  ]
}