{
  "nbformat": 4,
  "nbformat_minor": 0,
  "metadata": {
    "colab": {
      "provenance": [],
      "authorship_tag": "ABX9TyPyU8+0Qa1ucpUlvoGAbyBw",
      "include_colab_link": true
    },
    "kernelspec": {
      "name": "python3",
      "display_name": "Python 3"
    },
    "language_info": {
      "name": "python"
    }
  },
  "cells": [
    {
      "cell_type": "markdown",
      "metadata": {
        "id": "view-in-github",
        "colab_type": "text"
      },
      "source": [
        "<a href=\"https://colab.research.google.com/github/AlecTraas/computational-geo-lab/blob/main/Colab/Anna/test_anna05.ipynb\" target=\"_parent\"><img src=\"https://colab.research.google.com/assets/colab-badge.svg\" alt=\"Open In Colab\"/></a>"
      ]
    },
    {
      "cell_type": "code",
      "execution_count": 21,
      "metadata": {
        "id": "l0qy5o1tIfKg"
      },
      "outputs": [],
      "source": [
        "import numpy as np\n",
        "import matplotlib.pyplot as plt"
      ]
    },
    {
      "cell_type": "code",
      "source": [
        "points = np.random.rand(100, 2) * 10 -3"
      ],
      "metadata": {
        "id": "0Iu56yWR6-xq"
      },
      "execution_count": 22,
      "outputs": []
    },
    {
      "cell_type": "code",
      "source": [
        "points"
      ],
      "metadata": {
        "id": "ICvE7eCx7H-5",
        "outputId": "96363d3e-a701-4a5c-a553-6e5e26f2133c",
        "colab": {
          "base_uri": "https://localhost:8080/"
        }
      },
      "execution_count": 23,
      "outputs": [
        {
          "output_type": "execute_result",
          "data": {
            "text/plain": [
              "array([[ 2.07369898, -0.88922945],\n",
              "       [ 2.33621919,  1.43169332],\n",
              "       [-1.82856582, -1.31331708],\n",
              "       [ 6.18350152,  2.20721438],\n",
              "       [ 2.26830156,  3.07893242],\n",
              "       [ 6.59466096,  1.16623017],\n",
              "       [-1.14675336,  6.66587737],\n",
              "       [ 0.37268238, -0.11943051],\n",
              "       [-1.83798184, -1.32850337],\n",
              "       [ 6.49316908,  3.92959484],\n",
              "       [ 4.44979628,  4.4642212 ],\n",
              "       [-1.40426654,  4.23618968],\n",
              "       [ 1.45199557,  0.57243955],\n",
              "       [-2.34987731, -2.42658556],\n",
              "       [ 6.90391822,  1.63621868],\n",
              "       [-0.52408411, -1.48997387],\n",
              "       [ 4.46445161,  4.94150573],\n",
              "       [-1.10611039,  5.76711515],\n",
              "       [ 5.54611599,  2.6235268 ],\n",
              "       [ 6.36904087, -2.62049974],\n",
              "       [ 1.63277854,  6.97379599],\n",
              "       [-1.73353061,  3.06444402],\n",
              "       [-2.18630217, -2.53336293],\n",
              "       [ 1.18179511,  4.32283462],\n",
              "       [ 3.49236616, -1.08570429],\n",
              "       [ 2.93749284,  5.18114828],\n",
              "       [-0.57611237,  4.92395435],\n",
              "       [-0.42076729, -0.82670236],\n",
              "       [ 2.30314483,  0.11091435],\n",
              "       [ 3.60557143,  4.6521948 ],\n",
              "       [ 0.87306659,  1.99671023],\n",
              "       [ 6.18782562,  0.08241966],\n",
              "       [ 2.28026305,  4.45435416],\n",
              "       [ 5.06264966, -0.56676199],\n",
              "       [ 2.14815619,  6.46323917],\n",
              "       [ 6.15971882, -1.91596815],\n",
              "       [-0.73574294,  6.46210677],\n",
              "       [ 2.34964488, -2.55367393],\n",
              "       [-2.11463435,  3.30318132],\n",
              "       [ 1.52933995, -0.12809336],\n",
              "       [ 3.48298369,  3.6086716 ],\n",
              "       [ 6.15197157, -1.49188558],\n",
              "       [ 5.96852832,  5.78846254],\n",
              "       [ 3.43851724,  0.98085689],\n",
              "       [ 0.10488832,  6.28087794],\n",
              "       [-0.81764612,  1.11686831],\n",
              "       [ 4.14626224,  1.59869586],\n",
              "       [-0.53369369,  4.90584381],\n",
              "       [-2.7949816 ,  0.89189749],\n",
              "       [ 5.56165723,  3.98472706],\n",
              "       [ 1.29049732,  4.61744593],\n",
              "       [ 0.48466291, -2.64127815],\n",
              "       [ 5.64864871,  4.66899327],\n",
              "       [ 6.83446695, -1.75741476],\n",
              "       [ 5.64792419,  2.44649966],\n",
              "       [ 4.99335829, -0.5968632 ],\n",
              "       [-1.06043514, -1.41172241],\n",
              "       [ 2.76289048,  0.52566559],\n",
              "       [ 4.14153708,  4.33818165],\n",
              "       [ 5.78067363,  4.60702561],\n",
              "       [ 5.70214753,  2.47567605],\n",
              "       [ 3.0898811 , -0.36129529],\n",
              "       [ 0.7835337 , -0.03255315],\n",
              "       [ 5.31906003, -1.6393611 ],\n",
              "       [-1.95094235,  0.88778701],\n",
              "       [ 5.77045133,  2.37604893],\n",
              "       [-0.8739971 , -0.19806938],\n",
              "       [ 0.83377351,  3.78015368],\n",
              "       [ 4.50191994, -1.98933273],\n",
              "       [-2.91674955,  5.90553801],\n",
              "       [ 3.79802836,  6.41295128],\n",
              "       [ 1.66868822,  3.15159934],\n",
              "       [ 0.77374204,  5.82987411],\n",
              "       [ 5.73898837,  4.84658488],\n",
              "       [ 1.94373243,  6.72560938],\n",
              "       [ 3.70814532,  5.01007266],\n",
              "       [-1.84245074,  4.13002914],\n",
              "       [ 1.34862239,  4.41721564],\n",
              "       [ 0.89873497,  2.06811294],\n",
              "       [ 3.59493065,  3.29082214],\n",
              "       [ 0.96698905, -1.47726361],\n",
              "       [-1.73810324,  4.36517534],\n",
              "       [ 4.58539403,  2.39109498],\n",
              "       [-2.60664839,  2.75537619],\n",
              "       [ 3.84887077,  2.92888638],\n",
              "       [-1.44551904,  3.15954401],\n",
              "       [ 6.86724272,  4.47956298],\n",
              "       [ 5.46288076,  5.93314775],\n",
              "       [ 5.19006115,  5.60083807],\n",
              "       [ 6.89573959, -0.46060234],\n",
              "       [ 4.1012338 , -0.29336439],\n",
              "       [-0.0731099 ,  0.11348623],\n",
              "       [ 5.3333316 ,  0.00951945],\n",
              "       [ 2.680705  ,  3.80990245],\n",
              "       [ 6.8732363 ,  2.81739768],\n",
              "       [ 4.03589116, -0.45434791],\n",
              "       [ 0.39039913,  4.06791794],\n",
              "       [-2.24818509,  2.18213   ],\n",
              "       [-2.64930838,  2.95565009],\n",
              "       [ 3.25618868,  2.70643075]])"
            ]
          },
          "metadata": {},
          "execution_count": 23
        }
      ]
    },
    {
      "cell_type": "code",
      "source": [
        "# Helper function to compute the distance of a point from a line segment\n",
        "def compute_distance(start, end, point):\n",
        "    '''Compute the signed area of the parallelogram spanned by vectors (end-start) and (point-start)'''\n",
        "    return np.cross(end - start, point - start)\n",
        "\n",
        "# Function to divide points into subsets relative to a line segment\n",
        "def divide_area(start, end, points):\n",
        "    '''Divide points based on their position relative to the line from start to end'''\n",
        "    S1, S2 = [], []\n",
        "    for point in points:\n",
        "        dis = compute_distance(start, end, point)\n",
        "        if dis > 0:\n",
        "            S1.append(point)\n",
        "        else:\n",
        "            S2.append(point)\n",
        "    return np.array(S1), np.array(S2)\n",
        "\n",
        "# Main QuickHull algorithm implementation\n",
        "class QuickHull:\n",
        "    def __init__(self, points):\n",
        "        self.points = np.array(points)\n",
        "        self.hull = []\n",
        "\n",
        "    def execute(self):\n",
        "        # Base case: if there are fewer than 3 unique points, cannot form a convex hull\n",
        "        if len(self.points) < 3:\n",
        "            return None\n",
        "\n",
        "        # Find leftmost and rightmost points\n",
        "        left_most = min(self.points, key=lambda point: point[0])\n",
        "        right_most = max(self.points, key=lambda point: point[0])\n",
        "\n",
        "        # Initialize convex hull with leftmost and rightmost points\n",
        "        self.hull.append(left_most)\n",
        "        self.hull.append(right_most)\n",
        "\n",
        "        # Divide remaining points into two groups relative to the line segment\n",
        "        S1, S2 = divide_area(left_most, right_most, self.points)\n",
        "\n",
        "        # Recursive steps to find points on the hull\n",
        "        self.find_hull(S1, left_most, right_most)\n",
        "        self.find_hull(S2, right_most, left_most)\n",
        "\n",
        "        return np.array(self.hull)\n",
        "\n",
        "    def find_hull(self, points, P, Q):\n",
        "        if len(points) == 0:\n",
        "            return\n",
        "\n",
        "        # Find the farthest point from the line PQ\n",
        "        C = max(points, key=lambda point: np.abs(compute_distance(P, Q, point)))\n",
        "        self.hull.append(C)\n",
        "\n",
        "        # Remove C from points to avoid reconsidering it\n",
        "        points = np.array([point for point in points if not np.array_equal(point, C)])\n",
        "\n",
        "        # Divide points into two subsets relative to PC and CQ\n",
        "        S1, _ = divide_area(P, C, points)\n",
        "        S2, _ = divide_area(C, Q, points)\n",
        "\n",
        "        # Recursively find points on the hull in subsets S1 and S2\n",
        "        self.find_hull(S1, P, C)\n",
        "        self.find_hull(S2, C, Q)\n",
        "\n",
        "qh = QuickHull(points)\n",
        "convex_hull = qh.execute()\n",
        "print(\"Convex Hull Points:\\n\", convex_hull)"
      ],
      "metadata": {
        "id": "yw9WcXQeqKCQ",
        "outputId": "bdba0060-413a-4752-8a80-fe7ed0930226",
        "colab": {
          "base_uri": "https://localhost:8080/"
        }
      },
      "execution_count": 24,
      "outputs": [
        {
          "output_type": "stream",
          "name": "stdout",
          "text": [
            "Convex Hull Points:\n",
            " [[-2.91674955  5.90553801]\n",
            " [ 6.90391822  1.63621868]\n",
            " [ 5.96852832  5.78846254]\n",
            " [ 1.63277854  6.97379599]\n",
            " [-1.14675336  6.66587737]\n",
            " [ 3.79802836  6.41295128]\n",
            " [ 6.86724272  4.47956298]\n",
            " [-2.18630217 -2.53336293]\n",
            " [ 6.36904087 -2.62049974]\n",
            " [ 6.83446695 -1.75741476]\n",
            " [ 6.89573959 -0.46060234]\n",
            " [ 0.48466291 -2.64127815]\n",
            " [-2.7949816   0.89189749]\n",
            " [-2.34987731 -2.42658556]]\n"
          ]
        }
      ]
    },
    {
      "cell_type": "code",
      "source": [
        "def sort_points_convex_hull(hull):\n",
        "    hull_sorted = sorted(hull, key=lambda point: point[0])\n",
        "    return np.array(hull_sorted)"
      ],
      "metadata": {
        "id": "GySELDsPDbdZ"
      },
      "execution_count": 25,
      "outputs": []
    },
    {
      "cell_type": "code",
      "source": [
        "def plot_upper_lower_sides(hull):\n",
        "    hull_sorted = sort_points_convex_hull(hull)\n",
        "\n",
        "    # Splitting hull points into upper and lower sides\n",
        "    upper = [hull_sorted[0]]\n",
        "    lower = [hull_sorted[0]]\n",
        "    for point in hull_sorted[1:]:\n",
        "        if compute_distance(hull_sorted[0], hull_sorted[-1], point) > 0:\n",
        "            upper.append(point)\n",
        "        else:\n",
        "            lower.append(point)\n",
        "    upper.append(hull_sorted[-1])\n",
        "    lower.append(hull_sorted[-1])\n",
        "\n",
        "    upper = np.array(upper)\n",
        "    lower = np.array(lower)\n",
        "\n",
        "\n",
        "    plt.plot(upper[:, 0], upper[:, 1], 'bo-')\n",
        "    plt.plot(lower[:, 0], lower[:, 1], 'bo-')\n",
        "    plt.plot(points[:, 0], points[:, 1], 'co', label='Input Points')\n",
        "\n",
        "\n",
        "    plt.legend()\n",
        "    plt.xlabel('X-axis')\n",
        "    plt.ylabel('Y-axis')\n",
        "    plt.show()\n",
        "\n",
        "plot_upper_lower_sides(convex_hull)"
      ],
      "metadata": {
        "colab": {
          "base_uri": "https://localhost:8080/",
          "height": 449
        },
        "id": "BYxu9pv09fDv",
        "outputId": "92219931-e4e1-4b36-fe4c-0a4857d150ac"
      },
      "execution_count": 26,
      "outputs": [
        {
          "output_type": "display_data",
          "data": {
            "text/plain": [
              "<Figure size 640x480 with 1 Axes>"
            ],
            "image/png": "[encoded data removed]"
          },
          "metadata": {}
        }
      ]
    }
  ]
}