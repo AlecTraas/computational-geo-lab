{
  "nbformat": 4,
  "nbformat_minor": 0,
  "metadata": {
    "colab": {
      "provenance": []
    },
    "kernelspec": {
      "name": "python3",
      "display_name": "Python 3"
    },
    "language_info": {
      "name": "python"
    }
  },
  "cells": [
    {
      "cell_type": "code",
      "execution_count": null,
      "metadata": {
        "id": "d9s-ZPTYyteM"
      },
      "outputs": [],
      "source": [
        "import numpy as np\n",
        "import matplotlib.pyplot as plt\n",
        "import random as rd\n",
        "import math as mt\n",
        "from matplotlib.animation import FuncAnimation\n",
        "from IPython.display import HTML"
      ]
    },
    {
      "cell_type": "code",
      "source": [
        "finished = 0\n",
        "initFlag = 0\n",
        "fpFlag = 0\n",
        "spFlag = 0"
      ],
      "metadata": {
        "id": "Q45yHrh9Ee7U"
      },
      "execution_count": null,
      "outputs": []
    },
    {
      "cell_type": "code",
      "source": [
        "numPoints = 10\n",
        "points = np.random.rand(numPoints,2)*20-10\n",
        "hull = np.array([0,0]).reshape(1,2)"
      ],
      "metadata": {
        "id": "LHeoNBtKgGQk"
      },
      "execution_count": null,
      "outputs": []
    },
    {
      "cell_type": "code",
      "source": [
        "def findFirstPoint():\n",
        "  global points, hull, fpFlag\n",
        "  sorted_indices = np.argsort(points[:, 0])\n",
        "  points = points[sorted_indices]\n",
        "  hull = points[0].reshape(1,2)\n",
        "  fpFlag = 1"
      ],
      "metadata": {
        "id": "DDurLqstgAPN"
      },
      "execution_count": null,
      "outputs": []
    },
    {
      "cell_type": "code",
      "source": [
        "def getAngle(prevPoint, curPoint, checkedPoint):\n",
        "    if np.all(prevPoint == checkedPoint):\n",
        "      return 0\n",
        "    vector1 = prevPoint - curPoint\n",
        "    vector2 = checkedPoint - curPoint\n",
        "\n",
        "    dotProduct = np.dot(vector1, vector2)\n",
        "    dotMagnitude = np.linalg.norm(vector1) * np.linalg.norm(vector2)\n",
        "\n",
        "    cosineAngle = dotProduct / dotMagnitude\n",
        "    angleRadians = np.arccos(np.clip(cosineAngle, -1.0, 1.0))\n",
        "\n",
        "    return angleRadians"
      ],
      "metadata": {
        "id": "yZV543JtfKgR"
      },
      "execution_count": null,
      "outputs": []
    },
    {
      "cell_type": "code",
      "source": [
        "def findNextIndex(prevPoint,curPoint):\n",
        "  maxAngle = getAngle(prevPoint,curPoint,points[0])\n",
        "  nextIndex = 0\n",
        "  for i in range(1,len(points)):\n",
        "    angle = getAngle(prevPoint, curPoint, points[i])\n",
        "    if angle > maxAngle:\n",
        "      maxAngle = angle\n",
        "      nextIndex = i\n",
        "  return nextIndex\n"
      ],
      "metadata": {
        "id": "7xZf2xd78kI_"
      },
      "execution_count": null,
      "outputs": []
    },
    {
      "cell_type": "code",
      "source": [
        "def findSecondPoint():\n",
        "  global nextPoint, prevPoint, hull, points, spFlag\n",
        "  minAngle = mt.pi\n",
        "  nextIndex = 0\n",
        "  for i in range(1,len(points)):\n",
        "    checkedPoint = points[i]\n",
        "    root = points[0]\n",
        "    vector = checkedPoint - root\n",
        "    dy = vector[1]\n",
        "    dx = vector[0]\n",
        "    checkedAngle = np.arctan(dy/dx)\n",
        "    if checkedAngle < minAngle:\n",
        "      minAngle = checkedAngle\n",
        "      nextIndex = i\n",
        "\n",
        "  nextPoint = points[nextIndex]\n",
        "  prevPoint = points[0]\n",
        "  hull = np.vstack((hull, nextPoint))\n",
        "  points = np.delete(points, nextIndex, axis=0)\n",
        "  spFlag = 1;\n"
      ],
      "metadata": {
        "id": "XTZKl6YfuljU"
      },
      "execution_count": null,
      "outputs": []
    },
    {
      "cell_type": "code",
      "source": [
        "def findPoint():\n",
        "  global nextIndex, prevPoint, nextPoint, hull, points, finished\n",
        "  nextIndex = findNextIndex(prevPoint, nextPoint)\n",
        "  prevPoint = nextPoint\n",
        "  nextPoint = points[nextIndex]\n",
        "  hull = np.vstack((hull, nextPoint))\n",
        "  points = np.delete(points, nextIndex, axis=0)\n",
        "  if nextIndex == 0:\n",
        "      finished = 1\n"
      ],
      "metadata": {
        "id": "-V9hibQvtaX5"
      },
      "execution_count": null,
      "outputs": []
    },
    {
      "cell_type": "code",
      "source": [
        "\"\"\"while True:\n",
        "  nextIndex = findNextIndex(prevPoint, nextPoint)\n",
        "  prevPoint = nextPoint\n",
        "  nextPoint = points[nextIndex]\n",
        "  hull = np.vstack((hull, nextPoint))\n",
        "  points = np.delete(points, nextIndex, axis=0)\n",
        "  if nextIndex == 0:\n",
        "    break\"\"\""
      ],
      "metadata": {
        "id": "_EtZmUU9keVu"
      },
      "execution_count": null,
      "outputs": []
    },
    {
      "cell_type": "code",
      "source": [
        "def update(frame):\n",
        "  global finished, nextIndex, prevPoint, nextPoint, hull, points, initFlag\n",
        "  # Clear the plot\n",
        "\n",
        "  plt.clf()\n",
        "\n",
        "  plt.scatter(points[:, 0], points[:, 1], c='red')\n",
        "\n",
        "  if fpFlag:\n",
        "    plt.scatter(hull[:, 0], hull[:, 1], c='blue')\n",
        "    plt.plot(hull[:, 0], hull[:, 1], c='blue')\n",
        "\n",
        "  if not finished:\n",
        "    if not initFlag:\n",
        "      initFlag = 1\n",
        "    elif not fpFlag:\n",
        "      findFirstPoint()\n",
        "    elif not spFlag:\n",
        "      findSecondPoint()\n",
        "    else:\n",
        "      nextIndex = findNextIndex(prevPoint, nextPoint)\n",
        "      prevPoint = nextPoint\n",
        "      nextPoint = points[nextIndex]\n",
        "      hull = np.vstack((hull, nextPoint))\n",
        "      points = np.delete(points, nextIndex, axis=0)\n",
        "      if nextIndex == 0:\n",
        "        finished = 1\n"
      ],
      "metadata": {
        "id": "GIhRHuT9Dq9A"
      },
      "execution_count": null,
      "outputs": []
    },
    {
      "source": [
        "fig, ax = plt.subplots()\n",
        "\n",
        "animation = FuncAnimation(fig, update, frames=range(10), interval=1000)\n",
        "HTML(animation.to_html5_video())\n"
      ],
      "cell_type": "code",
      "metadata": {
        "colab": {
          "base_uri": "https://localhost:8080/",
          "height": 915
        },
        "id": "g1rP4Dry_ahh",
        "outputId": "75a02f31-3d1d-42d7-cc71-db2c77438abc"
      },
      "execution_count": null,
      "outputs": [
        {
          "output_type": "execute_result",
          "data": {
            "text/plain": [
              "<IPython.core.display.HTML object>"
            ],
            "text/html": [
              "<video width=\"640\" height=\"480\" controls autoplay loop>\n",
              "  <source type=\"video/mp4\" src=\"data:video/mp4;base64,AAAAIGZ0eXBNNFYgAAACAE00ViBpc29taXNvMmF2YzEAAAAIZnJlZQAAQbhtZGF0AAACrQYF//+p\n",
              "3EXpvebZSLeWLNgg2SPu73gyNjQgLSBjb3JlIDE2MyByMzA2MCA1ZGI2YWE2IC0gSC4yNjQvTVBF\n",
              "Ry00IEFWQyBjb2RlYyAtIENvcHlsZWZ0IDIwMDMtMjAyMSAtIGh0dHA6Ly93d3cudmlkZW9sYW4u\n",
              "b3JnL3gyNjQuaHRtbCAtIG9wdGlvbnM6IGNhYmFjPTEgcmVmPTMgZGVibG9jaz0xOjA6MCBhbmFs\n",
              "eXNlPTB4MzoweDExMyBtZT1oZXggc3VibWU9NyBwc3k9MSBwc3lfcmQ9MS4wMDowLjAwIG1peGVk\n",
              "X3JlZj0xIG1lX3JhbmdlPTE2IGNocm9tYV9tZT0xIHRyZWxsaXM9MSA4eDhkY3Q9MSBjcW09MCBk\n",
              "ZWFkem9uZT0yMSwxMSBmYXN0X3Bza2lwPTEgY2hyb21hX3FwX29mZnNldD0tMiB0aHJlYWRzPTMg\n",
              "bG9va2FoZWFkX3RocmVhZHM9MSBzbGljZWRfdGhyZWFkcz0wIG5yPTAgZGVjaW1hdGU9MSBpbnRl\n",
              "cmxhY2VkPTAgYmx1cmF5X2NvbXBhdD0wIGNvbnN0cmFpbmVkX2ludHJhPTAgYmZyYW1lcz0zIGJf\n",
              "cHlyYW1pZD0yIGJfYWRhcHQ9MSBiX2JpYXM9MCBkaXJlY3Q9MSB3ZWlnaHRiPTEgb3Blbl9nb3A9\n",
              "MCB3ZWlnaHRwPTIga2V5aW50PTI1MCBrZXlpbnRfbWluPTEgc2NlbmVjdXQ9NDAgaW50cmFfcmVm\n",
              "cmVzaD0wIHJjX2xvb2thaGVhZD00MCByYz1jcmYgbWJ0cmVlPTEgY3JmPTIzLjAgcWNvbXA9MC42\n",
              "MCBxcG1pbj0wIHFwbWF4PTY5IHFwc3RlcD00IGlwX3JhdGlvPTEuNDAgYXE9MToxLjAwAIAAABYn\n",
              "ZYiEABf//vfUt8yy7VNvtguo96KeJl9DdSUBm5bE7TqAAAADAAADAAAevBc4Al+JCvOvAAADAMqA\n",
              "GE2T/hTHHxEW0GSD3/qnZMj46MeedwKnZHNbZGMGbvQfHfIVNo3/4pcMu+K2pk8FR0c3ugpu8QI+\n",
              "dqlSM2uOietlavNq6a7Ith4E2El6cx8Wl7J+2S3gL5uStxvclb0hGfhMlSyrZfrJqJwjA/2TBe1G\n",
              "rKNqbSbN0MnZOpbAQjhUxfbYT/4B8vuH9Yy+K3I2y9y+YH7WVDmmqj/IZg31yxREWqDxUwHFeiWL\n",
              "vYvQCYh06sDUAmOmMTX+6MylJqqDIyWHGKrwUxPLkQ4xI2u4vyZRCUOj4UvqOylj/aneKeQpVPYZ\n",
              "tKhJ9tEiSn/9mEnl8zf76V6Ct9+L0uExSs/PUI0ComlfgWYvw3WVT7XzSbyKAbqWs68mmZ1hP8W9\n",
              "QAy9N0FFtxigNXbAhFoSEsq1nHCZEwdDg0yZw9l56lbS9pQejsIH4BGgquzbqkrPFV8fkF0Wf+MV\n",
              "jBUGSk9b/qLA7mnFl/nngIBvlaaSE46utUm7MlXRgiBcayduNg3VcME40IhhtYkNAE2qLNqKijBk\n",
              "6qfwbDDFVTnGlejVbWFDK9alAw/91oArZwkk9yZCWxML7R+FEQSxWXM0HnqH2jw/Mavfp5eUdCjo\n",
              "2PKrbh+lApUfP7nwSgw1LahMMkIoB6Sb/6lBebPJuxYg9xFg1FV3FCCx0qL9AzB1YQHobCBT5R0f\n",
              "wLKfACUa8o1qzibTTroPYC6mwJuMW78+UMbpHWgteK5DW9dDys5/7UXSTZw0qRBCTm9cX6owaqoz\n",
              "5K5WObY/VHoVP8tBDEl7vmRWQnug2tt/MOXRYWZxUhOSB3Z8EO8PVmk+ABd06nfEve1RVjmNtZrR\n",
              "z/9wmvxU4R02nYGQToun+N9X/8P1nKtKF/7xvbLWdPYD0e/QyRSfY+CFVQ2apt/gjdpJ9AKsg/3F\n",
              "Scj7h77byQB3lQAC1Hw8f0PgeV5QOmZRTulLBMApr690e9z/vf6d8GKIwO89s4uJWKttQTotucNv\n",
              "o4V7po8AZ4i/Fq2LCbH7r+Z3RoZ47rKhF6P5QT3WVuAqbGUVwzHbctjW8ETl/mjToIHOXvu34E2m\n",
              "vgTLj2dpN0eJX0+S8ryr4KN/5tPP0MEc1IkOwl8desImUyI108vdGmHAmLtPWQhGlrjJ45AlyFUR\n",
              "fx+zD/OHTZNkYtFa5IxHKrLuLHzeisQxL1gQjLLfnsiflz5/V+F5aZPYR9uG2bYbJGQYBdd1QsO4\n",
              "1UeK74sZ85HW+D10VnRrTIh+pjEYSaKvd06sKoNNryidf0x/mBRRqx7q2sV2/ScqxAEFo7blF1sZ\n",
              "s+6G1mTtEuTf+a6V3oRrSm9sXByhJBmkk3B8qoWRCZmk4+gGv/71XebKzJN5rfhlUVQ3SWzMlYvc\n",
              "vJz7HOWM8GtHrhvQVscu32zrQxYM+Yzu64DAnjORrAagJLbcDrK2h6GeAg7e01vl6x4wTUZS23M+\n",
              "pU+OrAlI4L/aX+0kGBzGpElScF70uf7qdvqZI7Jp7+JqXSwRlH5zOjfwyXDjvNCgSPYP+fKHWJiU\n",
              "0Cr0QnyuW03jywHHsLFmKLdYslTOjvE6xXvBDvsBlCbTk0XdRapWZm2XQvMehJLERQf9tPgWcAgH\n",
              "6zNVk1nOobLKlHMexwdCNc48RocAwXD6Se7kRDxqffcxD6usCE+pvwVxNNNJm4+dDNMGwIBiNXkx\n",
              "Au6+yFHRXkeEGzmYjhgM9UD0sQrmKdVKX/m1x2NLlulHJKbc0YNA2lXkc2fq2/mcmtjwAVRK/TbQ\n",
              "uLBGNV7H2ZoutT9N0H5OHPbQfy6Wsxml8A9JRn8E4T4K6dPndxkbDd2R4cOLvkWxPMPvNkQ+hHqO\n",
              "I8E/9zmCgJrK1xWA0OOtTsR/xrD6P49FqVah2urjFSgPZGrm9+XCTwl3v62otWTE/T6HTdnbWsv/\n",
              "/w5Z36M+jB+hRPSu8tlG8M4M9io66NqM8zrust6qmBVmHiI0KQhYkTl86goZp83Bn7no2Hy3YwoN\n",
              "oPGvAe/EdMrLYN0X1X2exbgkZM9ZEWXil8c4HjpXKnjbiZyhDE5KVJxROeIRkLWkl82W0qZHb6xQ\n",
              "gmQIlyQ2u+ZcZzwDwwkKXd3mmuYtZP5mqWBln5xZlS+AH2t3wchtwS23KoS3hKrYq4bMmZw3qlwX\n",
              "SbE7Ch+Ue/XFSLGVUzjZOu5LP6nYnfGLn7601EXI63tGGjOtTNqZK+YHoiY4Ni1hYTwc1DwBS8kA\n",
              "fLBtMxPC0hEJl/m5asdxQYUgftoW4B+lULWWsDttKrNGindg2ct8kCJNjg1IisPWlnEtK3J1RMCY\n",
              "X1DV0sphEj9RcxbCqfSX68UfF+cr+oaU1Nu/rDh5mwsdylspqywDogrA393BUO5f53REtcrTJvob\n",
              "cEbEg2F05eMISXflXXSjTWpUwBFba0DTzP2hw1vWbrX6xw/hKScKVULQ4VBotgB8pIgiWLH/9iLl\n",
              "ih+d7ax5h4TT0MYbnCETUEqqmczmeLuvB981ARKPx8fcFpGMRsSI8yo9NJ/aZS9yF8wztjyADubo\n",
              "OsdZK1VHixvTlIQnGt9L/wyzHD/NX5cTK0WmCrDM5483qFVFIFWihaZXerySDfg45ze1s633+4Ve\n",
              "5LOcX0eqTm02Ch5g4BctepF2D0t14v91va5WyxRYdkNoqUS1tvZZ5HXE1xCEyc92yQJTZWB01kkg\n",
              "qR46HZYI2qVLFznvy/H6HM9COgbMGMhrEzpY9PGPlaH6nJiP44ppM+sIyimxiLFrbr6k++jQP3RG\n",
              "kYy8N7G8oZEYZZandyV1sZdiUDeqWuhVLjvXtOtlk8JzJHM0qDVm8xM9dG/3cvjJyDS8Rj//uD1U\n",
              "AXWoMARl8dHRniAFbWRzUwc0Sun/M3yV/1np+tppvieabq3K606vxm3wbvfpYQWozBurDp2xrqtM\n",
              "+MTZWzc6mvQHbwX59wFCA4+DPcAlYinqW8j2za/IPBNEzuaLfrCxL4B8KA8Xo4faL2Q/k3fNVFFF\n",
              "FxFrw22BcD7t4HayGvanRVn75vfJeFl/q0frBcAzZGP5Vvk9mWg0tOnYmqvGaYDbvTr0ZGTRwam+\n",
              "j+ytpRnZVIvLpi+mkdHVlXK5LJ8rv6nCNmZqX1KrRKuhq5MjwyF6RF2HKAR7RRIDIFh5zh5fVvW6\n",
              "PGRL85tH+xqRFYtHrvgbFOurzfxRMbBAOUbKSDBeH1cFB95wQi5G9lyaf8khZLeygqI1rfFH4xIa\n",
              "v5lgvRog7VC7RgEV8oJsqsCIUm20zSbUtvDbBQydTELKcl7zYANFW9qMavJf53/TU/yxD1zb1C38\n",
              "EiosXiYh3nR3HsOAstyTK5riDADC2mJI4wA+RIH12i2cbzgwIkmc16pApbL/L9g1Q3voILIl7OL7\n",
              "yKb0HyJs7DtzoYGYIilQpArdA7yrIn/OCIPPRvyH96NbKOJ7YWBAbFV1z/p7E81pWrvdOgm0ZFGU\n",
              "cdqHMy5SrSWvciqTlCPXkC0ETdUHqC3eovn5wCPlT//8ZyAD8ktZKxWRrpk89ZCXyQZIu+J6B6Fc\n",
              "XjlCJKJuFCqF7k13dVWDNXzthZa3wDLCCqsN+XNY8tMShluulRwBaA35PbSF5LiFijHfE8MiLums\n",
              "tP875HeT1hW5k0DL3lMQliFL9N0cZOGWq5h2PERiG49ITNK9do0cA04VL6mA15EoQNcySQaxIgA7\n",
              "gHf7R/2tmud1zrh6X4J41BQuTFS+c24G1c6ztkPo9CNXwcYaFF7Y54APfCQNVtC8apE9WAt503NL\n",
              "9qrCegC+2WQskNo5juEhS74SoNkbAMs80h5XTm8NRm3qkTifKxdYSseBlikdihdG3OWUjVqtPmwu\n",
              "CsWOajKdpezw5UwcPJF3NwbrLnsKHotv6ggbiXt5ja8HhJ+EOZDg2fkoxKsvGsSDPiwkvIxvVDn/\n",
              "7MTUigHWrMc4n5tspynwtKDzKP5CzxGlwusM5VD+7JlQkv8UU6ZZHtxXZhVm1hpXja+wOSYyawHz\n",
              "NogR+YGJnDtk2yHVyhAcjlvhQuX1kPdAlhXcxHT2Y3IwkLDf2hyIobCOth0geHrAIiaPTXBukxRg\n",
              "s6DY8GCFrTtoYXMRUdyHjoob6tt9VG10nyDojwJWIcsj6fJG0Mbv9aS+lJ+YmJXEGCJBx1wRdEj1\n",
              "2hwGGMQ0LKUQRtO1qDuq6D61DWgwiJajwtg4uVcrEtdChYDA91PXDiuOIigtC7hi/Ru9q6GxDeAf\n",
              "rdgd1TwDKfVVJggNXhBAJMAFSOLpuRHXXWLJHXTnqNt7T8EuEKTH6lxfcW5bZ0947DrSUN69SnxI\n",
              "GWKXpDw8Vq8HU0R6TR4V2L1cTUZzo6rdLCZXB6oVuyduTMdWcQxZAmtG8zMgtPks+69UVEA5F/qY\n",
              "CPK7pyk+7IPsAAADA38ip/b+fQAIzWZvE4CCu0f90k7o2yKmTa6FrpWHgxuxBEprzGw633eApK0O\n",
              "ojNtbKqovgoMWSkoaGzS6+6pU+5hdQufuK9GwTPkm2PrbeWi7JssLqrX6bBKK78y+6B/9a+HuZt5\n",
              "CPT4Kz5jZySGv5vtLWIWFgKSHPSCuV7Jk0Hna5mvOGAcIu3fi2+b5IcocCQ2Ot0YKMyJh048jLQ8\n",
              "3YviRNf6YiQNhwGtWvxV2bR3mAzsqnbW/1kwsnVyESS1NIbh2sgjsd9EQYdb9Kebj7Us9H5kRAur\n",
              "/uXKyjOpNuaq+fXjH5+KK0jgZ5iFLRfqas+mdGi9Iz4u7+vI9/VUkRxqRBIsxzzKrruxLAyOv7Wi\n",
              "ArD0AC9u3DRDAhHR/9FyucArr4wh3IN6GKMI4ZHArSDvupyNhMa4/1gWIYMIvyTEplsbvYpSF49n\n",
              "wahVL/f+SiL4PKqghqsMr7YMD77z8BXajZl1Lg3nix/UG3SUzbjqNueEwSUAB5KlLPO9soL+3AG0\n",
              "Bya5IzgA8tiAdRxBCHAZljPqDgm2Gqw8E/f1402IHVbCud06wZY9BPG5qBT02uZv3pJ1gPI+nsg0\n",
              "DZg72XR1bFBY7qJhTnNzpNQmebqPNKUFZEUyLGeq+9n9/xeWpeHv8gOTJpGpL1O8wvtphxSv/ZLh\n",
              "KsKSsjKhufJdNJrlOKN7AsD+IGmIrMNg1quALMUzHv7XGewhEcRu6SYtPM9LB8j7ZhlTExeJ3o12\n",
              "kZDdfv4Ht55poutKUbRO+wAY3zp2iBtGUvjNcpd+BoWFDrCJqeG0yEYs9QKBFiCMj+Ms4r5lUE7R\n",
              "WXCPQYIA04mxuXplrfqzgJbMax2pesw6+JhQOnuB7qO89Q1s5uP9LSazF5k853f2/MyI0RYKwytg\n",
              "71zP4sdxPtd9Ra/rBj2bUaN+Y2IbaOyEzQuTFrBu/tpzAhrwNXxONbChyX+v//ccfI6cCDFigOYG\n",
              "ZW2onuMlKC4DsFixYbmQu3ldi2acYwF206ZOHPnovr/c7vGHvXJb6jh92cVM06SBncfFlU4GO4c9\n",
              "UZLxhHUXEFB7KClp7eG94y4UTlQEWoznD57Fj9pDsDc1WyTxRMt6lg1/AfFgN+uYrCmRiTpcpEOZ\n",
              "owudITRbD94Dhkbn6WazQgerbWciMPPA90lehyXvPZZjB4s6T4ecnsghmk5LyHK9rorOn9pCD5gv\n",
              "ykASYGptLEoU2qH8aOoGjtu43LM478ZnDjkwMnPaWLAf0prz8AHrJ0jnsXFEu7+IDbBx5Y9XCEb1\n",
              "9bm8+OEUSrwLN2uAfIA1OwhAqjbwSwpaBYQaMWBqq1ObYFDmvrXSJKrk9hDuveTtWgtqy44PhPQB\n",
              "CdzNwc1U36L+xGWaqc3zCjdqjLcqe4a43aMQ7+H3oxJJPvvRVXg6w7UTgIz/zv/pL/98H3zeaLID\n",
              "gymm/UMvgQyiIThKb8yEBLVpXnwUrazJeyxyK3p3VGfszwUoVMOfdNg8USX5yr675AiLbJZX3s6Z\n",
              "VyKJbHtn7bfG4mMRPmOtFXeKcJiPV+LmXIi4BHy0xbbAuk8eb+AlFiR7VnxCh/+TOv1uHwNQYQkN\n",
              "0mpnl8HbJbKDYGoymuxvIKFixKmiecfpLgX4aCmmZKKe7a+kV+LwJ4PkJ6z1XF5BrbR2lbIUSRzw\n",
              "+yCqdKgas1DItqUY59ouvm2amFtRvB3ee9k8wFhdkPEa2vMpasAc/25adJRlFP22w56Q0WFWeNh7\n",
              "cBlHyrCiOiPSQwG1hsBCT9NPoiaHMEAghpkacT/pBAaVzZh/JCHSUfx+cyg/W2/SpeA27Hwea0Gr\n",
              "y1eVG9UOCc88II1DgD+TZvFZKaYWGtNtwsmpW6JU5UI2ufbZ+k+QWKLZ7fd5JRGNA13hIKyK0BWI\n",
              "PVmUJ6ISPadf/ccagiiQVwOaLIs6RfamgZKfudg/ySW8W+vlrxZpQegG/Posi8RF1lYzlgkj/Yxy\n",
              "omPOa57W0/ABNXB1jI0wMVj6UJC8/LNGQs/S9Xx98F/cIWuJm7ZCdWO2zat+EHTFBgLiHJnOh5OM\n",
              "hPcbCq7g1+OUG8XXnagHddANmFkID4AkjELSRet4lXbTYK4VJG4CksxMMWVMoWnz+xQ4mVaFgEZe\n",
              "JC0IecKBLAWh3Md5Pmong40QL5It3q/+nOPD20fQZlOZ38Hv/MS+MENmpRU4k3bq/Sagv9qH+2Fd\n",
              "uiVzVOUV/fkjso/dSLb/fjRteZk3IJmdqiq5a5fxzSFwAKDFsQcy/9R6IP3WCTRlcq1cpWtW+tSK\n",
              "E3MtaNrtIjmmHHZpLU6iWhSEiQqrDHZU10BK2oQTbDOO8fZWhebAn7t6rpvW9+YG04EuduyGudmi\n",
              "QF6GgF1RpRZNiJb2T2xq7ovkULBhtoXmGc0K9Imx1DcxpR+BOmt6g/OluDktDQCAARKRenEIqTE2\n",
              "Ai8X9oy/G5dtSfECxb7OBfhXqMCyRS54jXvbdezhISaQvX3nGd4MM97bBTRWzpXUQ+N3DKjM6531\n",
              "pVYQJVNTRuyIxfuS4o5nxxXWz3d0+MRfJUxWhA3zBc3rD5J7u41Jwx9vGdGe6Kd/cVAXmKnv0Mek\n",
              "iGfyZpZwa1fZkfT0v489kmyxQJPBG8+vGVCcJXfrO/vHp+nsVcSO3JGfcKc2COCoCeczUVzaZt6B\n",
              "xhhL14sS64mn3ecmCsFYAz6p27JDs/sDcamBh1lAioD5Ke/o3XlOoV8ldCPY/KTCe4vHbQJQYK/y\n",
              "u1ATBSXaTX90YevQg1jwKnpq4zihA5ReNCi3s1s4ryQx54cpl1ZWiIQco0zeQiuESaUFqj9SXHxI\n",
              "68BshR/ygVtVI1zJoTzQoSGo8De8i0h4QsyopoRR9zPw8KxRq0+sfktqOKvAkyAd5XLp3+j++Bce\n",
              "NIWfXYSzJXmXMUy9lkh7KztieyHQzfyxPvd8K36+7X//t8vhJl//+GGf+1hdXiVCbCWnKz93+8Ox\n",
              "oEAXgkdUaEvAx31IoL9kj/LSL/IdbFn8buAyIOt4c4+A2xZoi+OPIL9yPYPgBw3iw27QNUkWXUF1\n",
              "EF9tIVwpCmYyk4nLvxok8H/k4Ldj53JWdHbLz5ZPV9sL3vsBldJCE2CBz0XM3Swq+RlQ0Cek5eYK\n",
              "hY5mwCWdwkmWObyB8IgrJ8GqCCL96lZGwAAHzQAAByVBmiJsQX/+2qZYACYOx0pADYhIC6bTuELn\n",
              "is0sazilIAArKnlBq9Z1Y6ywNNIwQ5SuvSajIrHfTnlbYlt1m+3Bn2myICUAnS3T8BS116Jmz/0f\n",
              "+CxzcBT88U5G1JM7bCrHy4fUYmJxQQvvpdZpTNCpKUiotF+tnRtNbuVnJAAM9tcq2jYnqkbujd6P\n",
              "KK66bH/yQIapVDvO5dRa9f/sn7BprkTbdJo/7m9DbnJGfZXbxEXfkGQu/deWKer3FNXjR/0sN4RN\n",
              "Aa4UExHiEngwX/D7VEUqWdLRFbz55VC8ck90akI8+VQbhvRAWKUdNSU2GP4aaDxQt8Abq790XVSb\n",
              "nMKYJOFz5mel72GQotxZeq/loVbcf55j8weALHknJuyySQo23AzrKfUrfoMXIDnvIefdYx82RFOT\n",
              "e42B2stl6OhwbTsXbclkdy1kTPeScMguuIECx5k/99zj1Dirc3GzCvgoq1tJ5OVURQSudxxA3/G5\n",
              "4ibwhoia47+WEmVrDgqhbzDLgvzEkZQF330TiYjUdWSLR64B8Yxzu2lWb0t2BIbcDP3AwJzE78B8\n",
              "KpPVDEuQWG6r+0jMr3uT+uiYqNz5B5n0zENxUHjuYACJzIPerJtonejF4l0qtEcyY+gJowcV7A+d\n",
              "p0hmvcFBdFt48hz2l+tcrjdWnEI3Y0KXXk2H9nkR1APYOkb7rLHFMYQmKj9BNbqRh/CNnwNXI97h\n",
              "rW48N0E2Kt6EYMykTU+cOv1IDTf2x+K5cZ+4KDDFdSZFtgmfFlKFxxmYLzxYrGucOIVXD7cbV9FX\n",
              "am9fAf2hSIOGTmqMJxdM5OeQbww+s8HrVrkRkgBQ/HOUwCRJ0JJs145CGNsdOuoL7jOGvTo/7xHZ\n",
              "kFF07NNuR6tItqNb9ePo8+SWXZYFKFcLCUz15KXsodkArMhep3dxcoFSFqd3e5tQnb08low5iCQx\n",
              "cjFY3I1dKgSnZl5J5Ypf31uK0WOwD/TEhCBW3YGTvNhGjahb67FhwzfD7FYbkAtK5q+JnqGbC5fP\n",
              "IB+XTDakziZA02tnBqSo2oRNjj6Sd2j9/7urXY42zVEtN8x77WV96tfDM45KHzuPPcqsm9hfumhh\n",
              "vWBmsG4hjqzSbxlXl+gyJX6mD7YM4jlB1XvTk3+Rgt2KJTjh1Qb33K1cu+rZA+rV8IrJZGBloqK/\n",
              "pCj0tRg+kZOK4T3QT1Ib02p4f/vVUi7FatiWMnTZ5/UturHkh9fYoVKPypiT6kOTpbeUUXlcXqYq\n",
              "HfApGsrBDXaXbASDup53BWgBvMTk3Pelw/tcrUttOscpq2eAcBIf4Sq6aUw5Hb61QliXvzaZydp4\n",
              "sphVcL9gjbpy7Gz48KAUI+EICUL1zdzUCcu7bjkc/A3qBNNMlYud2r9B23R+FBNESmKLv5/8rl94\n",
              "oio2y4pUasvtr5LIwMcnvJgU0CqERswREHlp0khQhjIYnJq57TPRPvYtTmEwr1Mi4M6MIvDeluoC\n",
              "RGdmtXenwAWudpiLxDVC3omhkhaPsa1OYpT8KusyraQz5jDeUu+k8jfltZHPkt/IoTUBqLWLyVYE\n",
              "sGKcB2RcG7Mi5O2+JzNNn3ln4hC9yThi/jHoP64yRdlau9u+bcgpdBl0bvBmZyC18FNvTt5TEPA3\n",
              "yt49yIuSX5ozoBcUyFVPV1T3pBCEPQ8N+eq1E4Sv5nQAwwut/MiPH924XpJBeVZWEzs1p1YNztcK\n",
              "YmKtir+rRGBW4VejFY3AQk4o6T8aid+KgrgF+1eBPl8gqxWk3rufyYhXta3xYBhPm4xL78N3HF06\n",
              "L7eJwnyh3q/sF2aU+yk47j5uvdbzwnVEvaW+SNleo+o+qpZFNYBthHTJM8lOts0kNifXmRq90kLj\n",
              "aK3n69HbojLrZj0CRK/Vvish/s0WH52BMcxXV3/d+9OS4lfLREW9ffCxP586Q774GMti0smXDm4z\n",
              "WZLIwMERuKAW4P6dOIuF99k1yU5EAID0W1Fopo432kaQ1cW64bojZkjI5w2OaQzTOnEqOqq217fM\n",
              "Nujgl9twgVfAUiQ4jOeXF9qgCOpQt1rmy+pJXLY9NSJo03UdWQofLOAauFJjguuoitRHcoopbKoc\n",
              "1c2JI6dx99PvZYrECB3ZMGXdSpmSmcgdgzm6WLJzx//ZTIK3qS0CeqBpqoS+LAd/VQOMwUseKuHN\n",
              "8+T30ml6cbg/gPPkH0SIPzIQ7H5PttTFwh1TE3SdA3ryKkfWlHyrTKm+QnWeAxZKjGDxQ7Injtg1\n",
              "sxMdZAEZPkw9Kiw+eB+9YpAtyUb1NT9QVoda9tnIZ51QEwFb/KpMmPEeEmWYDs249Izlr7aMnvEa\n",
              "R57X5xOG/Ls6M0Khzqt7v3BE8MXQqVqr38UOqvPbDiczhjHiId00uxMQ9pEy8Vabxc+5g05oVzyL\n",
              "yNC7pIa4k38RBfjZ4kEOkPn3JyQuLVeKFcjRC3Jpo5+nmut8wAAAAF8BnkF5BX8AABmqcVoIAVMw\n",
              "S0AF9Hc7tDSGo0rU4Q46QEenqiWbXX8O+DUoKe4TtmiQy32t2ogQNKE47vSXV1DOboV1pYBXXhO/\n",
              "jGE4o0pkDBaelXDSj5XwavVtXheGNQAAFdBBmkY8IZMphBf//tqmWAApRo3AAS2qEl3U0fPaaMZW\n",
              "uNgE0sir0lphk1Yofo8fCXvEGzAdp1DzQCt+EbRsEkGkzCVKfLFe+L+zk+DPmWD51ODv5ngp96jo\n",
              "O2n/uXrVaxOudJ+PtiSDyoinZBc6FIfloeGTndp19z1RMmKmZxMweOQIr4WOReyz6dHW3dX3/3GN\n",
              "H5C/IKmalQBjbSwo7OJ2EHOeoDg5CLuxzyJ+v7ZqdqPOeEXk2nT08creby8y66Kp82BP4K96x36i\n",
              "EBMrJp0neStUs1xWpo///F7zxl7Cc9Gbw/tZIYv4uhS8ajHrpoIQ41RxfjYDJRoZQ+49jJCff9Vr\n",
              "mLSmdX6YM52d/SqJaMKIhI+PQsrJIlVLp1rsebxkYVXu13Pj023PBTmHATVt9GTZf8ePwnNiUIns\n",
              "n1MmdCNQiZIxG7kSO/uwxyk69ieobk8nG7gBOrKALmZ3CmCeyX/GyCF0ZUO9ww6pnqjs09t4d+xa\n",
              "/1mttdSmetObbGKszbZq9lDaBvYH6rdjzNbKCejoCbZWUL7tdWMz5wX7QnIIJQGG3MVm6JCXlexP\n",
              "qIphzzwHgdO2aSzZ8Ao5+Z7pw1rnDwaY6T+Lg/xQmHhbF4RcJAj+B4SmpqnOcbiXUAv8+DR38x7i\n",
              "QvwG2mCRU2ZR3NvNbroT5GSE5GAfBrNYurQd/AfqwP1QqhowaW7UhU/+2oM1W5AnuYMK8uZFgXQV\n",
              "2uRHtKLx5edon6ZMYSBk4ir2i9FMV+0EzYRoaN7GJgEeQlMZy/IH8jY4KQ/heDDV5FM7Snj6N1P8\n",
              "r3O2Jk2LLfn2o88WIal5UiWo+LYmN+Fqk7lqn3Yz2nUMzSuh0wqvw9pDRJ8dPkCQtd7kKX5Syid8\n",
              "1IxpkUfXIKPUFETJLGkHQNCdrATT5H1iveGyJdHvhysz5i/sdX2WvTU5fMJcXiQ3TyfC3HmOMsrN\n",
              "eC8MhjDfo/9VkNoGD6i1PF9QqMLELNomxR/ac5zXXH/90Qz8LHGGO9mSL7wwKX2wVIdPKlhJYCx3\n",
              "DTyA1BhRxiTy13vtd3Qyf8ur9VthWYmts2ZKdXuv4dHcHN8iypCtrTQiLUev4GSn9daZwBw39kKg\n",
              "rj8GYdkQJucffq+84QyPpvbpXc2kmaXrzAHYAO1oENzyIZZ6EHaKpdcLjIoyp6vfy+YMzVXGm1BS\n",
              "8euDUqpddNg8V/7Fyd5e3r2T2HR51pGRjVgGHKy9uk3h8QKeExbsP/qws41i76XWmxlqSQ89WmBk\n",
              "WSa8mxj1pSSQ5qbkYAqL5jHLY+b953igUrQb7rGqiN4EkEPuTOtWU4X5pqQrCQJRHqKY6l3jscpl\n",
              "zq04fdUMSOef1d0azd+VHOOQIf542YNslyYWt86gT0sLGnmzUkHHWRULhWosOn0XO/1+bSVLAy7d\n",
              "j3kyFh63eF5/8tsBffbeFJ7BdYbO3SVHZZNGzz29URhqmFafCIid6iIE3ZLFI0WWmF3Qj/hSAgql\n",
              "0t4XyJWBQt6sQJwcqg5eHnDwtaOhm8EZib/D5phhQ+qjeTo3H6kjpnXSW9T7bTq7PFfEveQ6GJbY\n",
              "OThIjnTl7Zcnpw30mpcKe0GasYItghW+bzODHvbXMa14n0G2p/Zsnctskk4yhcQuc86mylr9Eo7a\n",
              "vVPNXYhpaOVgrQpnvYX6+zuTF9CFTooUM78sospUJFPLfbbOlMOjgkf0FXtXS5GKBkion7W8Y0RF\n",
              "K1Ig8Ci0xVVlpM4U1qyE9dgbOLbKYmkRGcAKgYOzLwL/MyPRbgqYyShCTRmYHCalmkvHbtpaa4Bs\n",
              "xoOeVEIk5Caw17Y2kDxOiMlnbeq+j/q0mXTDUT9fKp3oLdYiBwNPYL8ykNNmMth75XfI88lrncmz\n",
              "v6Ri6ne6pQ79crbyxI2gmXkY3ohrc7APIxp+wL9NniHra3nKg+GuJnfFc7/9EEg4dE3OcSmIxXaJ\n",
              "7kiTLuO4+ZbJT009trFAsfDVHptwTaT/6MxmoV4flokh0HZfL+nUk3bHR1QbeGIQL2mtv66lqJkE\n",
              "ecw/pyT6Zc3TVUHADYo/p4hsH7Cwrg+Fo8GjNShXC/DoAmJtj3/8e6UzzH1SqiAG/hcY6lJUgHNp\n",
              "ugZmyewzkScrmGs4Me/eRucbh+dQ9mPIzmZ0hxFCrzUmA9NqJUi0YJcPxIpJWXdOllyQIgY8CWLt\n",
              "RRYOPHDPEwKyu0tq8T716h09sm45h9/XgaFtRI9s+vdc4ExzS2hMu2zxrUEs9T+yizTT+Dns6SWs\n",
              "uoaaYgp7sAxbeYfOBDNAmlHfyyvwzSMa1MsMrEUZK5PQ4dU+4h9Jh4sxgaNE5I+X48oPy8BF1Vwz\n",
              "/niOaXte1lbT99UYHZWfZaYQfvSSKxxVEFT+OhSlDa6oTl96Arlm4YpHRrpd1lN07qYSIUihfUfn\n",
              "+1BU2+Zo470F0Qfliu7zRQUmflh/sBWFV9oIyRXD8q7x5SZG8frOt4SNh8o0S0WzFMW+RHvZMp9e\n",
              "/vwBijvYytTeTxpmtp8SIfJA6xTJ+em3BbWGjVkXoJqI9R5JGL7Dq+8HYwb+c6OBCklh66n6zwUY\n",
              "HeMAqliTpsLm2xOw7IHKpPtYTptT6IuLrU9Uov+diX1HxAy7TGjgZImLqDS/DGtihJOpyg9Z37jO\n",
              "XmjnMQvdD88r3DYWM6Gb5rXGi/HefV3x4fEbtvKmhKVNIIKVYurGw3XEd0+XKiMwBbcGfUKWDrNi\n",
              "EzIPrgNOonyE+9fsdfxI4CEjVKyjzlnYgOf22Io/rvgOnXnwBEoCRPoQMpBKLBECANCxX9HWOwwb\n",
              "/1+ugTuWkEs+tGom9ONiPtZkPjnEda5s8j/1U7m9OySEBr8OEg6SvmtaUp+oEqMNelObwSwBA8kR\n",
              "KUspwpEJUJaCUAc3ZgLdpjbIAtNRNeotaknKNX0+PKLuZAc2+M0waAe5QHLual7k8pQ1eGG1j9z/\n",
              "zL+VkhqqAxnbt0p4pRSF/vPbGQaqr4ZRj0OS5NcjHz1Hv+MQ9ARrFHM00WWnPqvANe62pYBG9WGi\n",
              "ISSovkGiwJj+IIWqJtT1QlKvkg4JqlbVVrn2xkNZ6BKm9LlJ+eNi1eYPAtz6j/AyCCgQAaJ/kDXW\n",
              "buALVEznr0O6KVHfSph9IRF9vK+g2VUTAY7daZ6Ud6FY7grgKCJqrhDfHtIznqNyQjM7Dw8O2rEB\n",
              "oEgATHEVwNkeiT8ALWGulAwP/LrlTekFv86lxe3P9ZSS1LG4ya6frr05ZXFkyN3mFqoz/UNvBDvF\n",
              "MtSMG7Zd7H2ISbywBsEx0WJORS/2Ai91msOY69EBjWAyrW5fgW+iRDziJYQX/iXZ1u9cqDHvGaHs\n",
              "vm0cgGX4tOkWpfVTqKH4KAadIEXzpDiAMFnLPU8JzK4ZL3Q5Eo21uRJbb+FAZw8RF8ycE/mRy7Cf\n",
              "IIWWiSscC1RNHXRMz9/mmDfFDgUET2uO/0McQEPuTITv1X2aB3wW00Si4eMSIolr6D/rhN2OW5Sz\n",
              "/y1sB/m7hOx5d1dzs5+fly4ZHCPII0fLrn4WLc3+8VUtCr/2CY7tWClueWW5KM+5DsXUTCDoXoLS\n",
              "m6cSrp1zhJaJe4bSE6KeOU64iBdKVxjdKS2KU9ENi34zc2zSll6lgoVUWK7/eOfciaDP55UO2T7t\n",
              "5cBLNw3EBLk1WY4CQiUcoMGNH3rDeL9ecDqOIGts10AydPPKT386zph6QsWwYi0Qf/pFkjGdavgA\n",
              "H8WsBwvtyoXUenaj7z8rbTdV4cgPDm9uwNsfKogE9llUHXEnNERe6aAUP3IlenlGlErpdhlbfytn\n",
              "bNmz6OFgFrQV68NC/9SQBq7Nx0GyEx3gcAjbPOzTFSMa0smC2SBW0xDTj3d6sukTmmyCUg0F1PMr\n",
              "AUTOlYza4uhKrvRkevBgUjc4TjTPrLTJl2VG60sgxzscIpM2O+yxppwG8IYA9hfGhysP9DAl27BN\n",
              "Ujpzc2ptMcl5ikcyXn8zBGl2TL620aSHoj+vV1zrbQhNUnOfZ6CwwVpEN6r/0ry6/HEUY1cPCj3C\n",
              "WrEiJKpKgaqZBIKPbFFQtl2NpnxcVM8PAuPwjZUBWUIk0Ln0dA27ObWrwtAoCvaubFPywqPu1/w3\n",
              "Dol65fkXemO2TP09xYcy1Z+HYkGUiCeLq/52HZu1h9sqeQihtvydV5wPvEuT2Qj+yeDVJh9fUPpy\n",
              "9LAAgDpJv2QB4E59IZ8N8Lz3EuZ2EzBpQXQ3XG9Z37wjHvEQXygBD9tWy2lIX0q7cCNevRbmlsuk\n",
              "fGdj4BP435PHHC7hm6JIV+3khE064WuunewBq7EGWB+TdUtO14uafhShcA6b1qdKCsae9b4RX0Yt\n",
              "Y8hpFAyNR8OH440ys4e85KJ4pXNF9r+1yhxVxP3SRI+IXzjtA3k4wY1ZMF6MDKK4MxhIxRfVOZRA\n",
              "DFqn0hZiFL/2twUDQxSXUJHV1UPTtaQQnqRy1c14A5/Zx54Suu8QRsb2K7whr1BXsGPczOpZyAVB\n",
              "wpmN8XpyW0bVBWf5kopRMbOROabcyBdLisGPUm7OTplKxwJKVFDdLqG6T9sxlx6d93pqBJ2Iraqv\n",
              "auEmYtwYpzvQFOJKoLoZ1VtJsbc0RVG5pi5zgPRsgwIanVLmluxufA8BOV7QHcMoYK6XIRyUoQD/\n",
              "JN7o/eAzIGVFBlER1rLfXU36iY48/Zhf65tYNbjtxmlGT7GG5x07ydz2xaAHIbRFGlVRzVEzoVg0\n",
              "nLDsFeMB5/qc/aYMLL25huxEjbMYyxis2cKCce1eKJpxLvHd04zoEkBHfcuFMir89AzfYPLlXgBo\n",
              "olpFIoX3ztXhfF+jQzKgRgUy+RKENkT1DHCilbNDT5VfmxoaejRJ9AFirZLn8TBpwIzY93FFDzS7\n",
              "B/l2119GkVqvg/+7afQ1MiDrnQMiH6deBJJxjTQAZMYryZAMAUBNS6Sv3MywhXHbuhHwhY3/z2LQ\n",
              "eiyVmTrEw6G45JHp0/7XRlIW6roV+M70KizlELWx5Vg8gF3go4BNWaCUmUThMSFlOEam+fpX8c9g\n",
              "HCBYm5vXFwzTYhyrlBu1bUs0OGJMmCjHvu9oTXo8YT/BrAbcTHr/nsKonhPCkUg76i4M2xMen9gF\n",
              "ZtJo/dS6jA6qXzt/s27g+3M6Ze9VEK0L3pSecOFGv//t4ZdfFfOsV2dY2VIrkK/ko2mGF0f8m2Y3\n",
              "BOrGw7VjfFTLDYfWdELVhQWbR5RmeWt2yMIBf5tdcJV7ivgjC67XRBxnxwS7L+5I146XVjS6nv6a\n",
              "uQ48ioFmiw8CZGTktM0gWBSh8YLhqtD7q52wsIvyasJ+3bb+WrrzJMyY/0xHGcoqdizzNa5nPxE/\n",
              "6c75hlwqTkqPH94tpFJBwggstNq/39/dosRdZ8byMvFu+NaEmhgsMto9MiPoIWMxWVm7nbajhiyX\n",
              "CdAStLEOyjuPxXE8ZHzLZTg/EyCdjthbrdDfWlrxNiTF71YMWcvdsLoRokBpSdPQfXN/3nqoKlJP\n",
              "0PKDGcs2mqtpp9wXFyuZ5L9LGUPGirixfEGgHRTl4kOgZ0yb/HoGl2+CcOlJsk8HPwL7d1PIhmkq\n",
              "BW1ee/1Krl36mY6dRxlhEeVMD7JzIXkQxi/zsapBgM7XDGC6Vqbq+cittDwUUzOUYZVUv6LT5Hgu\n",
              "5Nzg7B2ajZThZXcZxWDa40l/NGJ4+AJpQVKD8SF0nY7bWnsWCmdjDBgXrhrIJdbDw9gs9jrOpw6M\n",
              "r0+TBD7ygFx9B3eOTokxO6HbaxVOoqq4Uw4lszFzUWCHuNqf4YmjJwKjHVRrKgq0PS58fiZTnqn1\n",
              "lR/rdpeQvrFdYXR3RaWLprOA7Btz7oWnTw+WHoEsPPhXuIMt+8TU89G0yei0ja8m3b+UWjduvFgw\n",
              "9HBBUzr3Gxr8jI92/7zL4BYyqBmt9legOy9y7rSC9eU2fQwAUR1xd/68ABSb+u7PeYtrrDTeQFbq\n",
              "/ZqF7R4qI4356Le5aC2GdSLL0Lw43qRluYXM18pDCG+GVXAsE83GOwuea1EwFTQUQPacGzpFK8lX\n",
              "RtIiglhr3Wy2PM/ou/gMp9mr0Ze0/74gRT8zOFmAnn7G63G0jGkXKhSv8J5Sl9XdFIyZ/M6qccO4\n",
              "n7Arm97DEIU4jg6Ac0jmr45l9gwpg259f8NfBGwpEOaTqKPkyec0tNmJ5mZuVbYRaeCecqHsJrmw\n",
              "UWGouN5cBPRX4KQaD9OTsCreOcPDF7k3YGucgJaihIvTZc9vfSdmGTHFm8HRAaaUSTutCJaADWI2\n",
              "1LWN+iH95LXOBEJNenZBgtotVrRbbRx/v1KDM6kWqjd7u4n8MWLrzTy6Xr1dxyTBS8XNjUQse060\n",
              "0MaQ/DjcvRloYvwCpUnvDkNQp1jFOGO9hUw9q/uiY5mluWfsmC9GBs6N9mt0NvXjdQzluAhvm2wQ\n",
              "5iVzX14gYTwWCi5j0UlDaC+QtvtDt2jNzCijwvU0l1CM8WykOz16dSDruVn5s2/DG5LE2CIqsvvD\n",
              "hEKeKw8egznrCq8XDS4PHTZn1s+IyPqCvUsdxFN6L5sSkeZ14VvnDlcFShWKohBeGNLmkpC7rF6S\n",
              "TBG3ECgmSDdE26ZWI36Ccs2oeuWFzstS9hBRmsHbsRQnhoGTNtozPg4hPRrdbUbMcMoCp+FhhFbI\n",
              "2j1Ukio3IO+sbmylPES6it2kVgmJoyeYCHVXhKjPcUzvl9xwXkrY6lnfI+/mgBo7cw3O7GEuwyxj\n",
              "b8MZv6P+VBvlOgHZVy391HV/P3pxMI6HWKctO4wkJhUY69QNfGDDInTG802S9OVD3QRGOTqoLjrF\n",
              "GMEIugmaiLFTzwdd/2jEK3eJbixujlA4ao0rZreSb9pBaENJWIRbNmw8D5tQg3fXveVirJfs3dOs\n",
              "BeowM1vzDvXt7XH/0J22ImDYAmBacElzG5jAYhQ1ouSHkuGZfgB31fFADQRI265zQZUrQURcPKOw\n",
              "Qbk65sJGqCnjug9qoqwNWeVhXIGT9mpzE1aawlmCEKq4B/COeb31eFxr7BemMvw68tCPN8er6p7J\n",
              "9jHeNi5PljGCf2LhA8Nvb9aV3zo8mloXSSe5h/0yhYv7YHhW01vGbwmapj0WyABDfIZQGw6/DYA4\n",
              "6oum7ek3CmSy+KOGqyD7ZkYtLlLzprR0udP/8H+HRm5rCYun7M4H3aooyhw6yftUjvrUtvBroGz4\n",
              "Aoveg229j4wCmZ9H1dz7uYIYWxF4ONb/z59S8voc79OH3oblUwbBkN/Tu0Nu/RP2TsA5g8LJ4FTG\n",
              "9e4VFBK+YJKsGoiPq4/zkxL/cr+7iKCzvVAKG+e5nlPXr4HLU2UgPHwo7dWRtvWdtAzbBLxIDHz6\n",
              "MryK1QqK0zQnCsfVYV1EcZiEzj8lsSWwRjk8CQGqSAeBZKMj6YQOwsk8jRuqCGr8LYIJoGHguNLT\n",
              "mm+EdVhqUzltd4HDiH0tUtu2VyI9OHw5+fOxrSaiJSuuMrk/5Dz2JkSNaiZq7uSngEIHd4jvsWmK\n",
              "+r8zGQ9UV1KJO7FfA1xXt8cIjDtdf6HTAAAAvEGeZGpTwW8AABHFtR5j4z2nawfl9ov83d/QWMwm\n",
              "iZej7S39fPmoa0st7+0xkj1wSYJJwgRQLL1+49AVQTxbVb7z0ahmojzelAvx9eMqL2Fqc5PJA8wJ\n",
              "R81xxvBzxrrWticDgERdZ1Tp/MGXrGGpERpjYYkbIUpQVvNYEj6NFk2qbS97WgPzIfMQwl0pn9DU\n",
              "8iaUvd9wzskRdlSQSxrGj7v1QIcNu6XrIwvI087zgfbG6eTcarAkjLvXeu1ZAAAAiwGeg3RBXwAA\n",
              "AwDcWkBF1lCtkf5wvzeobYK7hxdAxDaGgAfyGgg00a6Pzvvv4hGFTc5jPfw85LQzTEBVPvwwdHN7\n",
              "LbRSx8RzHrvSouDdNmtOjkh46QTJWN6LEj3D8ZmRwOz65d2y4lyt0hRaHkpTS3dvOahBU3shrXfm\n",
              "4RDOhx5k5WeEAxCeJvYMJi0AAACZAZ6FakFfAAAbi2ipiShaPABCcySq2OsoX/M2RGjUlHV3ulbL\n",
              "/11S/gS6zbU2VAxR+c+X2xTZq3Wd8ZppD+GUwE6xe//6yk4o4EpuBwkEO1r0UxEERRwVs9t/aLWt\n",
              "ulbTorVmq6FCuRJgg15WW5ezaCDg+LZoKTjUDiNTNF8bKEV8SUBzBT2myqhGSEAKtOJQUOaTRN7S\n",
              "EAypAAAImkGaiUmoQWiZTAgr//7WpVAAKUY38AEQqZ9fop+4bMUToXuvoCVtdz1mmNXSsBWqsdpv\n",
              "r2/n9++3cgpYl2ZJSaWvvI8vwPO21hG8loU1rV5fMrv7jvQ3yEg37RtfK2xCTLW0PCdjjem7vxDN\n",
              "RT8t7vXX/FbRWPuXpOV7mTP7m3O33ULNH9IkYr0Ce2JpVqaihaCuAw2/JN+2ymc4WDd8QGvIZeql\n",
              "pAV+E58ckBZ1uo3lML57pBqufZQ+1mF6P7jPY8xCSae6XElCbAvJKrFqPF0rsahMAC6WTXIFmBDp\n",
              "2A6JqV+IS4e6GJB+IdXhgnpJhkewoBCZ1s7CCgL++pja1LTtCTwE5PAyJuHMZlvx6lx5W+N+lwNn\n",
              "Z0AuuB9qv2jY+X6PTtPFoT+2kA4AclVQPN8wlBEkBmmbUBlvQaffO04gwGahZZ0y/lLoR1gMh1Bz\n",
              "lSImZe7pdT1gxXsLOtnnDSEFd2D7uFJpF+zX8iqFU4Jxym/LSvL93C3f8g55pNmbZq5Pf/QfrEYG\n",
              "NHrIX2Frn29nIdnAyneAVYXic7XxMRelg1BrtkyIYSBbMAsIoZaj/M+lGj1Rhj4DaJ7zeFb5aRpP\n",
              "5nzm90NdwB/AaUILklqymaw147FUgQ5sASsDQTnsQH2/M+h38xVuzAydoHJtTWPL5zpXlO0RVZAZ\n",
              "0vFIDuluhacMxjqFVamIVhP/l62UQ8Ks7hb6mN+OJeJXqNqwMXZ578DbPIN11AfyjQ56Ylxzderl\n",
              "8aKFDpIWjXCKyL/FCFJsmx+RynH+H3Uxge/EZqBIsJ3fRIMB6tT63KYB4HQrUwuXgFuOz/PLDUAx\n",
              "xD9z8EE3Rt8RAPEHTkxuCsGN9b5Ho/zEuU8oQXgYmYL3T4YrR4pJXiN+cS+/E/M35pM3iEGwl6oG\n",
              "NheEMjEGZ2yvv0ctIK8IK33SeYdaYlYbfGLD3+MJGR2vznU/lqkbXGfV/G7DNFvHSv/meP4ZjR75\n",
              "/8qKGZf/SY7euyGuENubcHUTcGbhj95kr9ZgK8IXQzNg0S2B1kK1S3agPrB1HWRybTA+PFV68AJ1\n",
              "ro/nOSK6DB3WPM7ZS6GGr7XphzqVw12/HGaHLuTBizGLCDJKstjX5hSxzlb6GXl962jynizgxKTR\n",
              "rUZ1fAEOJJy0ufvOSl3ysgf19Uyuqfo6l024ibrY3xNH5hZQ3Q4i4JmE85Fcq3ZkVzTWRkIeLKZa\n",
              "YP5gccVPNfU2cGCU+GUDLWKSr8vsFfndZSPNZxe+gVLb7BZZrrIfutWVUp5mvZ61prNNYoKVhYhL\n",
              "BQCttmp7YKk2OgQaHEkYph0kAjcc37UUeibPFv0vn5g1SdPaST/Ez9EXB86jDIoWDJY/U5Eqzlwj\n",
              "tWGGte8jinaZnp0aD5g4xDaLXpl0AQoBnGLX3fbIqxeAEqyOsSoQFCMSUQcX55AAvjlDoeNECSLX\n",
              "Y9Ci+YS0DfnNgk2sJ4MhyAVEqEjWk9IcOi0m+c3RCr/yWeKhKRXhaKqnvEwkelR5PEa0gozqKd4t\n",
              "DJKTTQiAEZ3r47UM96uu3oTJPSnUPCdI3GUvblt7VYrAhtbPyEMD8l/VfLDobCQyTpNJyEEIt/Qi\n",
              "IilRb6BIOTg2UMpzrs+ukWf33CNK+2hD1dDVPLZhRY/Wzo5WOzmm3peAM6iwQwzwhgIGlrWXdljH\n",
              "f5c7VOqPiJX+SOovOdyfZYu7qu0Ve3B8Qw0gphaeF31BWO8qnil+Kfz5IhpolE2kaPi7fBxSU6FW\n",
              "zv3gVovYLGfPeJhEuXTHBhy7DaEWOshlDt5PREM/OnH38DqGIgzRvFr2iw5eGmuNp56YP5iMrGwh\n",
              "qe/yX9inshOIbm/GRfz9jwkyCOFAq5/13l87lAiwE6BrUtyeej6EqFCXM9j8yJj6mYUW8aH8n2jh\n",
              "mYBrsyXQYApa89LETkCTqPcIml6g59QG+0LpFR7pwoJJWWV/8XtMbS4R756I84vCxyEeTh6IiP8m\n",
              "tQd3K/qW0COh1LKgzm2WD4t17fDx3+Z0is0izzHojikmM8JxnfgZnteuboxKTZDqkuy4VBa7QyE8\n",
              "/2dxImoqbBn9P8orB8APFY8XWZOALQC/pNXyK/edszVcslF1FBekwUVynqhnuxH/XnHxVe/R1Nys\n",
              "AMSRYQhWqrygoHc+ldbz9R09YmPNVbNBSfAH/m0A4f47tpqjHvXAKjLZdc6MqEmdUgnnem9127hB\n",
              "UNr1D9lf3W34HL3RoDzJqvlgURKOqvVMKU+0M2dztFlobPSQGWYx76Ek3D30+B9359wNciLKm0FE\n",
              "lX2AthxgwiArboAhW4t5bxWN6vtHkKcBzrmViPG8kEdvazgsM547H1lvlAnRfdsG3b+gsya6LobX\n",
              "V67WHSDoOU/UUgF9zviF9zLzLAddBFgeGoGxDjGWp5U5N5sz9GslaMa94B5UxrIkeddOBKd7qR6I\n",
              "EZEBp6FhNU/YAlrFM8sRslv7LSXLiPCUmOvQlEYuMwqrt0NianElhxOXRM952jCZtGGrdOWYhP45\n",
              "LO2iM+4O+KpKUTr6mi1caj+Hyh5bX+PgyyfZvn33IpUH3iRs1Cni0ZpN+KgbLR80+ASOU36VEa+F\n",
              "WourhSc4cCpl1f8sBdQ9/QctH88pW/lcgV6y2scKHr5+g91ROk+BpIDuW2tU+NydBj+LXZOMk7ol\n",
              "ymH5nhCvFEcT+h2s6JZ/sAr37lqnv67/Bwj0ePkc4Sh0KpB2tF+14/YHyrTgjBsT1j1V7C18zLEQ\n",
              "0sTtkgHbtdHLaAxWuz27aojifxw7AJGXB/J2O39eqskqEhQKM4YjQh5gLwA77L9mcQlUMdaWPvQl\n",
              "C7i8C6hcj22NWMEFioZM+AMUiTeg39S+fmrCnDa8RIsMYr+13ecglNPR0ZG5Mstxh9DVl4zw5I6P\n",
              "Npeg9vhvkNU0E1pbbAr6sd3+FBQjDnUwaWDbVmpTdC9uWMPw9Yb7HHMBewAAAK5BnqdFESwV/wAA\n",
              "G4pv4ABJXFK5ntRw4eRfKeHAr788oJ+h4p7MFLl/YEtzvBtshLDyy4ccM+WSQw44JKNGd08x3xwm\n",
              "l/QeRVnSkq4hL3WK7bTXxvwJ+1yLYYv2Ian1QT47eFMvVd9V6wkCR3cmYufRiUOvP1B93/48kVd2\n",
              "oCx9bnIkGW0SXoHUi/1dn6LcPhcsM2l7L+au2swm84t0QHhxvHulTsLphalk+OD0q2AAAAA0AZ7I\n",
              "akFfAAADABPTMS4PcjjcGvmy8RVOnD4WDZc7/iMAAEQmz6lY87Ft+GoynvTsBECTgAAAA6Jtb292\n",
              "AAAAbG12aGQAAAAAAAAAAAAAAAAAAAPoAAAnEAABAAABAAAAAAAAAAAAAAAAAQAAAAAAAAAAAAAA\n",
              "AAAAAAEAAAAAAAAAAAAAAAAAAEAAAAAAAAAAAAAAAAAAAAAAAAAAAAAAAAAAAAAAAAACAAACzHRy\n",
              "YWsAAABcdGtoZAAAAAMAAAAAAAAAAAAAAAEAAAAAAAAnEAAAAAAAAAAAAAAAAAAAAAAAAQAAAAAA\n",
              "AAAAAAAAAAAAAAEAAAAAAAAAAAAAAAAAAEAAAAACgAAAAeAAAAAAACRlZHRzAAAAHGVsc3QAAAAA\n",
              "AAAAAQAAJxAAAIAAAAEAAAAAAkRtZGlhAAAAIG1kaGQAAAAAAAAAAAAAAAAAAEAAAAKAAFXEAAAA\n",
              "AAAtaGRscgAAAAAAAAAAdmlkZQAAAAAAAAAAAAAAAFZpZGVvSGFuZGxlcgAAAAHvbWluZgAAABR2\n",
              "bWhkAAAAAQAAAAAAAAAAAAAAJGRpbmYAAAAcZHJlZgAAAAAAAAABAAAADHVybCAAAAABAAABr3N0\n",
              "YmwAAAC3c3RzZAAAAAAAAAABAAAAp2F2YzEAAAAAAAAAAQAAAAAAAAAAAAAAAAAAAAACgAHgAEgA\n",
              "AABIAAAAAAAAAAEAAAAAAAAAAAAAAAAAAAAAAAAAAAAAAAAAAAAAAAAAAAAY//8AAAA1YXZjQwFk\n",
              "ABb/4QAYZ2QAFqzZQKA9oQAAAwABAAADAAIPFi2WAQAGaOvjyyLA/fj4AAAAABx1dWlka2hA8l8k\n",
              "T8W6OaUbzwMj8wAAAAAAAAAYc3R0cwAAAAAAAAABAAAACgAAQAAAAAAUc3RzcwAAAAAAAAABAAAA\n",
              "AQAAAFhjdHRzAAAAAAAAAAkAAAABAACAAAAAAAEAAMAAAAAAAQAAQAAAAAABAAFAAAAAAAEAAIAA\n",
              "AAAAAQAAAAAAAAABAABAAAAAAAEAAQAAAAAAAgAAQAAAAAAcc3RzYwAAAAAAAAABAAAAAQAAAAoA\n",
              "AAABAAAAPHN0c3oAAAAAAAAAAAAAAAoAABjcAAAHKQAAAGMAABXUAAAAwAAAAI8AAACdAAAIngAA\n",
              "ALIAAAA4AAAAFHN0Y28AAAAAAAAAAQAAADAAAABidWR0YQAAAFptZXRhAAAAAAAAACFoZGxyAAAA\n",
              "AAAAAABtZGlyYXBwbAAAAAAAAAAAAAAAAC1pbHN0AAAAJal0b28AAAAdZGF0YQAAAAEAAAAATGF2\n",
              "ZjU4Ljc2LjEwMA==\n",
              "\">\n",
              "  Your browser does not support the video tag.\n",
              "</video>"
            ]
          },
          "metadata": {},
          "execution_count": 10
        },
        {
          "output_type": "display_data",
          "data": {
            "text/plain": [
              "<Figure size 640x480 with 1 Axes>"
            ],
            "image/png": "[encoded data removed]"
          },
          "metadata": {}
        }
      ]
    },
    {
      "cell_type": "code",
      "source": [
        "plt.scatter(points[:, 0], points[:, 1], c='blue')"
      ],
      "metadata": {
        "colab": {
          "base_uri": "https://localhost:8080/",
          "height": 447
        },
        "id": "-8p9HFhEdEV-",
        "outputId": "4be79c93-ad81-484a-aca9-181c62fd49e1"
      },
      "execution_count": null,
      "outputs": [
        {
          "output_type": "execute_result",
          "data": {
            "text/plain": [
              "<matplotlib.collections.PathCollection at 0x795fe4ce9960>"
            ]
          },
          "metadata": {},
          "execution_count": 115
        },
        {
          "output_type": "display_data",
          "data": {
            "text/plain": [
              "<Figure size 640x480 with 1 Axes>"
            ],
            "image/png": "[encoded data removed]"
          },
          "metadata": {}
        }
      ]
    },
    {
      "cell_type": "code",
      "source": [
        "plt.scatter(points[:, 0], points[:, 1], c='red')\n",
        "plt.scatter(hull[:, 0], hull[:, 1], c='blue')\n",
        "plt.plot(hull[:, 0], hull[:, 1], c='blue')"
      ],
      "metadata": {
        "colab": {
          "base_uri": "https://localhost:8080/",
          "height": 447
        },
        "id": "ZP3W5elJkeYv",
        "outputId": "93720d7b-c68e-4029-d1c5-db376a14375e"
      },
      "execution_count": null,
      "outputs": [
        {
          "output_type": "execute_result",
          "data": {
            "text/plain": [
              "[<matplotlib.lines.Line2D at 0x795fe4b7d7e0>]"
            ]
          },
          "metadata": {},
          "execution_count": 121
        },
        {
          "output_type": "display_data",
          "data": {
            "text/plain": [
              "<Figure size 640x480 with 1 Axes>"
            ],
            "image/png": "[encoded data removed]"
          },
          "metadata": {}
        }
      ]
    }
  ]
}