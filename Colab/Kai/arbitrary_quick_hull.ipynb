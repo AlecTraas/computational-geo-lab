{
  "nbformat": 4,
  "nbformat_minor": 0,
  "metadata": {
    "colab": {
      "provenance": [],
      "authorship_tag": "ABX9TyOptoe9lSLUhFR8N14CVpHP",
      "include_colab_link": true
    },
    "kernelspec": {
      "name": "python3",
      "display_name": "Python 3"
    },
    "language_info": {
      "name": "python"
    }
  },
  "cells": [
    {
      "cell_type": "markdown",
      "metadata": {
        "id": "view-in-github",
        "colab_type": "text"
      },
      "source": [
        "<a href=\"https://colab.research.google.com/github/AlecTraas/computational-geo-lab/blob/main/Colab/Kai/arbitrary_quick_hull.ipynb\" target=\"_parent\"><img src=\"https://colab.research.google.com/assets/colab-badge.svg\" alt=\"Open In Colab\"/></a>"
      ]
    },
    {
      "cell_type": "code",
      "source": [
        "import numpy as np"
      ],
      "metadata": {
        "id": "A8e-kKRa3U19"
      },
      "execution_count": null,
      "outputs": []
    },
    {
      "cell_type": "markdown",
      "source": [
        "\n",
        "\n",
        "1.   establish d+1 simplex\n",
        "2.   divide points into d+1 regions: one for each facet, with points within the simplex discarded\n",
        "3.   find furthest point for each face, add to the final convex hull set\n",
        "4.   attatch ridges and d-1 faces between points in the new convex hull set\n",
        "5.   for each face defined by the current set, repeat\n",
        "\n"
      ],
      "metadata": {
        "id": "YsAdGQ0T3028"
      }
    },
    {
      "cell_type": "code",
      "execution_count": null,
      "metadata": {
        "id": "Nsih4bhO3KYD"
      },
      "outputs": [],
      "source": [
        "print(\"hello world!\")"
      ]
    }
  ]
}