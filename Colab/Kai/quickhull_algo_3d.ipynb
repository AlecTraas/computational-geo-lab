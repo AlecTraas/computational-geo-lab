{
  "nbformat": 4,
  "nbformat_minor": 0,
  "metadata": {
    "colab": {
      "provenance": [],
      "authorship_tag": "ABX9TyPJl+RpqHqYbfYLiSMaWrzh",
      "include_colab_link": true
    },
    "kernelspec": {
      "name": "python3",
      "display_name": "Python 3"
    },
    "language_info": {
      "name": "python"
    }
  },
  "cells": [
    {
      "cell_type": "markdown",
      "metadata": {
        "id": "view-in-github",
        "colab_type": "text"
      },
      "source": [
        "<a href=\"https://colab.research.google.com/github/AlecTraas/computational-geo-lab/blob/main/Colab/Kai/quickhull_algo_3d.ipynb\" target=\"_parent\"><img src=\"https://colab.research.google.com/assets/colab-badge.svg\" alt=\"Open In Colab\"/></a>"
      ]
    },
    {
      "cell_type": "code",
      "execution_count": 1,
      "metadata": {
        "id": "W2wdRKkka48b"
      },
      "outputs": [],
      "source": [
        "import numpy as np\n",
        "import matplotlib.pyplot as plt\n",
        "import random as rnd"
      ]
    },
    {
      "cell_type": "code",
      "source": [
        "def main(num_points):\n",
        "  points = sorted([[rnd.random()*10, rnd.random()*10, rnd.random()*10] for _ in range(num_points)], key=lambda x: x[0])\n",
        "  np_points = np.array(points)\n",
        "  fig = plt.figure()\n",
        "  ax = fig.add_subplot(projection='3d')\n",
        "  ax.scatter(np_points[:,0], np_points[:,1], np_points[:,2])\n",
        "  hull = ConvexHull(np_points)\n",
        "  hull.quick_hull()\n",
        "  np_hull_pts = np.array(hull.hull_points)\n",
        "  np_hull_fcts = np.array(hull.hull_facets)\n",
        "  ax.plot_trisurf(np_hull_pts[:, 0], np_hull_pts[:, 1], np_hull_pts[:, 2], triangles=np_hull_fcts, color='red', alpha=0.5)\n",
        "  plt.show()"
      ],
      "metadata": {
        "id": "Dr3594c-bXjz"
      },
      "execution_count": 2,
      "outputs": []
    },
    {
      "cell_type": "code",
      "source": [
        "# I miss structs :(\n",
        "class ConvexHull():\n",
        "  def __init__(self, points):\n",
        "    # [[x,y,z]...]\n",
        "    self.points = points\n",
        "    # [[x,y,z]...]\n",
        "    self.hull_points = None\n",
        "    # references indecies in the hull_points array\n",
        "    # [[a,b,c]...]\n",
        "    self.hull_facets = None\n",
        "    # references indecies in the hull_points array\n",
        "    # [[a,b]...]\n",
        "    self.hull_ridges = None\n",
        "    # references indecies in the hull_ridges array\n",
        "    # [a,b,c...]\n",
        "    self.neighbors = None\n",
        "\n",
        "    self.above_tri_sets = None\n",
        "\n",
        "  def quick_hull(self):\n",
        "    # I assume, for the sake of simplicity, that there are no degeneracies (low-dimensional sets, coplanar points, fewer than four points in set)\n",
        "    self.define_tetrahedron()\n",
        "    self.form_above_tri_sets()\n",
        "    self.clear_internal_points()\n",
        "    while self.contains_valid_external_sets() > 0:\n",
        "      for i,ats in enumerate(self.above_tri_sets):\n",
        "        if len(ats) > 0:\n",
        "          far_p = self.above_tri_sets[self.furthest_point(i)]\n",
        "          horizon = self.calculate_horizon(far_p, i)\n",
        "          self.construct_cone(far_p, horizon)\n",
        "          self.form_above_tri_sets()\n",
        "\n",
        "  def define_tetrahedron(self):\n",
        "    temp = np.array(self.points)\n",
        "    # ↓ Inefficient, but it works\n",
        "    i = []\n",
        "    k = temp[:,0].argmin()\n",
        "    i.append(k)\n",
        "    temp[k] = np.inf\n",
        "    k = temp[:,1].argmin()\n",
        "    i.append(k)\n",
        "    temp[k] = np.inf\n",
        "    k = temp[:,2].argmin()\n",
        "    i.append(k)\n",
        "    temp[temp == np.inf] = -np.inf\n",
        "    temp[k] = -np.inf\n",
        "    k = temp[:,1].argmax()\n",
        "    i.append(k)\n",
        "    i = sorted(i, reverse=True)\n",
        "    self.hull_points = [self.points[j, :] for j in i]\n",
        "    for j in i:\n",
        "      self.points = np.delete(self.points,j,0)\n",
        "    self.hull_points.sort(key=lambda x: x[0])\n",
        "    self.hull_points = self.hull_points[::-1]\n",
        "    self.hull_facets = [[0,2,1],[0,1,3],[0,3,2],[1,2,3]]\n",
        "    self.neighbors = [[[0,3,2],[1,2,3],[0,1,3]],\n",
        "                      [[0,2,1],[1,2,3],[0,3,2]],\n",
        "                      [[0,1,3],[1,2,3],[0,2,1]],\n",
        "                      [[0,2,1],[0,3,2],[0,1,3]]]\n",
        "\n",
        "  def above_facet(self,face,point):\n",
        "    face = [self.hull_points[face[0]],self.hull_points[face[1]],self.hull_points[face[2]]]\n",
        "    n = np.cross((face[1]-face[0]),(face[2]-face[0]))\n",
        "    n = n/np.linalg.norm(n)\n",
        "    d = np.dot(n,(face[0]-point))\n",
        "    return d > 0\n",
        "\n",
        "  def clear_internal_points(self):\n",
        "      hull_centroid = np.sum(self.hull_points, axis=0) / len(self.hull_points)\n",
        "      queue = []\n",
        "      for p in self.points:\n",
        "        for fc in self.facet_centroids():\n",
        "          if np.dot(fc - hull_centroid, p - fc) > 0:\n",
        "            queue.append(p)\n",
        "      seen = set()\n",
        "      queue = [x for x in queue if tuple(x) not in seen and not seen.add(tuple(x))]\n",
        "      self.points = queue\n",
        "\n",
        "  def face_to_point_list(self,f):\n",
        "    p = self.hull_points\n",
        "    return [p[i] for i in f]\n",
        "\n",
        "  def facet_centroids(self):\n",
        "    c = []\n",
        "    for f in self.hull_facets:\n",
        "      centroid = np.sum(np.array(self.face_to_point_list(f)), axis=0) / 3\n",
        "      c.append(centroid.tolist())\n",
        "    return c\n",
        "\n",
        "  def furthest_point(self,face_index):\n",
        "    furthest = 0\n",
        "    for i,p in enumerate(self.above_tri_sets[face_index]):\n",
        "      if self.point_face_dist(p,face_index) > furthest: # no idea how I'm supposed to get the perpendicular distance\n",
        "        furthest = i\n",
        "    return furthest\n",
        "\n",
        "  def point_face_dist(self,point,face_index):\n",
        "    pass\n",
        "\n",
        "  def nearest_facet(self,point):\n",
        "    min = np.inf\n",
        "    out_i = 0\n",
        "    for i,fc in enumerate(self.facet_centroids()):\n",
        "      d = np.linalg.norm(point-fc)\n",
        "      if d < min:\n",
        "        min = d\n",
        "        out_i = i\n",
        "    return out_i\n",
        "\n",
        "  def form_above_tri_sets(self):\n",
        "    self.above_tri_sets = None\n",
        "    for p in self.points:\n",
        "      self.above_tri_sets[self.nearest_facet(p)].append(p)"
      ],
      "metadata": {
        "id": "BRGBUNFoVZtO"
      },
      "execution_count": 5,
      "outputs": []
    },
    {
      "cell_type": "code",
      "source": [
        "main(1000)"
      ],
      "metadata": {
        "id": "iRxQcObhPlOm"
      },
      "execution_count": null,
      "outputs": []
    }
  ]
}