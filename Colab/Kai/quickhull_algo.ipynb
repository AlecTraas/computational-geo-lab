{
  "nbformat": 4,
  "nbformat_minor": 0,
  "metadata": {
    "colab": {
      "provenance": [],
      "authorship_tag": "ABX9TyNnPmGF1BusYnj/d3pfes3D",
      "include_colab_link": true
    },
    "kernelspec": {
      "name": "python3",
      "display_name": "Python 3"
    },
    "language_info": {
      "name": "python"
    }
  },
  "cells": [
    {
      "cell_type": "markdown",
      "metadata": {
        "id": "view-in-github",
        "colab_type": "text"
      },
      "source": [
        "<a href=\"https://colab.research.google.com/github/AlecTraas/computational-geo-lab/blob/main/Colab/Kai/quickhull_algo.ipynb\" target=\"_parent\"><img src=\"https://colab.research.google.com/assets/colab-badge.svg\" alt=\"Open In Colab\"/></a>"
      ]
    },
    {
      "cell_type": "code",
      "execution_count": 34,
      "metadata": {
        "id": "4SxUlV6pa6aq"
      },
      "outputs": [],
      "source": [
        "import numpy as np\n",
        "import matplotlib.pyplot as plt\n",
        "import random as rnd"
      ]
    },
    {
      "cell_type": "code",
      "source": [
        "parseSides = lambda l, r, ps: (\n",
        "  np.array([p for p in ps if aboveLine(l, r, p)]),\n",
        "  np.array([p for p in ps if not aboveLine(l, r, p)])\n",
        ")"
      ],
      "metadata": {
        "id": "ILpJeuUAuqwJ"
      },
      "execution_count": 35,
      "outputs": []
    },
    {
      "cell_type": "code",
      "source": [
        "def runProgram(num_points):\n",
        "  points = sorted([[rnd.random()*10, rnd.random()*10] for _ in range(num_points)], key=lambda x: x[0])\n",
        "  print(points)\n",
        "  left = points[0]\n",
        "  right = points[-1]\n",
        "\n",
        "  hull_set = [left]\n",
        "\n",
        "  upper_set, lower_set = parseSides(left, right, points)\n",
        "\n",
        "  hull_set += sorted([arr.tolist() for arr in quickHull(upper_set, left, right, 1)]) # resort by x, smallest to largest\n",
        "\n",
        "  hull_set.append(right)\n",
        "\n",
        "  hull_set += sorted([arr.tolist() for arr in quickHull(lower_set, left, right, -1)],reverse=True) # resort by x, largest to smallest\n",
        "\n",
        "  points = np.array([np.array(inner_list) for inner_list in points])\n",
        "  hull_set = np.array([np.array(inner_list) for inner_list in hull_set])\n",
        "\n",
        "  plt.scatter(points[:, 0], points[:, 1])\n",
        "  plt.plot(hull_set[:, 0], hull_set[:, 1], color='red')\n",
        "\n",
        "  return hull_set"
      ],
      "metadata": {
        "id": "catyJaWp7eG2"
      },
      "execution_count": 45,
      "outputs": []
    },
    {
      "cell_type": "code",
      "source": [
        "def aboveLine(a,b,c):\n",
        "  return (b[0] - a[0]) * (c[1] - a[1]) - (b[1] - a[1]) * (c[0] - a[0]) > 0"
      ],
      "metadata": {
        "id": "N-jN-BMGlL76"
      },
      "execution_count": 37,
      "outputs": []
    },
    {
      "cell_type": "code",
      "source": [
        "def furthestP(points,a,b):\n",
        "  dist = 1/2 * np.abs(a[0]*(b[1] - points[:,1]) + b[0]*(points[:,1] - a[1]) + points[:,0]*(a[1] - b[1]))\n",
        "  return points[np.argmax(dist)]"
      ],
      "metadata": {
        "id": "p6Ckvx5368-f"
      },
      "execution_count": 38,
      "outputs": []
    },
    {
      "cell_type": "code",
      "source": [
        "def quickHull(points,a,b,f):\n",
        "  if points.size == 0 or a is None or b is None:\n",
        "    return None\n",
        "\n",
        "  c = furthestP(points,a,b)\n",
        "\n",
        "  hull_set = []\n",
        "  hull_set += [c]\n",
        "\n",
        "  indices = np.where((points == c).all(axis=1))[0]\n",
        "  points = np.delete(points, indices, axis=0)\n",
        "\n",
        "  parseSides = lambda l, r, ps: (\n",
        "    np.array([p for p in ps if aboveLine(l, r, p)]),\n",
        "    np.array([p for p in ps if not aboveLine(l, r, p)])\n",
        "  )\n",
        "\n",
        "  set_1a, set_1b = parseSides(a,c,points)\n",
        "  set_2b, set_2a = parseSides(b,c,points)\n",
        "\n",
        "  if f == 1:\n",
        "    a = quickHull(set_1a, a, c, 1)\n",
        "    b = quickHull(set_2a, c, b, 1)\n",
        "    if a != None:\n",
        "      hull_set += a\n",
        "    if b != None:\n",
        "      hull_set += b\n",
        "\n",
        "  else:\n",
        "    a = quickHull(set_1b, a, c, -1)\n",
        "    b = quickHull(set_2b, c, b, -1)\n",
        "    if a != None:\n",
        "      hull_set += a\n",
        "    if b != None:\n",
        "      hull_set += b\n",
        "\n",
        "  return hull_set"
      ],
      "metadata": {
        "id": "F-ZJZTZGmCwo"
      },
      "execution_count": 39,
      "outputs": []
    },
    {
      "cell_type": "code",
      "source": [
        "runProgram(20)"
      ],
      "metadata": {
        "id": "3tvUG1qgn1NV",
        "colab": {
          "base_uri": "https://localhost:8080/",
          "height": 606
        },
        "outputId": "cfee18eb-86e4-48e8-8be2-26779faa23fc"
      },
      "execution_count": 54,
      "outputs": [
        {
          "output_type": "stream",
          "name": "stdout",
          "text": [
            "[[0.2950087462260065, 8.369229118982393], [0.4167112424849406, 8.063159197222944], [1.592869636904043, 5.055766523678898], [1.8782000696184065, 9.29797706893811], [1.9039807383802143, 3.204820906836644], [2.2298838243498222, 0.2965577739925118], [2.8013829598275377, 8.581408119602568], [3.1904205782109707, 3.106617575855272], [3.9174183595587353, 3.165629461635379], [3.9820298259251152, 0.5251067199694703], [4.446265431060764, 0.9207565366047732], [4.796387986522004, 5.148589933657384], [5.003681935875363, 0.4322917345628319], [5.4302020255866505, 8.875711976283895], [5.723638995723666, 5.152997441892325], [6.7558442026870935, 3.958980866989469], [7.256308950896758, 5.606406333696224], [7.263855320471299, 1.5458386028868587], [8.160269158829989, 3.9653391611203306], [9.827516967272519, 8.100868800117876]]\n"
          ]
        },
        {
          "output_type": "execute_result",
          "data": {
            "text/plain": [
              "array([[0.29500875, 8.36922912],\n",
              "       [1.87820007, 9.29797707],\n",
              "       [5.43020203, 8.87571198],\n",
              "       [9.82751697, 8.1008688 ],\n",
              "       [7.26385532, 1.5458386 ],\n",
              "       [5.00368194, 0.43229173],\n",
              "       [2.22988382, 0.29655777],\n",
              "       [0.29500875, 8.36922912]])"
            ]
          },
          "metadata": {},
          "execution_count": 54
        },
        {
          "output_type": "display_data",
          "data": {
            "text/plain": [
              "<Figure size 640x480 with 1 Axes>"
            ],
            "image/png": "[encoded data removed]"
          },
          "metadata": {}
        }
      ]
    }
  ]
}