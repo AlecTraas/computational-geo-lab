{
  "nbformat": 4,
  "nbformat_minor": 0,
  "metadata": {
    "colab": {
      "provenance": [],
      "authorship_tag": "ABX9TyMy2idmBDnhR5b3BjdtFP7B",
      "include_colab_link": true
    },
    "kernelspec": {
      "name": "python3",
      "display_name": "Python 3"
    },
    "language_info": {
      "name": "python"
    }
  },
  "cells": [
    {
      "cell_type": "markdown",
      "metadata": {
        "id": "view-in-github",
        "colab_type": "text"
      },
      "source": [
        "<a href=\"https://colab.research.google.com/github/AlecTraas/computational-geo-lab/blob/main/Untitled0.ipynb\" target=\"_parent\"><img src=\"https://colab.research.google.com/assets/colab-badge.svg\" alt=\"Open In Colab\"/></a>"
      ]
    },
    {
      "cell_type": "code",
      "source": [
        "import numpy as np\n",
        "import matplotlib.pyplot as plt\n"
      ],
      "metadata": {
        "id": "91_2rh9imXCs"
      },
      "execution_count": null,
      "outputs": []
    },
    {
      "cell_type": "code",
      "source": [
        "import numpy as np\n",
        "import matplotlib.pyplot as plt\n",
        "\n",
        "def RP():\n",
        "    npoints=10\n",
        "    ppoints=np.random.rand(npoints,2)*10\n",
        "    sort=sorted(ppoints, key=lambda x: x[0])\n",
        "    left=sort[0]\n",
        "    right=sort[len(sort)-1]\n",
        "    hull=[]\n",
        "    hull=hull+[left,right]\n",
        "    sort.pop(0)\n",
        "    sort.pop(-1)\n",
        "\n",
        "    PS= lambda l,r,ps: (\n",
        "        np.array([p for p in ps if aline(l,r,p)]),\n",
        "        np.array([p for p in ps if not aline(l,r,p)])\n",
        "    )\n",
        "    upper,lower=PS(left,right,sort)\n",
        "    hull+=list(quickHull(upper,left,right,1))\n",
        "    hull+=list(quickHull(upper,left,right,-1))\n",
        "\n",
        "    hull=np.vstack([arr for arr in hull if len(arr)>0])\n",
        "\n",
        "    plt.scatter(ppoints[:,0],ppoints[:,1])\n",
        "    plt.scatter(hull[:,0], hull[:,1], color=\"green\")\n",
        "    #plt.plot(hull, linestyle=\"dotted\")\n",
        "    #plt.show()\n",
        "\n",
        "    return hull\n",
        "\n",
        "def aline(a,b,c):\n",
        "    return (b[0]-a[0])*(c[1]-a[1])-(b[1]-a[1])*(c[0]-a[0])>0\n",
        "\n",
        "def MaxDist(ppoints,a,b):\n",
        "    d=0.5*np.abs(a[0]*(b[1]-ppoints[:,1])+b[0]*(ppoints[:,1]-a[1])+(ppoints[:,0]*(a[1]-b[1])))\n",
        "    return ppoints[np.argmax(d)]\n",
        "\n",
        "def quickHull(ppoints,a,b,f):\n",
        "    if ppoints.size==0 or a is None or b is None:\n",
        "        return [[]]\n",
        "    c= MaxDist(ppoints,a,b)\n",
        "    hull=[]\n",
        "    hull=hull+[c]\n",
        "    indices=np.where((ppoints==c).all(axis=1))[0]\n",
        "    ppoints=np.delete(ppoints,indices,axis=0)\n",
        "\n",
        "    PS=lambda l,r,ps: (\n",
        "        np.array([p for p in ps if aline(l,r,p)]),\n",
        "        np.array([p for p in ps if not aline(l,r,p)])\n",
        "    )\n",
        "\n",
        "    set1, set2=PS(a,c,ppoints)\n",
        "    set3,set4=PS(b,c,ppoints)\n",
        "\n",
        "    if f==1:\n",
        "        hull=hull+quickHull(set1,a,c,1)\n",
        "        hull=hull+quickHull(set4,c,b,1)\n",
        "    else:\n",
        "        hull=hull+quickHull(set2,a,c,-1)\n",
        "        hull=hull+quickHull(set3,c,b,-1)\n",
        "\n",
        "    return hull\n",
        "\n",
        "RP()\n",
        "\n"
      ],
      "metadata": {
        "id": "YG5qoTIX02_e",
        "colab": {
          "base_uri": "https://localhost:8080/",
          "height": 604
        },
        "outputId": "f8753c30-70f3-42ce-e797-49a55485a803"
      },
      "execution_count": 5,
      "outputs": [
        {
          "output_type": "execute_result",
          "data": {
            "text/plain": [
              "array([[0.11305718, 0.91450554],\n",
              "       [9.66859421, 0.04837926],\n",
              "       [7.38633449, 7.87057934],\n",
              "       [5.11477063, 7.6637667 ],\n",
              "       [8.53227396, 4.30930932],\n",
              "       [7.38633449, 7.87057934],\n",
              "       [8.34794772, 2.71000672],\n",
              "       [8.53227396, 4.30930932],\n",
              "       [0.86581323, 1.59465754],\n",
              "       [5.11477063, 7.6637667 ]])"
            ]
          },
          "metadata": {},
          "execution_count": 5
        },
        {
          "output_type": "display_data",
          "data": {
            "text/plain": [
              "<Figure size 640x480 with 1 Axes>"
            ],
            "image/png": "[encoded data removed]"
          },
          "metadata": {}
        }
      ]
    }
  ]
}
