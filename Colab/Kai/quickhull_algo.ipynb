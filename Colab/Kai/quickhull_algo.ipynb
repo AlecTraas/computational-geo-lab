{
  "nbformat": 4,
  "nbformat_minor": 0,
  "metadata": {
    "colab": {
      "provenance": [],
      "authorship_tag": "ABX9TyMYNikmKzhSWYPoqNPd1Gb6",
      "include_colab_link": true
    },
    "kernelspec": {
      "name": "python3",
      "display_name": "Python 3"
    },
    "language_info": {
      "name": "python"
    }
  },
  "cells": [
    {
      "cell_type": "markdown",
      "metadata": {
        "id": "view-in-github",
        "colab_type": "text"
      },
      "source": [
        "<a href=\"https://colab.research.google.com/github/AlecTraas/computational-geo-lab/blob/main/Colab/Kai/quickhull_algo.ipynb\" target=\"_parent\"><img src=\"https://colab.research.google.com/assets/colab-badge.svg\" alt=\"Open In Colab\"/></a>"
      ]
    },
    {
      "cell_type": "code",
      "execution_count": 83,
      "metadata": {
        "id": "4SxUlV6pa6aq"
      },
      "outputs": [],
      "source": [
        "import numpy as np\n",
        "import matplotlib.pyplot as plt"
      ]
    },
    {
      "cell_type": "code",
      "source": [
        "points = np.random.rand(10,2)*10\n",
        "\n",
        "leftmost = points[np.argmin(points[:,0])]\n",
        "leftmost_index = np.argmin(points[:,0])\n",
        "leftmost = points[leftmost_index]\n",
        "rightmost = points[np.argmax(points[:,0])]\n",
        "\n",
        "hull_set = np.array([leftmost, rightmost])"
      ],
      "metadata": {
        "id": "jc6_FG0G-zD0"
      },
      "execution_count": 84,
      "outputs": []
    },
    {
      "cell_type": "code",
      "source": [
        "def aboveLine(a,b,c):\n",
        "  return (b[0] - a[0]) * (c[1] - a[1]) - (b[1] - a[1]) * (c[0] - a[0]) > 0"
      ],
      "metadata": {
        "id": "N-jN-BMGlL76"
      },
      "execution_count": 85,
      "outputs": []
    },
    {
      "cell_type": "code",
      "source": [
        "def withinTriangle(p,a,b,c):\n",
        "  if aboveLine(a,c,p) and not aboveLine(a,b,p):\n",
        "    return True\n",
        "  return False"
      ],
      "metadata": {
        "id": "K6jY7p2kj87t"
      },
      "execution_count": null,
      "outputs": []
    },
    {
      "cell_type": "code",
      "source": [
        "def furthestP(points,a,b):\n",
        "  # This was wrong, but I fixed it\n",
        "  dist = 1/2 * np.abs(a[0]*(b[1] - points[:,1]) + b[0]*(points[:,1] - a[1]) + points[:,0]*(a[1] - b[1]))\n",
        "  return points[np.argmax(dist)]"
      ],
      "metadata": {
        "id": "p6Ckvx5368-f"
      },
      "execution_count": 87,
      "outputs": []
    },
    {
      "cell_type": "code",
      "source": [
        "def quickHull(points,a,b):\n",
        "  if len(points) == 0:\n",
        "    return 0\n",
        "\n",
        "  c = furthestP(points,a,b)\n",
        "\n",
        "  hull_set = np.insert(hull_set, c, leftmost_index + 1)\n",
        "\n",
        "  set_1 = np.array()\n",
        "  set_2 = np.array()\n",
        "\n",
        "  for p in points:\n",
        "    if not withinTriangle():\n",
        "      if (not aboveLine(a,b,p) and aboveLine(c,b,p)) or (aboveLine(c,b,p) and not aboveLine(c,a,p)):\n",
        "        set_1.append(p)\n",
        "      else:\n",
        "        set_2.append(p)\n",
        "  quickHull(set_1,a,c)\n",
        "  quickHull(set_2,c,b)"
      ],
      "metadata": {
        "id": "F-ZJZTZGmCwo"
      },
      "execution_count": 88,
      "outputs": []
    },
    {
      "cell_type": "code",
      "source": [
        "upper_set = np.array([])\n",
        "lower_set = np.array([])\n",
        "\n",
        "for p in points:\n",
        "    if aboveLine(leftmost, rightmost, p):\n",
        "        upper_set = np.append(upper_set, p)\n",
        "    else:\n",
        "        lower_set = np.append(lower_set, p)\n",
        "\n",
        "quickHull(upper_set,leftmost,rightmost)\n",
        "quickHull(lower_set,leftmost,rightmost)"
      ],
      "metadata": {
        "id": "BXLZtuX5bbkd"
      },
      "execution_count": null,
      "outputs": []
    },
    {
      "cell_type": "code",
      "source": [
        "plt.scatter(points[:,0],points[:,1])"
      ],
      "metadata": {
        "id": "J5vAjdEZ_IvM"
      },
      "execution_count": null,
      "outputs": []
    }
  ]
}