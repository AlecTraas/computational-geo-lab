{
  "nbformat": 4,
  "nbformat_minor": 0,
  "metadata": {
    "colab": {
      "provenance": [],
      "authorship_tag": "ABX9TyNggWn470kBpxiUB+oQ7CaZ",
      "include_colab_link": true
    },
    "kernelspec": {
      "name": "python3",
      "display_name": "Python 3"
    },
    "language_info": {
      "name": "python"
    }
  },
  "cells": [
    {
      "cell_type": "markdown",
      "metadata": {
        "id": "view-in-github",
        "colab_type": "text"
      },
      "source": [
        "<a href=\"https://colab.research.google.com/github/AlecTraas/computational-geo-lab/blob/main/test.ipynb\" target=\"_parent\"><img src=\"https://colab.research.google.com/assets/colab-badge.svg\" alt=\"Open In Colab\"/></a>"
      ]
    },
    {
      "cell_type": "code",
      "execution_count": null,
      "metadata": {
        "id": "l0qy5o1tIfKg"
      },
      "outputs": [],
      "source": [
        "import numpy as np\n",
        "import matplotlib.pyplot as plt"
      ]
    },
    {
      "cell_type": "code",
      "source": [
        "import numpy as np\n",
        "import matplotlib.pyplot as plt\n",
        "from numpy.linalg import norm\n",
        "\n",
        "# Correctly create a 2D array of points\n",
        "points = np.array([[1, 1], [2, 2], [3, 4], [5, 6], [7, 8]])\n",
        "\n",
        "# Sort by x-value\n",
        "x_vals = points[:, 0]\n",
        "indices = np.argsort(x_vals)\n",
        "new_points = points[indices]\n",
        "\n",
        "# Finding leftmost and rightmost points\n",
        "lp = new_points[0]\n",
        "rp = new_points[-1]  # Use -1 to access the last item\n",
        "\n",
        "# Initializing lists for upper and lower sets\n",
        "upper = []\n",
        "lower = []\n",
        "\n",
        "# Separating points into upperset and lowerset\n",
        "for p in points:\n",
        "    # Direct comparison since p is a point, not an array of points\n",
        "    if p[1] >= lp[1]:\n",
        "        upper.append(p)\n",
        "    else:\n",
        "        lower.append(p)\n",
        "\n",
        "# Convert lists to numpy arrays\n",
        "upper = np.array(upper)\n",
        "lower = np.array(lower)\n",
        "\n",
        "# Function to compute distances of points from line using vector cross product\n",
        "def distance(lp, rp, points):\n",
        "    # Ensure points is a 2D array for broadcasting to work\n",
        "    if points.ndim == 1:\n",
        "        points = points[np.newaxis, :]\n",
        "    # Compute the distance\n",
        "    dist = np.cross(rp-lp, points-lp) / norm(rp-lp)\n",
        "    pf = points[np.argmax(np.abs(dist))]  # Use np.abs(dist) to get the point furthest away\n",
        "    return pf\n",
        "\n",
        "# Example usage of the distance function\n",
        "# Assuming you want to find the distance of all points from the line formed by lp and rp\n",
        "pf = distance(lp, rp, points)\n",
        "print(pf)\n"
      ],
      "metadata": {
        "id": "IcEb6fT9IkT1",
        "colab": {
          "base_uri": "https://localhost:8080/"
        },
        "outputId": "59c0c85b-59ce-42da-9294-485649d4d555"
      },
      "execution_count": 4,
      "outputs": [
        {
          "output_type": "stream",
          "name": "stdout",
          "text": [
            "[3 4]\n"
          ]
        }
      ]
    }
  ]
}
