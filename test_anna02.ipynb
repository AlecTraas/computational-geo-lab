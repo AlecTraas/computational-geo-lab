{
  "nbformat": 4,
  "nbformat_minor": 0,
  "metadata": {
    "colab": {
      "provenance": [],
      "authorship_tag": "ABX9TyMGNEMVikf9s/gI9pNR6GsO",
      "include_colab_link": true
    },
    "kernelspec": {
      "name": "python3",
      "display_name": "Python 3"
    },
    "language_info": {
      "name": "python"
    }
  },
  "cells": [
    {
      "cell_type": "markdown",
      "metadata": {
        "id": "view-in-github",
        "colab_type": "text"
      },
      "source": [
        "<a href=\"https://colab.research.google.com/github/AlecTraas/computational-geo-lab/blob/main/test_anna02.ipynb\" target=\"_parent\"><img src=\"https://colab.research.google.com/assets/colab-badge.svg\" alt=\"Open In Colab\"/></a>"
      ]
    },
    {
      "cell_type": "code",
      "source": [
        "import numpy as np\n",
        "import matplotlib.pyplot as plt"
      ],
      "metadata": {
        "id": "SGFP0lE0zOOU"
      },
      "execution_count": 16,
      "outputs": []
    },
    {
      "cell_type": "code",
      "source": [
        "import os\n",
        "\n",
        "print(\"Current Working Directory:\", os.getcwd())\n",
        "print(\"\\nFiles in the Current Directory:\")\n",
        "print(os.listdir('.'))"
      ],
      "metadata": {
        "colab": {
          "base_uri": "https://localhost:8080/"
        },
        "id": "6HmETc272mSy",
        "outputId": "8e490e1b-1529-4409-d92f-444dd5a9eb0a"
      },
      "execution_count": 36,
      "outputs": [
        {
          "output_type": "stream",
          "name": "stdout",
          "text": [
            "Current Working Directory: /content\n",
            "\n",
            "Files in the Current Directory:\n",
            "['.config', 'sample_data']\n"
          ]
        }
      ]
    },
    {
      "cell_type": "code",
      "source": [
        "from content import ConvexHull2D\n",
        "import numpy as np\n",
        "model = ConvexHull2D()"
      ],
      "metadata": {
        "colab": {
          "base_uri": "https://localhost:8080/",
          "height": 360
        },
        "id": "y0SYKdlC1uvl",
        "outputId": "a54834e6-11e1-48d5-eb6a-657c24d6cbaf"
      },
      "execution_count": 37,
      "outputs": [
        {
          "output_type": "error",
          "ename": "ModuleNotFoundError",
          "evalue": "No module named 'content'",
          "traceback": [
            "\u001b[0;31m---------------------------------------------------------------------------\u001b[0m",
            "\u001b[0;31mModuleNotFoundError\u001b[0m                       Traceback (most recent call last)",
            "\u001b[0;32m<ipython-input-37-e252df7cc5f6>\u001b[0m in \u001b[0;36m<cell line: 1>\u001b[0;34m()\u001b[0m\n\u001b[0;32m----> 1\u001b[0;31m \u001b[0;32mfrom\u001b[0m \u001b[0mcontent\u001b[0m \u001b[0;32mimport\u001b[0m \u001b[0mConvexHull2D\u001b[0m\u001b[0;34m\u001b[0m\u001b[0;34m\u001b[0m\u001b[0m\n\u001b[0m\u001b[1;32m      2\u001b[0m \u001b[0;32mimport\u001b[0m \u001b[0mnumpy\u001b[0m \u001b[0;32mas\u001b[0m \u001b[0mnp\u001b[0m\u001b[0;34m\u001b[0m\u001b[0;34m\u001b[0m\u001b[0m\n\u001b[1;32m      3\u001b[0m \u001b[0mmodel\u001b[0m \u001b[0;34m=\u001b[0m \u001b[0mConvexHull2D\u001b[0m\u001b[0;34m(\u001b[0m\u001b[0;34m)\u001b[0m\u001b[0;34m\u001b[0m\u001b[0;34m\u001b[0m\u001b[0m\n",
            "\u001b[0;31mModuleNotFoundError\u001b[0m: No module named 'content'",
            "",
            "\u001b[0;31m---------------------------------------------------------------------------\u001b[0;32m\nNOTE: If your import is failing due to a missing package, you can\nmanually install dependencies using either !pip or !apt.\n\nTo view examples of installing some common dependencies, click the\n\"Open Examples\" button below.\n\u001b[0;31m---------------------------------------------------------------------------\u001b[0m\n"
          ],
          "errorDetails": {
            "actions": [
              {
                "action": "open_url",
                "actionText": "Open Examples",
                "url": "/notebooks/snippets/importing_libraries.ipynb"
              }
            ]
          }
        }
      ]
    },
    {
      "cell_type": "code",
      "source": [
        "def divide_area(start, end, points):\n",
        "    if points is None or len(points) < 1:  # Modified to use len(points) for numpy array\n",
        "        return None, None\n",
        "    S1, S2 = [], []\n",
        "    for _, point in enumerate(points):\n",
        "        dis = compute_distance(start, end, point)\n",
        "        if dis > 0:\n",
        "            S1.append(point)\n",
        "        else:\n",
        "            S2.append(point)\n",
        "    S1 = np.vstack(S1) if len(S1) else None\n",
        "    S2 = np.vstack(S2) if len(S2) else None\n",
        "    return S1, S2"
      ],
      "metadata": {
        "id": "2WPSitRu06rS"
      },
      "execution_count": 17,
      "outputs": []
    },
    {
      "cell_type": "code",
      "source": [
        "def triangle_partition(points, P, C, Q):\n",
        "    if points is None:\n",
        "        return None, None\n",
        "    S1, S2 = [], []\n",
        "    for _, point in enumerate(points):\n",
        "        disPC = compute_distance(P, C, point)  # Use cross product to determine which side the point is on\n",
        "        disCQ = compute_distance(C, Q, point)\n",
        "        # Adjusting the conditions based on how compute_distance interprets the sides\n",
        "        if disPC > 0 and disCQ > 0:  # Assuming positive distance means 'right side' for both segments\n",
        "            S1.append(point)\n",
        "        elif disPC < 0 and disCQ < 0:  # Assuming negative distance means 'left side' for both segments\n",
        "            S2.append(point)\n",
        "    S1 = np.vstack(S1) if len(S1) else None\n",
        "    S2 = np.vstack(S2) if len(S2) else None\n",
        "    return S1, S2"
      ],
      "metadata": {
        "id": "oUro7quR09_B"
      },
      "execution_count": 22,
      "outputs": []
    },
    {
      "cell_type": "code",
      "source": [
        "def compute_distance(start, end, point, eps=1e-8):\n",
        "    '''\n",
        "    Return the cross product from point to segment defined by (start, end)\n",
        "    '''\n",
        "    return np.cross(end-start,point-start)/(np.linalg.norm(end-start)+eps) #prevent from dividing by 0\n",
        "\n",
        "def clock_sort(x):\n",
        "    '''\n",
        "    Return sorted vertices in the clockwise using the angle\n",
        "    between the x-axis and vector pointing from the center to the point\n",
        "    '''\n",
        "    x0, y0 = x[:,0].mean(), x[:,1].mean()\n",
        "    theta = np.arctan2(x[:,1] - y0, x[:,0] - x0)\n",
        "    index = np.argsort(theta)\n",
        "    x = x[index]\n",
        "\n",
        "    return x\n",
        "\n",
        "class ConvexHull2D:\n",
        "\n",
        "\n",
        "    def __init__(self):\n",
        "        self.points = None\n",
        "        self.convext_hull = []\n",
        "\n",
        "    def __call__(self, point_set):\n",
        "        return self.forward(point_set)\n",
        "\n",
        "    def reset(self):\n",
        "        self.points = None\n",
        "        self.convext_hull = []\n",
        "\n",
        "    def forward(self, point_set):\n",
        "        if point_set is None or len(point_set) < 3:\n",
        "            print(\"No valid convex hull is found! Please provide more than 3 unique points\")\n",
        "            return None\n",
        "        self.reset()\n",
        "        self.points = np.unique(point_set, axis=0) #get rid of duplicate elements\n",
        "        return self._quickhull()\n",
        "\n",
        "    def isInside(self, points):\n",
        "        if len(self.convext_hull) == 0:\n",
        "            print(\"Please build a convex hull first.\")\n",
        "            return None\n",
        "        result = []\n",
        "        for point in points:\n",
        "            result.append(self._isInside(point))\n",
        "        return np.asarray(result)\n",
        "\n",
        "    def _quickhull(self):\n",
        "        self.points = self.points[np.lexsort(np.transpose(self.points)[::-1])]  # sort the data by x-axis, then by y-axis\n",
        "        left_most, right_most = self.points[0], self.points[-1]     #find the left-most point and right-most point\n",
        "        self.points = self.points[1:-1]     #Get the rest points\n",
        "        self.convext_hull.append(left_most)     #add the left-most point into the output\n",
        "        self.convext_hull.append(right_most)    #add the right-most point into the output\n",
        "\n",
        "        self.right_points, self.left_points = divide_area(start=left_most,\n",
        "                                                          end=right_most,\n",
        "                                                          points=self.points)\n",
        "\n",
        "        self._findhull(self.right_points, left_most, right_most)\n",
        "        self._findhull(self.left_points, right_most, left_most)\n",
        "\n",
        "        self.convext_hull = np.stack(self.convext_hull)\n",
        "        self.convext_hull = clock_sort(self.convext_hull)\n",
        "        if self.convext_hull.shape[0] < 3:\n",
        "            try:\n",
        "                raise Exception(\"Not enough points are found for convex hull. Please check your input and other information\")\n",
        "            except Exception as inst:\n",
        "                print(type(inst))\n",
        "                print(inst.args)\n",
        "        else:\n",
        "            return self.convext_hull\n",
        "\n",
        "    def _findhull(self, points, P, Q):\n",
        "        if points is None:\n",
        "            return None\n",
        "        distance = 0.0\n",
        "        C, index = None, None\n",
        "        for i, point in enumerate(points):\n",
        "            current_dis = abs(compute_distance(P, Q, point))\n",
        "            if current_dis > distance: # find a point whose distance from PQ is the maximum among all the points\n",
        "                C = point\n",
        "                index = i\n",
        "                distance = current_dis\n",
        "        if C is not None:\n",
        "            self.convext_hull.append(C)\n",
        "            points = np.delete(points, index, axis=0) #delete C from original points\n",
        "        else:\n",
        "            try:\n",
        "                raise Exception(\"The input points are located on the same line. No convex hull is found!\")\n",
        "            except Exception as inst:\n",
        "                print(type(inst))\n",
        "                print(inst.args)\n",
        "                return\n",
        "\n",
        "\n",
        "        S1, S2 = triangle_partition(points, P, C, Q) #interate this process for S1 and S2\n",
        "        self._findhull(S1, P, C)\n",
        "        self._findhull(S2, C, Q)\n",
        "\n",
        "    def _isInside(self, point):\n",
        "        for i in range(self.convext_hull.shape[0]-1):\n",
        "            start, end = self.convext_hull[i], self.convext_hull[i+1]\n",
        "            if compute_distance(start, end, point) < 0:\n",
        "                return False\n",
        "        return True\n",
        "\n",
        "\n",
        ""
      ],
      "metadata": {
        "id": "yCwxpfzu0QSP"
      },
      "execution_count": 41,
      "outputs": []
    },
    {
      "cell_type": "code",
      "source": [
        "points = None\n",
        "model(points)"
      ],
      "metadata": {
        "colab": {
          "base_uri": "https://localhost:8080/",
          "height": 199
        },
        "id": "TxMc8-euzRZ9",
        "outputId": "7ea8d7d0-05f3-447b-d0cb-c3da02c0c2fa"
      },
      "execution_count": 42,
      "outputs": [
        {
          "output_type": "error",
          "ename": "NameError",
          "evalue": "name 'model' is not defined",
          "traceback": [
            "\u001b[0;31m---------------------------------------------------------------------------\u001b[0m",
            "\u001b[0;31mNameError\u001b[0m                                 Traceback (most recent call last)",
            "\u001b[0;32m<ipython-input-42-03d6a0d5c360>\u001b[0m in \u001b[0;36m<cell line: 2>\u001b[0;34m()\u001b[0m\n\u001b[1;32m      1\u001b[0m \u001b[0mpoints\u001b[0m \u001b[0;34m=\u001b[0m \u001b[0;32mNone\u001b[0m\u001b[0;34m\u001b[0m\u001b[0;34m\u001b[0m\u001b[0m\n\u001b[0;32m----> 2\u001b[0;31m \u001b[0mmodel\u001b[0m\u001b[0;34m(\u001b[0m\u001b[0mpoints\u001b[0m\u001b[0;34m)\u001b[0m\u001b[0;34m\u001b[0m\u001b[0;34m\u001b[0m\u001b[0m\n\u001b[0m",
            "\u001b[0;31mNameError\u001b[0m: name 'model' is not defined"
          ]
        }
      ]
    },
    {
      "cell_type": "code",
      "source": [
        "points = np.array([[0,0], [1,2], [-4.9, 0.73]])\n",
        "model(points)"
      ],
      "metadata": {
        "colab": {
          "base_uri": "https://localhost:8080/",
          "height": 199
        },
        "id": "_2qmXkM8zWNw",
        "outputId": "fb4dc90e-3dad-48f2-a7ec-e9ca153aed58"
      },
      "execution_count": 43,
      "outputs": [
        {
          "output_type": "error",
          "ename": "NameError",
          "evalue": "name 'model' is not defined",
          "traceback": [
            "\u001b[0;31m---------------------------------------------------------------------------\u001b[0m",
            "\u001b[0;31mNameError\u001b[0m                                 Traceback (most recent call last)",
            "\u001b[0;32m<ipython-input-43-e89d76caa846>\u001b[0m in \u001b[0;36m<cell line: 2>\u001b[0;34m()\u001b[0m\n\u001b[1;32m      1\u001b[0m \u001b[0mpoints\u001b[0m \u001b[0;34m=\u001b[0m \u001b[0mnp\u001b[0m\u001b[0;34m.\u001b[0m\u001b[0marray\u001b[0m\u001b[0;34m(\u001b[0m\u001b[0;34m[\u001b[0m\u001b[0;34m[\u001b[0m\u001b[0;36m0\u001b[0m\u001b[0;34m,\u001b[0m\u001b[0;36m0\u001b[0m\u001b[0;34m]\u001b[0m\u001b[0;34m,\u001b[0m \u001b[0;34m[\u001b[0m\u001b[0;36m1\u001b[0m\u001b[0;34m,\u001b[0m\u001b[0;36m2\u001b[0m\u001b[0;34m]\u001b[0m\u001b[0;34m,\u001b[0m \u001b[0;34m[\u001b[0m\u001b[0;34m-\u001b[0m\u001b[0;36m4.9\u001b[0m\u001b[0;34m,\u001b[0m \u001b[0;36m0.73\u001b[0m\u001b[0;34m]\u001b[0m\u001b[0;34m]\u001b[0m\u001b[0;34m)\u001b[0m\u001b[0;34m\u001b[0m\u001b[0;34m\u001b[0m\u001b[0m\n\u001b[0;32m----> 2\u001b[0;31m \u001b[0mmodel\u001b[0m\u001b[0;34m(\u001b[0m\u001b[0mpoints\u001b[0m\u001b[0;34m)\u001b[0m\u001b[0;34m\u001b[0m\u001b[0;34m\u001b[0m\u001b[0m\n\u001b[0m",
            "\u001b[0;31mNameError\u001b[0m: name 'model' is not defined"
          ]
        }
      ]
    },
    {
      "cell_type": "code",
      "source": [
        "import matplotlib.pyplot as plt\n",
        "\n",
        "points = np.random.random((100,2)) * 100 #draw from normal distribution and scale it\n",
        "points -= np.random.random() * 100 # test points with positive and negative coordinates\n",
        "test_points = np.random.random((10,2)) * 100\n",
        "\n",
        "plt.plot(points[:,0], points[:,1], 'o')\n",
        "plt.plot(test_points[:,0], test_points[:,1], 'ro')\n",
        "convex_hull = model(points)\n",
        "print (\"The vertices of convex hull are\\n\")\n",
        "print (convex_hull)\n",
        "\n",
        "#Close the hull during plot by making the head and tail as the same point\n",
        "convex_hull = np.vstack([convex_hull, convex_hull[0]])\n",
        "plt.plot(convex_hull[:,0], convex_hull[:,1])\n",
        "\n",
        "isInside = model.isInside(test_points)\n",
        "print (\"\\n\")\n",
        "print (\"Testing the model with random test set\")\n",
        "for point, status in zip(test_points, isInside):\n",
        "    print(\"point: \", point, \" status: \", status )\n",
        "\n",
        "plt.show()"
      ],
      "metadata": {
        "colab": {
          "base_uri": "https://localhost:8080/",
          "height": 666
        },
        "id": "jU3O45f-zkQC",
        "outputId": "dd077301-492f-4ccc-e488-a5f686a5c2bd"
      },
      "execution_count": 44,
      "outputs": [
        {
          "output_type": "error",
          "ename": "NameError",
          "evalue": "name 'model' is not defined",
          "traceback": [
            "\u001b[0;31m---------------------------------------------------------------------------\u001b[0m",
            "\u001b[0;31mNameError\u001b[0m                                 Traceback (most recent call last)",
            "\u001b[0;32m<ipython-input-44-e7f2ee4c7d09>\u001b[0m in \u001b[0;36m<cell line: 9>\u001b[0;34m()\u001b[0m\n\u001b[1;32m      7\u001b[0m \u001b[0mplt\u001b[0m\u001b[0;34m.\u001b[0m\u001b[0mplot\u001b[0m\u001b[0;34m(\u001b[0m\u001b[0mpoints\u001b[0m\u001b[0;34m[\u001b[0m\u001b[0;34m:\u001b[0m\u001b[0;34m,\u001b[0m\u001b[0;36m0\u001b[0m\u001b[0;34m]\u001b[0m\u001b[0;34m,\u001b[0m \u001b[0mpoints\u001b[0m\u001b[0;34m[\u001b[0m\u001b[0;34m:\u001b[0m\u001b[0;34m,\u001b[0m\u001b[0;36m1\u001b[0m\u001b[0;34m]\u001b[0m\u001b[0;34m,\u001b[0m \u001b[0;34m'o'\u001b[0m\u001b[0;34m)\u001b[0m\u001b[0;34m\u001b[0m\u001b[0;34m\u001b[0m\u001b[0m\n\u001b[1;32m      8\u001b[0m \u001b[0mplt\u001b[0m\u001b[0;34m.\u001b[0m\u001b[0mplot\u001b[0m\u001b[0;34m(\u001b[0m\u001b[0mtest_points\u001b[0m\u001b[0;34m[\u001b[0m\u001b[0;34m:\u001b[0m\u001b[0;34m,\u001b[0m\u001b[0;36m0\u001b[0m\u001b[0;34m]\u001b[0m\u001b[0;34m,\u001b[0m \u001b[0mtest_points\u001b[0m\u001b[0;34m[\u001b[0m\u001b[0;34m:\u001b[0m\u001b[0;34m,\u001b[0m\u001b[0;36m1\u001b[0m\u001b[0;34m]\u001b[0m\u001b[0;34m,\u001b[0m \u001b[0;34m'ro'\u001b[0m\u001b[0;34m)\u001b[0m\u001b[0;34m\u001b[0m\u001b[0;34m\u001b[0m\u001b[0m\n\u001b[0;32m----> 9\u001b[0;31m \u001b[0mconvex_hull\u001b[0m \u001b[0;34m=\u001b[0m \u001b[0mmodel\u001b[0m\u001b[0;34m(\u001b[0m\u001b[0mpoints\u001b[0m\u001b[0;34m)\u001b[0m\u001b[0;34m\u001b[0m\u001b[0;34m\u001b[0m\u001b[0m\n\u001b[0m\u001b[1;32m     10\u001b[0m \u001b[0mprint\u001b[0m \u001b[0;34m(\u001b[0m\u001b[0;34m\"The vertices of convex hull are\\n\"\u001b[0m\u001b[0;34m)\u001b[0m\u001b[0;34m\u001b[0m\u001b[0;34m\u001b[0m\u001b[0m\n\u001b[1;32m     11\u001b[0m \u001b[0mprint\u001b[0m \u001b[0;34m(\u001b[0m\u001b[0mconvex_hull\u001b[0m\u001b[0;34m)\u001b[0m\u001b[0;34m\u001b[0m\u001b[0;34m\u001b[0m\u001b[0m\n",
            "\u001b[0;31mNameError\u001b[0m: name 'model' is not defined"
          ]
        },
        {
          "output_type": "display_data",
          "data": {
            "text/plain": [
              "<Figure size 640x480 with 1 Axes>"
            ],
            "image/png": "[encoded data removed]"
          },
          "metadata": {}
        }
      ]
    }
  ]
}