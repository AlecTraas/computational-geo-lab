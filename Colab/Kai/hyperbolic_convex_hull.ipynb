{
  "nbformat": 4,
  "nbformat_minor": 0,
  "metadata": {
    "colab": {
      "provenance": [],
      "authorship_tag": "ABX9TyPgkbxZcRUufgoJ1wvJXanx",
      "include_colab_link": true
    },
    "kernelspec": {
      "name": "python3",
      "display_name": "Python 3"
    },
    "language_info": {
      "name": "python"
    }
  },
  "cells": [
    {
      "cell_type": "markdown",
      "metadata": {
        "id": "view-in-github",
        "colab_type": "text"
      },
      "source": [
        "<a href=\"https://colab.research.google.com/github/AlecTraas/computational-geo-lab/blob/main/Colab/Kai/hyperbolic_convex_hull.ipynb\" target=\"_parent\"><img src=\"https://colab.research.google.com/assets/colab-badge.svg\" alt=\"Open In Colab\"/></a>"
      ]
    },
    {
      "cell_type": "code",
      "execution_count": 64,
      "metadata": {
        "id": "r83j8yb8oQao"
      },
      "outputs": [],
      "source": [
        "import numpy as np\n",
        "import matplotlib.pyplot as plt"
      ]
    },
    {
      "cell_type": "code",
      "source": [
        "# plots a geodesic segment through complex numbers a and b, with color c\n",
        "def plot_geodesic(a,b,c):\n",
        "    if abs(a.real - b.real) <= 2/900:\n",
        "      plt.plot([a.real,b.real],[a.imag,b.imag],color=c)\n",
        "      return\n",
        "    o = ((a.real**2 + a.imag**2 - b.real**2 - b.imag**2) / (2*(a.real - b.real)), 0)\n",
        "    x = np.linspace(min(a.real,b.real), max(a.real,b.real), 1000)\n",
        "    arc = lambda x: np.sqrt(np.linalg.norm(np.array([a.real,a.imag]) - np.array(o))**2 - (x - o[0])**2) + o[1]\n",
        "    y = [arc(xi) for xi in x]\n",
        "    plt.plot(x,y,color=c)"
      ],
      "metadata": {
        "id": "UIDSQTCWocXL"
      },
      "execution_count": 65,
      "outputs": []
    },
    {
      "cell_type": "code",
      "source": [
        "# plots a list of points p, with color c\n",
        "def plot_point(p,c):\n",
        "    plt.scatter(np.real(p), np.imag(p), s=10, c=c, alpha=1)"
      ],
      "metadata": {
        "id": "3rWDXUysofAh"
      },
      "execution_count": 81,
      "outputs": []
    },
    {
      "cell_type": "code",
      "source": [
        "# returns the distance between two points a and b\n",
        "def dist(a,b):\n",
        "  numer = np.abs(a - np.conjugate(b)) + np.abs(a - b)\n",
        "  denom = np.abs(a - np.conjugate(b)) - np.abs(a - b)\n",
        "  return np.log(numer/denom)"
      ],
      "metadata": {
        "id": "V4ULVduZ0Vg_"
      },
      "execution_count": 67,
      "outputs": []
    },
    {
      "cell_type": "code",
      "source": [
        "# returns the angle ∠ACB given points a, b, c\n",
        "def angle(pa,pb,pc):\n",
        "  a = dist(pb,pc)\n",
        "  b = dist(pa,pc)\n",
        "  c = dist(pa,pb)\n",
        "  numer = np.cosh(a) * np.cosh(b) - np.cosh(c)\n",
        "  denom = np.sinh(a) * np.sinh(b)\n",
        "  return np.arccos(numer/denom)"
      ],
      "metadata": {
        "id": "iEC4zfExvSrL"
      },
      "execution_count": 68,
      "outputs": []
    },
    {
      "cell_type": "code",
      "source": [
        "# applies the Cayley transform to a set of points z in the upper half plane\n",
        "def cayley(z):\n",
        "  return (z-1j)/(z+1j)"
      ],
      "metadata": {
        "id": "eRyrUWQFFqMR"
      },
      "execution_count": 88,
      "outputs": []
    },
    {
      "cell_type": "code",
      "source": [
        "n = 10\n",
        "points = np.random.uniform(-10, 10, n) + np.random.uniform(0, 10, n) * 1j\n",
        "\n",
        "fig, ax = plt.subplots()\n",
        "ax.axhline(0, color='black')\n",
        "\n",
        "# plot poincare disc points\n",
        "# plot_point(cayley(points),'g')\n",
        "\n",
        "# plot upper half plane points\n",
        "plot_point(points,'b')\n",
        "\n",
        "# unit circle\n",
        "# theta = np.linspace(0, 2*np.pi, 1000)\n",
        "# x = np.cos(theta)\n",
        "# y = np.sin(theta)\n",
        "# plt.plot(x, y, color = 'r')\n",
        "\n",
        "# formatting\n",
        "ax.axis('off')\n",
        "ax.set_aspect('equal')\n",
        "plt.tight_layout()\n",
        "plt.show()"
      ],
      "metadata": {
        "colab": {
          "base_uri": "https://localhost:8080/",
          "height": 382
        },
        "id": "XeiKChQGohJY",
        "outputId": "a4176c94-296a-4efc-da73-c8aae96d6340"
      },
      "execution_count": 105,
      "outputs": [
        {
          "output_type": "display_data",
          "data": {
            "text/plain": [
              "<Figure size 640x480 with 1 Axes>"
            ],
            "image/png": "[encoded data removed]"
          },
          "metadata": {}
        }
      ]
    }
  ]
}