{
  "nbformat": 4,
  "nbformat_minor": 0,
  "metadata": {
    "colab": {
      "provenance": [],
      "authorship_tag": "ABX9TyPNU+kpLBmqr/Ok/BApeUFN",
      "include_colab_link": true
    },
    "kernelspec": {
      "name": "python3",
      "display_name": "Python 3"
    },
    "language_info": {
      "name": "python"
    }
  },
  "cells": [
    {
      "cell_type": "markdown",
      "metadata": {
        "id": "view-in-github",
        "colab_type": "text"
      },
      "source": [
        "<a href=\"https://colab.research.google.com/github/AlecTraas/computational-geo-lab/blob/main/Colab/Kai/quickhull_algo.ipynb\" target=\"_parent\"><img src=\"https://colab.research.google.com/assets/colab-badge.svg\" alt=\"Open In Colab\"/></a>"
      ]
    },
    {
      "cell_type": "code",
      "execution_count": 1,
      "metadata": {
        "id": "4SxUlV6pa6aq"
      },
      "outputs": [],
      "source": [
        "import numpy as np\n",
        "import matplotlib.pyplot as plt"
      ]
    },
    {
      "cell_type": "code",
      "source": [
        "def runProgram():\n",
        "  num_points = 10\n",
        "\n",
        "  points = np.random.rand(num_points,2)*10\n",
        "\n",
        "  sort = sorted(points, key=lambda x: x[0])\n",
        "\n",
        "  left = sort[0]\n",
        "  right = sort[-1]\n",
        "\n",
        "  hull_set = np.ndarray((2,), dtype=float)\n",
        "  hull_set = hull_set + [left, right]\n",
        "\n",
        "  sort.pop(0)\n",
        "  sort.pop(-1)\n",
        "\n",
        "  parseSides = lambda l, r, ps: (\n",
        "    np.array([p for p in ps if aboveLine(l, r, p)]),\n",
        "    np.array([p for p in ps if not aboveLine(l, r, p)])\n",
        "  )\n",
        "\n",
        "  upper_set, lower_set = parseSides(left, right, sort)\n",
        "\n",
        "  hull_set += quickHull(upper_set,left,right,1)\n",
        "  hull_set += quickHull(lower_set,left,right,-1)\n",
        "\n",
        "  plt.scatter(points[:,0],points[:,1])\n",
        "  plt.scatter(hull_set[:,0],hull_set[:,1],color='red')\n",
        "\n",
        "  return hull_set"
      ],
      "metadata": {
        "id": "catyJaWp7eG2"
      },
      "execution_count": 20,
      "outputs": []
    },
    {
      "cell_type": "code",
      "source": [
        "def aboveLine(a,b,c):\n",
        "  return (b[0] - a[0]) * (c[1] - a[1]) - (b[1] - a[1]) * (c[0] - a[0]) > 0"
      ],
      "metadata": {
        "id": "N-jN-BMGlL76"
      },
      "execution_count": 3,
      "outputs": []
    },
    {
      "cell_type": "code",
      "source": [
        "def furthestP(points,a,b):\n",
        "  # This was wrong, but I fixed it\n",
        "  dist = 1/2 * np.abs(a[0]*(b[1] - points[:,1]) + b[0]*(points[:,1] - a[1]) + points[:,0]*(a[1] - b[1]))\n",
        "  return points[np.argmax(dist)]"
      ],
      "metadata": {
        "id": "p6Ckvx5368-f"
      },
      "execution_count": 37,
      "outputs": []
    },
    {
      "cell_type": "code",
      "source": [
        "def quickHull(points,a,b,f):\n",
        "  if len(points) == 0:\n",
        "    return 0\n",
        "\n",
        "  c = furthestP(points,a,b)\n",
        "\n",
        "  hull_set = np.array([c])\n",
        "\n",
        "  parseSides = lambda l, r, ps: (\n",
        "    np.array([p for p in ps if aboveLine(l, r, p)]),\n",
        "    np.array([p for p in ps if not aboveLine(l, r, p)])\n",
        "  )\n",
        "\n",
        "  set_1a, set_1b = parseSides(a,c,points)\n",
        "  set_2a, set_2b = parseSides(b,c,points)\n",
        "\n",
        "  if f == 1:\n",
        "      hull_set = hull_set + quickHull(a, c, set_1a, 1)\n",
        "      hull_set = hull_set + quickHull(c, b, set_2a, 1)\n",
        "\n",
        "  else:\n",
        "      hull_set = hull_set + quickHull(a, c, set_1b, -1)\n",
        "      hull_set = hull_set + quickHull(c, b, set_2b, -1)\n",
        "\n",
        "  return hull_set"
      ],
      "metadata": {
        "id": "F-ZJZTZGmCwo"
      },
      "execution_count": 35,
      "outputs": []
    },
    {
      "cell_type": "code",
      "source": [
        "runProgram()"
      ],
      "metadata": {
        "id": "3tvUG1qgn1NV"
      },
      "execution_count": null,
      "outputs": []
    }
  ]
}