{
  "nbformat": 4,
  "nbformat_minor": 0,
  "metadata": {
    "colab": {
      "provenance": [],
      "authorship_tag": "ABX9TyMseC+U2IqIFfx0XefeiRZu",
      "include_colab_link": true
    },
    "kernelspec": {
      "name": "python3",
      "display_name": "Python 3"
    },
    "language_info": {
      "name": "python"
    }
  },
  "cells": [
    {
      "cell_type": "markdown",
      "metadata": {
        "id": "view-in-github",
        "colab_type": "text"
      },
      "source": [
        "<a href=\"https://colab.research.google.com/github/AlecTraas/computational-geo-lab/blob/main/Colab/Kai/quickhull_algo_3d.ipynb\" target=\"_parent\"><img src=\"https://colab.research.google.com/assets/colab-badge.svg\" alt=\"Open In Colab\"/></a>"
      ]
    },
    {
      "cell_type": "code",
      "execution_count": null,
      "metadata": {
        "id": "W2wdRKkka48b"
      },
      "outputs": [],
      "source": [
        "import numpy as np\n",
        "import matplotlib.pyplot as plt\n",
        "import random as rnd"
      ]
    },
    {
      "cell_type": "code",
      "source": [
        "def main(num_points):\n",
        "  points = sorted([[rnd.random()*10, rnd.random()*10, rnd.random()*10] for _ in range(num_points)], key=lambda x: x[0])\n",
        "  np_points = np.array(points)\n",
        "  fig = plt.figure()\n",
        "  ax = fig.add_subplot(projection='3d')\n",
        "  ax.scatter(np_points[:,0], np_points[:,1], np_points[:,2])\n",
        "  hull = ConvexHull(points)\n",
        "  hull.quick_hull()"
      ],
      "metadata": {
        "id": "Dr3594c-bXjz"
      },
      "execution_count": null,
      "outputs": []
    },
    {
      "cell_type": "code",
      "source": [
        "# I miss structs :(\n",
        "class ConvexHull():"
      ],
      "metadata": {
        "id": "BRGBUNFoVZtO"
      },
      "execution_count": null,
      "outputs": []
    },
    {
      "cell_type": "code",
      "source": [
        "  def __init__(self, points):\n",
        "    self.points = points\n",
        "    self.hull_points = None\n",
        "    self.hull_facets = None\n",
        "    self.hull_ridges = None\n",
        "    self.neighbors = None"
      ],
      "metadata": {
        "id": "y6e5fjQEdz1R"
      },
      "execution_count": null,
      "outputs": []
    },
    {
      "cell_type": "code",
      "source": [
        "  def quick_hull(self):\n",
        "    # I assume, for the sake of simplicity, that no one will input fewer that 4 points\n",
        "    define_tetrahedron()\n",
        "    define_neighbors()\n",
        "    clear_points_within_hull()"
      ],
      "metadata": {
        "id": "98_JxCAddlHf"
      },
      "execution_count": null,
      "outputs": []
    },
    {
      "cell_type": "code",
      "source": [
        "  def define_tetrahedron(self):\n",
        "    \"\"\"\n",
        "    - Get the bounding points (x-min, x-max, y-min, z-max)\n",
        "    - Connect by distance, filling so that if there is already an ridge the point will look further for a partner.\n",
        "      We know that each point should have 3 partners, so do not create unnecesary ridges\n",
        "    - Simply create a facet per trio of distinct points\n",
        "    \"\"\""
      ],
      "metadata": {
        "id": "c82JDd4tdj9P"
      },
      "execution_count": null,
      "outputs": []
    },
    {
      "cell_type": "code",
      "source": [
        "  def define_neighbors(self):\n",
        "    \"\"\"\n",
        "    - Iteratively, choose a ridge.\n",
        "    - Add all facets that contain that ridge to the neighbors list\n",
        "    \"\"\""
      ],
      "metadata": {
        "id": "Zv77QPybdjyw"
      },
      "execution_count": null,
      "outputs": []
    },
    {
      "cell_type": "code",
      "source": [
        "  def above_facet(self,face,point):\n",
        "    # From what I can tell, this is functional\n",
        "    face = self.hull_facets[face]\n",
        "    n = np.cross((face[1]-face[0]),(face[2]-face[0]))\n",
        "    n = n/np.linalg.norm(n)\n",
        "    d = np.dot(n,(face[0]-point))\n",
        "    return d > 0"
      ],
      "metadata": {
        "id": "GY1-iXWvdjnz"
      },
      "execution_count": null,
      "outputs": []
    },
    {
      "cell_type": "code",
      "source": [
        "main(50)"
      ],
      "metadata": {
        "id": "iRxQcObhPlOm"
      },
      "execution_count": null,
      "outputs": []
    }
  ]
}