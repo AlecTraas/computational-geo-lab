{
  "nbformat": 4,
  "nbformat_minor": 0,
  "metadata": {
    "colab": {
      "provenance": [],
      "authorship_tag": "ABX9TyPVvbnz66DjxUP1z0cHuqon",
      "include_colab_link": true
    },
    "kernelspec": {
      "name": "python3",
      "display_name": "Python 3"
    },
    "language_info": {
      "name": "python"
    }
  },
  "cells": [
    {
      "cell_type": "markdown",
      "metadata": {
        "id": "view-in-github",
        "colab_type": "text"
      },
      "source": [
        "<a href=\"https://colab.research.google.com/github/AlecTraas/computational-geo-lab/blob/main/Colab/Kai/hyperbolic_convex_hull.ipynb\" target=\"_parent\"><img src=\"https://colab.research.google.com/assets/colab-badge.svg\" alt=\"Open In Colab\"/></a>"
      ]
    },
    {
      "cell_type": "code",
      "execution_count": 54,
      "metadata": {
        "id": "r83j8yb8oQao"
      },
      "outputs": [],
      "source": [
        "import numpy as np\n",
        "import matplotlib.pyplot as plt\n",
        "import warnings\n",
        "\n",
        "# Silence all warnings\n",
        "warnings.filterwarnings(\"ignore\")"
      ]
    },
    {
      "cell_type": "code",
      "source": [
        "def poincare_geodesic_origin(a_comp, b_comp):\n",
        "    a, b = np.array([a_comp.real, a_comp.imag]), np.array([b_comp.real, b_comp.imag])\n",
        "\n",
        "    c = b / np.sum(b**2)\n",
        "\n",
        "    ab_mpt = (a + b) / 2\n",
        "    ab_pbs = (b[0]-a[0])/(a[1]-b[1])\n",
        "    ac_mpt = (a + c) / 2\n",
        "    ac_pbs = (c[0]-a[0])/(a[1]-c[1])\n",
        "\n",
        "    # just set the two perpendicular equal to one another and solve for x\n",
        "    o_x = (-ab_pbs*ab_mpt[0]+ab_mpt[1]-ac_mpt[1]+ac_pbs*ac_mpt[0])/(ac_pbs-ab_pbs)\n",
        "    o_y = ab_pbs*(o_x-ab_mpt[0])+ab_mpt[1]\n",
        "\n",
        "    return (o_x,o_y)"
      ],
      "metadata": {
        "id": "LwzPVD_8xEZq"
      },
      "execution_count": 48,
      "outputs": []
    },
    {
      "cell_type": "code",
      "source": [
        "def plot_pdsc_geodesic(a, b, c, ax):\n",
        "    o = np.array(poincare_geodesic_origin(a,b))\n",
        "    a = np.array([a.real,a.imag])\n",
        "    b = np.array([b.real,b.imag])\n",
        "\n",
        "    r = np.linalg.norm(o - a)\n",
        "\n",
        "    a1 = np.arctan2(a[1] - o[1], a[0] - o[0])\n",
        "    a2 = np.arctan2(b[1] - o[1], b[0] - o[0])\n",
        "\n",
        "    if a2 < a1:\n",
        "        a2 += 2 * np.pi\n",
        "    if a1 - a2 > np.pi:\n",
        "        a2 += 2 * np.pi\n",
        "    elif a2 - a1 > np.pi:\n",
        "        a2 -= 2 * np.pi\n",
        "\n",
        "    theta = np.linspace(a1, a2, 1000)\n",
        "\n",
        "    x_arc = o[0] + r * np.cos(theta)\n",
        "    y_arc = o[1] + r * np.sin(theta)\n",
        "\n",
        "    ax.plot(x_arc, y_arc, color=c)"
      ],
      "metadata": {
        "id": "aZ1cY6R_0sR-"
      },
      "execution_count": 67,
      "outputs": []
    },
    {
      "cell_type": "code",
      "source": [
        "# plots a geodesic segment through complex numbers a and b, with color c\n",
        "def plot_uhp_geodesic(a,b,c):\n",
        "    if abs(a.real - b.real) <= 2/900:\n",
        "      plt.plot([a.real,b.real],[a.imag,b.imag],color=c)\n",
        "      return\n",
        "    o = ((a.real**2 + a.imag**2 - b.real**2 - b.imag**2) / (2*(a.real - b.real)), 0)\n",
        "    x = np.linspace(min(a.real,b.real), max(a.real,b.real), 1000)\n",
        "    arc = lambda x: np.sqrt(np.linalg.norm(np.array([a.real,a.imag]) - np.array(o))**2 - (x - o[0])**2) + o[1]\n",
        "    y = [arc(xi) for xi in x]\n",
        "    plt.plot(x,y,color=c)"
      ],
      "metadata": {
        "id": "UIDSQTCWocXL"
      },
      "execution_count": 17,
      "outputs": []
    },
    {
      "cell_type": "code",
      "source": [
        "# plots a list of points p, with color c\n",
        "def plot_point(p,c):\n",
        "    plt.scatter(np.real(p), np.imag(p), s=10, c=c, alpha=1)"
      ],
      "metadata": {
        "id": "3rWDXUysofAh"
      },
      "execution_count": 6,
      "outputs": []
    },
    {
      "cell_type": "code",
      "source": [
        "# returns the distance between two points a and b\n",
        "def dist(a,b):\n",
        "  numer = np.abs(a - np.conjugate(b)) + np.abs(a - b)\n",
        "  denom = np.abs(a - np.conjugate(b)) - np.abs(a - b)\n",
        "  return np.log(numer/denom)"
      ],
      "metadata": {
        "id": "V4ULVduZ0Vg_"
      },
      "execution_count": 7,
      "outputs": []
    },
    {
      "cell_type": "code",
      "source": [
        "# returns the angle ∠ACB given points a, b, c\n",
        "def angle(pa,pb,pc):\n",
        "  a = dist(pb,pc)\n",
        "  b = dist(pa,pc)\n",
        "  c = dist(pa,pb)\n",
        "  numer = np.cosh(a) * np.cosh(b) - np.cosh(c)\n",
        "  denom = np.sinh(a) * np.sinh(b)\n",
        "  return np.arccos(numer/denom)"
      ],
      "metadata": {
        "id": "iEC4zfExvSrL"
      },
      "execution_count": 8,
      "outputs": []
    },
    {
      "cell_type": "code",
      "source": [
        "# applies the Cayley transform to a set of points z in the upper half plane\n",
        "def cayley(z):\n",
        "  return (z-1j)/(z+1j)"
      ],
      "metadata": {
        "id": "eRyrUWQFFqMR"
      },
      "execution_count": 9,
      "outputs": []
    },
    {
      "cell_type": "code",
      "source": [
        "num = 50\n",
        "span = 3\n",
        "points = np.random.uniform(-span, span, num) + np.random.uniform(0, span, num) * 1j\n",
        "points = sorted(points, key=lambda z: z.real)\n",
        "\n",
        "hull_pts = []\n",
        "hull_pts.append(points[0])\n",
        "\n",
        "# this could break, but it is soooo unlikely.\n",
        "next_pt = hull_pts[0] - min(1,hull_pts[0].imag - 0.0001)*1j\n",
        "\n",
        "# initial hull point: I know, it's messy to have basically the same code as below outside the while loop, but I'm not clever enough to fit the starting point's case into the regular loop\n",
        "max_a = 0\n",
        "max_i = -1\n",
        "for k,p in enumerate(points):\n",
        "  a = angle(next_pt,p,hull_pts[0])\n",
        "  if a > max_a:\n",
        "    max_i = k\n",
        "    max_a = a\n",
        "next_pt = points[max_i]\n",
        "\n",
        "i = 0\n",
        "while next_pt not in hull_pts:\n",
        "  max_a = 0\n",
        "  max_i = -1\n",
        "  for j,p in enumerate(points):\n",
        "    a = angle(hull_pts[i],p,next_pt)\n",
        "    if a > max_a:\n",
        "      max_i = j\n",
        "      max_a = a\n",
        "  i += 1\n",
        "  hull_pts.append(next_pt)\n",
        "  next_pt = points[max_i]\n",
        "\n",
        "fig, ax = plt.subplots()\n",
        "\n",
        "### plot upper half plane points ------\n",
        "# ax.axhline(0, color='black')\n",
        "\n",
        "# plot_point(points,'b')\n",
        "# plot_point(hull_pts,'orange')\n",
        "\n",
        "# for i in range(0,len(hull_pts)-1):\n",
        "#   plot_uhp_geodesic(hull_pts[i],hull_pts[i+1],'green')\n",
        "# plot_uhp_geodesic(hull_pts[0],hull_pts[len(hull_pts)-1],'green')\n",
        "### -----------------------------------\n",
        "\n",
        "### plot poincare disc points ---------\n",
        "for p in points:\n",
        "  plot_point(cayley(p),'g')\n",
        "for p in hull_pts:\n",
        "  plot_point(cayley(p),'orange')\n",
        "\n",
        "for i in range(0,len(hull_pts)-1):\n",
        "  plot_pdsc_geodesic(cayley(hull_pts[i]),cayley(hull_pts[i+1]),'b',ax)\n",
        "plot_pdsc_geodesic(cayley(hull_pts[0]),cayley(hull_pts[len(hull_pts)-1]),'b',ax)\n",
        "\n",
        "theta = np.linspace(0, 2*np.pi, 1000)\n",
        "x = np.cos(theta)\n",
        "y = np.sin(theta)\n",
        "plt.plot(x, y, color = 'r')\n",
        "### -----------------------------------\n",
        "\n",
        "# formatting\n",
        "ax.axis('off')\n",
        "ax.set_aspect('equal')\n",
        "plt.tight_layout()\n",
        "plt.show()"
      ],
      "metadata": {
        "colab": {
          "base_uri": "https://localhost:8080/",
          "height": 487
        },
        "id": "XeiKChQGohJY",
        "outputId": "b361b82f-7534-4833-b2fa-777cf3d4e36b"
      },
      "execution_count": 78,
      "outputs": [
        {
          "output_type": "display_data",
          "data": {
            "text/plain": [
              "<Figure size 640x480 with 1 Axes>"
            ],
            "image/png": "[encoded data removed]"
          },
          "metadata": {}
        }
      ]
    }
  ]
}