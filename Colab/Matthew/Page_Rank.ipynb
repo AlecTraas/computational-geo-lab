{
  "nbformat": 4,
  "nbformat_minor": 0,
  "metadata": {
    "colab": {
      "provenance": [],
      "authorship_tag": "ABX9TyM+0Q6YbIAyadjbZG1lsj5P",
      "include_colab_link": true
    },
    "kernelspec": {
      "name": "python3",
      "display_name": "Python 3"
    },
    "language_info": {
      "name": "python"
    }
  },
  "cells": [
    {
      "cell_type": "markdown",
      "metadata": {
        "id": "view-in-github",
        "colab_type": "text"
      },
      "source": [
        "<a href=\"https://colab.research.google.com/github/AlecTraas/computational-geo-lab/blob/main/Colab/Matthew/Page_Rank.ipynb\" target=\"_parent\"><img src=\"https://colab.research.google.com/assets/colab-badge.svg\" alt=\"Open In Colab\"/></a>"
      ]
    },
    {
      "cell_type": "markdown",
      "source": [
        "### Pagerank Algorithm\n",
        "- Want to take in a directed graph, and give a probability distribution that details the probability of landing on a given node\n",
        "- Output this in a way such that:\n",
        "  - Node A: 50%\n",
        "  - Node B: 20%\n",
        "  - Could possibly be done by iterating through the node list and probability distribution at the same time and print each one by one\n",
        "\n",
        "To-Do list 3/19 and Ideas\n",
        "- Finish coding single_pr\n",
        "  - find out count for each node attached to the in node, then divide prob by out count, add together for each in node of a given node\n",
        "- Think about convergence\n",
        "  - Brunt force of checking new prob list and old prob list, if they are the same for 1/2 decimal points, end the algorithm\n",
        "    - Could lead to potential complexity problems"
      ],
      "metadata": {
        "id": "6k0ggdh4tZFF"
      }
    },
    {
      "cell_type": "code",
      "execution_count": 2,
      "metadata": {
        "id": "cxpeYZAvsPou"
      },
      "outputs": [],
      "source": [
        "import numpy as np\n",
        "import pandas as pd\n",
        "import matplotlib.pyplot as plt\n",
        "import networkx as nx\n",
        "import math"
      ]
    },
    {
      "cell_type": "markdown",
      "source": [
        "#### Single Page rank update"
      ],
      "metadata": {
        "id": "yPvhe8IK4GmL"
      }
    },
    {
      "cell_type": "code",
      "source": [
        "#Create an update function\n",
        "#Could use this to update a single pagerank\n",
        "#Given a node at the current iteration, output the updated page_rank\n",
        "def single_pr(graph, node, prob_list):\n",
        "\n",
        "#First obtain the nodes that have an edge going into our desired node\n",
        "  in_list = []\n",
        "  for edge in graph.in_edges(node):\n",
        "    curr = edge\n",
        "    in_list.append(curr)\n",
        "\n",
        "\n",
        "  update_pr = 0\n",
        "  for i in range(len(in_list)):\n",
        "    curr_deg = graph.out_degree(in_list[i][0])\n",
        "    index = list(graph.nodes()).index(in_list[i][0])\n",
        "    curr_prob = prob_list[index]\n",
        "    update_pr = update_pr + curr_prob / curr_deg        #sum current prob / outgoing degree\n",
        "\n",
        "  return update_pr\n"
      ],
      "metadata": {
        "id": "3PUAzjOtyBPw"
      },
      "execution_count": 5,
      "outputs": []
    },
    {
      "cell_type": "markdown",
      "source": [
        "Using single page rank update on an example graph to test"
      ],
      "metadata": {
        "id": "k-DRPehBYWi0"
      }
    },
    {
      "cell_type": "code",
      "source": [
        "#Building Alg with example graph\n",
        "G = nx.DiGraph()\n",
        "edge_list = [ (1,3), (2,3)]\n",
        "prob_list = [1/3,1/3,1/3]\n",
        "G.add_edges_from(edge_list)\n",
        "G.in_edges(3)\n",
        "in_list = []\n",
        "for edge in G.in_edges(3):\n",
        "  #Store edges in a list that can be accessed\n",
        "  curr = edge\n",
        "  in_list.append(curr)\n",
        "\n",
        "\n",
        "new_prob = 0\n",
        "for i in range(len(in_list)):\n",
        "\n",
        "  curr_out = G.out_degree(in_list[i][0])\n",
        "  index = list(G.nodes()).index(in_list[i][0])\n",
        "  curr_prob = prob_list[index]\n",
        "  new_prob = new_prob + curr_prob / curr_out\n",
        "\n",
        "new_prob\n",
        "\n",
        "\n",
        "single_pr(G, 3, prob_list)\n",
        "\n",
        "\n",
        "\n"
      ],
      "metadata": {
        "colab": {
          "base_uri": "https://localhost:8080/"
        },
        "id": "Ey9SlLRc2duR",
        "outputId": "83619b4e-13eb-483c-ebc7-41227697592b"
      },
      "execution_count": 9,
      "outputs": [
        {
          "output_type": "execute_result",
          "data": {
            "text/plain": [
              "0.6666666666666666"
            ]
          },
          "metadata": {},
          "execution_count": 9
        }
      ]
    },
    {
      "cell_type": "markdown",
      "source": [
        "Could the round off error be something worth exploring and figuring out, or just keep pushing through?"
      ],
      "metadata": {
        "id": "1gKx4GX-4mzc"
      }
    },
    {
      "cell_type": "markdown",
      "source": [
        "##Page rank algorithm"
      ],
      "metadata": {
        "id": "DTdpy2hp4KLe"
      }
    },
    {
      "cell_type": "code",
      "source": [
        "def PageRank(digraph):\n",
        "  node_list = list(digraph.nodes())\n",
        "  n = len(node_list)\n",
        "  current_prob_dist = np.repeat((1/n), n) #Probabilities of each node (indexes should correspond to above node list)\n",
        "  updated_prob_dist = np.repeat(0, n) # placeholder list to throw in new values during the update sequence\n",
        "  for n in range(25):   #Iterate through multiple page rank updates (multiple p-distribution updates)\n",
        "    for  i in range(n):  #Single probability distribution update (single page rank update for all points)\n",
        "      updated_pr = single_pr(digraph, node_list[i], current_prob_dist)\n",
        "      updated_prob_dist[i] = updated_pr\n",
        "\n",
        "    #if current_prob_dist = updated_prob_dist (approximately)\n",
        "      #Stop algorithm, output updated_prob_dist\n",
        "    #else\n",
        "    current_prob_dist = updated_prob_dist\n",
        "    #iterate again\n",
        "\n",
        "\n",
        "\n",
        "\n",
        "\n",
        "\n",
        "\n"
      ],
      "metadata": {
        "id": "uBRHpPFOsnyf"
      },
      "execution_count": null,
      "outputs": []
    },
    {
      "cell_type": "markdown",
      "source": [
        "#### Pseudocode\n",
        "- First assign the same probability to each node (1/n)\n",
        "- Caution of convergence as we iterate over the algorithm (look for when probabilities start to stabilize as the time to stop)\n",
        "  - Could look at stopping when all rounded probabilities (to 2 decimal places) are the same between the previous iteration and the current iteration"
      ],
      "metadata": {
        "id": "TzwuS3JSs-hu"
      }
    },
    {
      "cell_type": "markdown",
      "source": [
        "### Helpful Links\n",
        "- https://stackoverflow.com/questions/33078907/get-all-edges-linked-to-a-given-node-in-a-networkx-graph\n",
        "- https://web.stanford.edu/class/cs54n/handouts/24-GooglePageRankAlgorithm.pdf\n",
        "\n"
      ],
      "metadata": {
        "id": "7TVIBiDrtQVh"
      }
    },
    {
      "cell_type": "markdown",
      "source": [],
      "metadata": {
        "id": "gaO_TIgYvcwl"
      }
    }
  ]
}