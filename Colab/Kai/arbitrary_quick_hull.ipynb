{
  "nbformat": 4,
  "nbformat_minor": 0,
  "metadata": {
    "colab": {
      "provenance": [],
      "authorship_tag": "ABX9TyOXQc000AjU6RnaRHlFNNQF",
      "include_colab_link": true
    },
    "kernelspec": {
      "name": "python3",
      "display_name": "Python 3"
    },
    "language_info": {
      "name": "python"
    }
  },
  "cells": [
    {
      "cell_type": "markdown",
      "metadata": {
        "id": "view-in-github",
        "colab_type": "text"
      },
      "source": [
        "<a href=\"https://colab.research.google.com/github/AlecTraas/computational-geo-lab/blob/main/Colab/Kai/arbitrary_quick_hull.ipynb\" target=\"_parent\"><img src=\"https://colab.research.google.com/assets/colab-badge.svg\" alt=\"Open In Colab\"/></a>"
      ]
    },
    {
      "cell_type": "code",
      "source": [
        "import numpy as np"
      ],
      "metadata": {
        "id": "A8e-kKRa3U19"
      },
      "execution_count": null,
      "outputs": []
    },
    {
      "cell_type": "markdown",
      "source": [
        "Pick d + 1 points from the set that do not share a plane or a hyperplane. This forms an initial hull with facets Fs[].\n",
        "For each F in Fs[], find all unassigned points that are \"above\" it; i.e., pointing away from the center of the hull, and assign them to an \"outside\" set F.O associated with F. The algorithm maintains the invariant that every point that has not been added to the hull but could potentially be a vertex of it is assigned to exactly one outside set.\n",
        "For each F with a non-empty F.O:\n",
        "Find the point p in F.O with the maximum distance from F and add it to the hull. Note that p will not necessarily be a vertex of the final hull, as it might be removed later.\n",
        "Create a visible set V and initialize it to F. Extend V in all directions for neighboring facets Fv until no further facets are visible from p. Fv being visible from p means that p is above Fv.\n",
        "The boundary of V then forms the set of horizon ridges H.\n",
        "Let Fnew[] be the set of facets created from p and all ridges in H.\n",
        "Unassign all points in the outside sets of facets in V. For each new facet in Fnew[], perform step (2) only considering these newly unassigned points to initialize its outside set. Note that every point that remains unassigned at the end of this process lies within the current hull.\n",
        "Delete the now-internal facets in V from Fs[]. Add the new facets in Fnew[] to Fs[] and continue the iteration.\n",
        "\n",
        "Wikipedia, quickhull"
      ],
      "metadata": {
        "id": "YsAdGQ0T3028"
      }
    },
    {
      "cell_type": "code",
      "execution_count": null,
      "metadata": {
        "id": "Nsih4bhO3KYD"
      },
      "outputs": [],
      "source": [
        "print(\"hello world!\")"
      ]
    }
  ]
}