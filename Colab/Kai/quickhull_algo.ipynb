{
  "nbformat": 4,
  "nbformat_minor": 0,
  "metadata": {
    "colab": {
      "provenance": [],
      "authorship_tag": "ABX9TyNGp3prGoG3dTeAKit1g0hz",
      "include_colab_link": true
    },
    "kernelspec": {
      "name": "python3",
      "display_name": "Python 3"
    },
    "language_info": {
      "name": "python"
    }
  },
  "cells": [
    {
      "cell_type": "markdown",
      "metadata": {
        "id": "view-in-github",
        "colab_type": "text"
      },
      "source": [
        "<a href=\"https://colab.research.google.com/github/AlecTraas/computational-geo-lab/blob/main/Colab/Kai/quickhull_algo.ipynb\" target=\"_parent\"><img src=\"https://colab.research.google.com/assets/colab-badge.svg\" alt=\"Open In Colab\"/></a>"
      ]
    },
    {
      "cell_type": "code",
      "execution_count": 68,
      "metadata": {
        "id": "4SxUlV6pa6aq"
      },
      "outputs": [],
      "source": [
        "import numpy as np\n",
        "import matplotlib.pyplot as plt"
      ]
    },
    {
      "cell_type": "code",
      "source": [
        "def runProgram():\n",
        "  num_points = 10\n",
        "\n",
        "  points = np.random.rand(num_points,2)*10\n",
        "\n",
        "  sort = sorted(points, key=lambda x: x[0])\n",
        "\n",
        "  left = sort[0]\n",
        "  right = sort[-1]\n",
        "\n",
        "  hull_set = []\n",
        "  hull_set = hull_set + [left, right]\n",
        "\n",
        "  sort.pop(0)\n",
        "  sort.pop(-1)\n",
        "\n",
        "  parseSides = lambda l, r, ps: (\n",
        "    np.array([p for p in ps if aboveLine(l, r, p)]),\n",
        "    np.array([p for p in ps if not aboveLine(l, r, p)])\n",
        "  )\n",
        "\n",
        "  upper_set, lower_set = parseSides(left, right, sort)\n",
        "\n",
        "  hull_set += list(quickHull(upper_set, left, right, 1))\n",
        "  hull_set += list(quickHull(lower_set, left, right, -1))\n",
        "\n",
        "  # Filter out rows with size 0 and convert to a NumPy array\n",
        "  hull_set = np.vstack([arr for arr in hull_set if len(arr) > 0])\n",
        "\n",
        "  plt.scatter(points[:, 0], points[:, 1])\n",
        "  plt.scatter(hull_set[:, 0], hull_set[:, 1], color='red')\n",
        "\n",
        "  return hull_set"
      ],
      "metadata": {
        "id": "catyJaWp7eG2"
      },
      "execution_count": 69,
      "outputs": []
    },
    {
      "cell_type": "code",
      "source": [
        "def aboveLine(a,b,c):\n",
        "  return (b[0] - a[0]) * (c[1] - a[1]) - (b[1] - a[1]) * (c[0] - a[0]) > 0"
      ],
      "metadata": {
        "id": "N-jN-BMGlL76"
      },
      "execution_count": 70,
      "outputs": []
    },
    {
      "cell_type": "code",
      "source": [
        "def furthestP(points,a,b):\n",
        "  dist = 1/2 * np.abs(a[0]*(b[1] - points[:,1]) + b[0]*(points[:,1] - a[1]) + points[:,0]*(a[1] - b[1]))\n",
        "  return points[np.argmax(dist)]"
      ],
      "metadata": {
        "id": "p6Ckvx5368-f"
      },
      "execution_count": 71,
      "outputs": []
    },
    {
      "cell_type": "code",
      "source": [
        "def quickHull(points,a,b,f):\n",
        "  if points.size == 0 or a is None or b is None:\n",
        "    return [[]]\n",
        "\n",
        "  c = furthestP(points,a,b)\n",
        "\n",
        "  hull_set = []\n",
        "  hull_set = hull_set + [c]\n",
        "\n",
        "  indices = np.where((points == c).all(axis=1))[0]\n",
        "  points = np.delete(points, indices, axis=0)\n",
        "\n",
        "  parseSides = lambda l, r, ps: (\n",
        "    np.array([p for p in ps if aboveLine(l, r, p)]),\n",
        "    np.array([p for p in ps if not aboveLine(l, r, p)])\n",
        "  )\n",
        "\n",
        "  set_1a, set_1b = parseSides(a,c,points)\n",
        "  set_2b, set_2a = parseSides(b,c,points)\n",
        "\n",
        "  if f == 1:\n",
        "    hull_set = hull_set + quickHull(set_1a, a, c, 1)\n",
        "    hull_set = hull_set + quickHull(set_2a, c, b, 1)\n",
        "\n",
        "  else:\n",
        "    hull_set = hull_set + quickHull(set_1b, a, c, -1)\n",
        "    hull_set = hull_set + quickHull(set_2b, c, b, -1)\n",
        "\n",
        "  return hull_set"
      ],
      "metadata": {
        "id": "F-ZJZTZGmCwo"
      },
      "execution_count": 72,
      "outputs": []
    },
    {
      "cell_type": "code",
      "source": [
        "runProgram()"
      ],
      "metadata": {
        "id": "3tvUG1qgn1NV",
        "colab": {
          "base_uri": "https://localhost:8080/",
          "height": 534
        },
        "outputId": "77de43ba-fe8a-4aa0-b71e-8fc08aa679fd"
      },
      "execution_count": 73,
      "outputs": [
        {
          "output_type": "execute_result",
          "data": {
            "text/plain": [
              "array([[0.6783554 , 0.59652114],\n",
              "       [8.11522123, 7.41909195],\n",
              "       [3.73473414, 9.80454887],\n",
              "       [6.13781308, 9.94680883],\n",
              "       [6.46274078, 2.06471336],\n",
              "       [7.92530962, 4.93305586]])"
            ]
          },
          "metadata": {},
          "execution_count": 73
        },
        {
          "output_type": "display_data",
          "data": {
            "text/plain": [
              "<Figure size 640x480 with 1 Axes>"
            ],
            "image/png": "[encoded data removed]"
          },
          "metadata": {}
        }
      ]
    }
  ]
}