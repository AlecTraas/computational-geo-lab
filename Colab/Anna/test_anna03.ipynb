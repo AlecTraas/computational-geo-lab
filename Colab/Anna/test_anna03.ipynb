{
  "nbformat": 4,
  "nbformat_minor": 0,
  "metadata": {
    "colab": {
      "provenance": [],
      "authorship_tag": "ABX9TyN1YTftEgmbbg60by4fFCE3",
      "include_colab_link": true
    },
    "kernelspec": {
      "name": "python3",
      "display_name": "Python 3"
    },
    "language_info": {
      "name": "python"
    }
  },
  "cells": [
    {
      "cell_type": "markdown",
      "metadata": {
        "id": "view-in-github",
        "colab_type": "text"
      },
      "source": [
        "<a href=\"https://colab.research.google.com/github/AlecTraas/computational-geo-lab/blob/main/test_anna03.ipynb\" target=\"_parent\"><img src=\"https://colab.research.google.com/assets/colab-badge.svg\" alt=\"Open In Colab\"/></a>"
      ]
    },
    {
      "cell_type": "code",
      "execution_count": null,
      "metadata": {
        "id": "l0qy5o1tIfKg"
      },
      "outputs": [],
      "source": [
        "import numpy as np\n",
        "import matplotlib.pyplot as plt"
      ]
    },
    {
      "cell_type": "code",
      "source": [
        "# Example usage\n",
        "points = np.array([\n",
        "    [0, 20],\n",
        "    [1, 1],\n",
        "    [2, 3],\n",
        "    [-7, 10],\n",
        "    [3, 2],\n",
        "    [-2, -1],\n",
        "    [-1, 100],\n",
        "    [-20, -8]\n",
        "])"
      ],
      "metadata": {
        "id": "gCZ6yXxQst2F"
      },
      "execution_count": null,
      "outputs": []
    },
    {
      "cell_type": "code",
      "source": [
        "# Helper function to compute the distance of a point from a line segment\n",
        "def compute_distance(start, end, point):\n",
        "    '''Compute the signed area of the parallelogram spanned by vectors (end-start) and (point-start)'''\n",
        "    return np.cross(end - start, point - start)\n",
        "\n",
        "# Function to divide points into subsets relative to a line segment\n",
        "def divide_area(start, end, points):\n",
        "    '''Divide points based on their position relative to the line from start to end'''\n",
        "    S1, S2 = [], []\n",
        "    for point in points:\n",
        "        dis = compute_distance(start, end, point)\n",
        "        if dis > 0:\n",
        "            S1.append(point)\n",
        "        else:\n",
        "            S2.append(point)\n",
        "    return np.array(S1), np.array(S2)\n",
        "\n",
        "# Main QuickHull algorithm implementation\n",
        "class QuickHull:\n",
        "    def __init__(self, points):\n",
        "        self.points = np.array(points)\n",
        "        self.hull = []\n",
        "\n",
        "    def execute(self):\n",
        "        # Base case: if there are fewer than 3 unique points, cannot form a convex hull\n",
        "        if len(self.points) < 3:\n",
        "            return None\n",
        "\n",
        "        # Find leftmost and rightmost points\n",
        "        left_most = min(self.points, key=lambda point: point[0])\n",
        "        right_most = max(self.points, key=lambda point: point[0])\n",
        "\n",
        "        # Initialize convex hull with leftmost and rightmost points\n",
        "        self.hull.append(left_most)\n",
        "        self.hull.append(right_most)\n",
        "\n",
        "        # Divide remaining points into two groups relative to the line segment\n",
        "        S1, S2 = divide_area(left_most, right_most, self.points)\n",
        "\n",
        "        # Recursive steps to find points on the hull\n",
        "        self.find_hull(S1, left_most, right_most)\n",
        "        self.find_hull(S2, right_most, left_most)\n",
        "\n",
        "        return np.array(self.hull)\n",
        "\n",
        "    def find_hull(self, points, P, Q):\n",
        "        if len(points) == 0:\n",
        "            return\n",
        "\n",
        "        # Find the farthest point from the line PQ\n",
        "        C = max(points, key=lambda point: np.abs(compute_distance(P, Q, point)))\n",
        "        self.hull.append(C)\n",
        "\n",
        "        # Remove C from points to avoid reconsidering it\n",
        "        points = np.array([point for point in points if not np.array_equal(point, C)])\n",
        "\n",
        "        # Divide points into two subsets relative to PC and CQ\n",
        "        S1, _ = divide_area(P, C, points)\n",
        "        S2, _ = divide_area(C, Q, points)\n",
        "\n",
        "        # Recursively find points on the hull in subsets S1 and S2\n",
        "        self.find_hull(S1, P, C)\n",
        "        self.find_hull(S2, C, Q)\n",
        "\n",
        "qh = QuickHull(points)\n",
        "convex_hull = qh.execute()\n",
        "print(\"Convex Hull Points:\\n\", convex_hull)"
      ],
      "metadata": {
        "id": "yw9WcXQeqKCQ",
        "outputId": "ee22685c-a171-4c08-80d7-47bdb9708c29",
        "colab": {
          "base_uri": "https://localhost:8080/"
        }
      },
      "execution_count": null,
      "outputs": [
        {
          "output_type": "stream",
          "name": "stdout",
          "text": [
            "Convex Hull Points:\n",
            " [[-20  -8]\n",
            " [  3   2]\n",
            " [ -1 100]\n",
            " [ -2  -1]]\n"
          ]
        }
      ]
    },
    {
      "cell_type": "code",
      "source": [
        "def plot_upper_lower_sides(hull):\n",
        "    hull_sorted = sort_points_convex_hull(hull)\n",
        "\n",
        "    # Splitting hull points into upper and lower sides\n",
        "    upper = [hull_sorted[0]]\n",
        "    lower = [hull_sorted[0]]\n",
        "    for point in hull_sorted[1:]:\n",
        "        if compute_distance(hull_sorted[0], hull_sorted[-1], point) > 0:\n",
        "            upper.append(point)\n",
        "        else:\n",
        "            lower.append(point)\n",
        "    upper.append(hull_sorted[-1]) # Ensure the rightmost point is included\n",
        "    lower.append(hull_sorted[-1]) # Ensure the rightmost point is included\n",
        "\n",
        "    # Convert to numpy arrays for easier slicing\n",
        "    upper = np.array(upper)\n",
        "    lower = np.array(lower)\n",
        "\n",
        "\n",
        "    plt.plot(upper[:, 0], upper[:, 1], 'bo-')\n",
        "    plt.plot(lower[:, 0], lower[:, 1], 'bo-')\n",
        "    plt.plot(points[:, 0], points[:, 1], 'ko', label='Input Points')\n",
        "\n",
        "\n",
        "    plt.legend()\n",
        "    plt.xlabel('X-axis')\n",
        "    plt.ylabel('Y-axis')\n",
        "    plt.show()\n",
        "\n",
        "plot_upper_lower_sides(convex_hull)"
      ],
      "metadata": {
        "colab": {
          "base_uri": "https://localhost:8080/",
          "height": 449
        },
        "id": "BYxu9pv09fDv",
        "outputId": "bd5c3918-c7d7-46f1-bddf-c71a1c5e9ae6"
      },
      "execution_count": null,
      "outputs": [
        {
          "output_type": "display_data",
          "data": {
            "text/plain": [
              "<Figure size 640x480 with 1 Axes>"
            ],
            "image/png": "[encoded data removed]"
          },
          "metadata": {}
        }
      ]
    }
  ]
}
