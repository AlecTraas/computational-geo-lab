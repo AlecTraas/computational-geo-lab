{
  "nbformat": 4,
  "nbformat_minor": 0,
  "metadata": {
    "colab": {
      "provenance": [],
      "authorship_tag": "ABX9TyMyRvHXNkt9SY9lQ20InAPn",
      "include_colab_link": true
    },
    "kernelspec": {
      "name": "python3",
      "display_name": "Python 3"
    },
    "language_info": {
      "name": "python"
    }
  },
  "cells": [
    {
      "cell_type": "markdown",
      "metadata": {
        "id": "view-in-github",
        "colab_type": "text"
      },
      "source": [
        "<a href=\"https://colab.research.google.com/github/AlecTraas/computational-geo-lab/blob/main/Colab/Ridge/GiftWrap.ipynb\" target=\"_parent\"><img src=\"https://colab.research.google.com/assets/colab-badge.svg\" alt=\"Open In Colab\"/></a>"
      ]
    },
    {
      "cell_type": "code",
      "execution_count": 37,
      "metadata": {
        "id": "d9s-ZPTYyteM"
      },
      "outputs": [],
      "source": [
        "import numpy as np\n",
        "import matplotlib.pyplot as plt\n",
        "import random as rd"
      ]
    },
    {
      "cell_type": "code",
      "source": [
        "numPoints = 10"
      ],
      "metadata": {
        "id": "EqQJnZc12ukV"
      },
      "execution_count": 26,
      "outputs": []
    },
    {
      "cell_type": "code",
      "source": [
        "points = np.random.rand(numPoints,2)*20-10"
      ],
      "metadata": {
        "id": "FS6uwwqN2UK6"
      },
      "execution_count": 39,
      "outputs": []
    },
    {
      "cell_type": "code",
      "source": [
        "plt.scatter(points[:, 0], points[:, 1], c='blue')"
      ],
      "metadata": {
        "colab": {
          "base_uri": "https://localhost:8080/",
          "height": 447
        },
        "id": "o6a54c2J50zy",
        "outputId": "f2d1c5e1-87db-48c1-c826-aa22b8ea8601"
      },
      "execution_count": 28,
      "outputs": [
        {
          "output_type": "execute_result",
          "data": {
            "text/plain": [
              "<matplotlib.collections.PathCollection at 0x7cfe30133850>"
            ]
          },
          "metadata": {},
          "execution_count": 28
        },
        {
          "output_type": "display_data",
          "data": {
            "text/plain": [
              "<Figure size 640x480 with 1 Axes>"
            ],
            "image/png": "[encoded data removed]"
          },
          "metadata": {}
        }
      ]
    },
    {
      "cell_type": "code",
      "source": [
        "hull = np.array([])"
      ],
      "metadata": {
        "id": "W3ZLL-0V5o2e"
      },
      "execution_count": 29,
      "outputs": []
    },
    {
      "cell_type": "code",
      "source": [
        "minx = points[0][0]\n",
        "rootIndex = 0\n",
        "for i in range(1,len(points)):\n",
        "  if points[i][0] < minx:\n",
        "    minx = points[i][0]\n",
        "    minIndex = i\n",
        "root = points[minIndex]\n",
        "hull = np.append(hull, root)"
      ],
      "metadata": {
        "id": "Q2WdH3tTy9d3"
      },
      "execution_count": 30,
      "outputs": []
    },
    {
      "cell_type": "code",
      "source": [
        "def calcSlope(point1, point2):\n",
        "  return np.divide((point2[1]-point1[1]),(point2[0]-point1[0]))"
      ],
      "metadata": {
        "id": "VGJEGEtxXPRJ"
      },
      "execution_count": 31,
      "outputs": []
    },
    {
      "cell_type": "code",
      "source": [
        "def recursiveGiftWrap(point,_root):\n",
        "  global hull, points\n",
        "  if point.all() == _root.all():\n",
        "    hull = np.append(hull, _root)\n",
        "    return\n",
        "  nextIndex = findNextIndex(point)\n",
        "  nextPoint = points[nextIndex]\n",
        "  hull = np.append(hull, nextPoint)\n",
        "  points = np.delete(points, nextIndex)\n",
        "  recursiveGiftWrap(nextPoint,_root)\n",
        "  return\n"
      ],
      "metadata": {
        "id": "GTgIIk4T5gUp"
      },
      "execution_count": 32,
      "outputs": []
    },
    {
      "cell_type": "code",
      "source": [
        "def findNextIndex(curPoint):\n",
        "  maxSlope = calcSlope(curPoint,points[0])\n",
        "  nextIndex = 0\n",
        "  for i in range(1,len(points)):\n",
        "    slope = calcSlope(curPoint, points[i])\n",
        "    if slope >= maxSlope:\n",
        "      maxSlope = slope\n",
        "      nextIndex = i\n",
        "  return nextIndex\n",
        "\n"
      ],
      "metadata": {
        "id": "7xZf2xd78kI_"
      },
      "execution_count": 33,
      "outputs": []
    },
    {
      "cell_type": "code",
      "source": [
        "def rootFindNextIndex(curPoint):\n",
        "  nonRoot = int(not rootIndex) #0 if root is not at 0; 1 if root is at 0\n",
        "  maxSlope = calcSlope(curPoint,points[nonRoot])\n",
        "  nextIndex = nonRoot\n",
        "  for i in range(nonRoot,len(points)):\n",
        "    if i == rootIndex:\n",
        "      continue\n",
        "    slope = calcSlope(curPoint, points[i])\n",
        "    if slope >= maxSlope:\n",
        "      maxSlope = slope\n",
        "      nextIndex = i\n",
        "  return nextIndex"
      ],
      "metadata": {
        "id": "XCuP9OS5aVoY"
      },
      "execution_count": 34,
      "outputs": []
    },
    {
      "cell_type": "code",
      "source": [
        "nextIndex = rootFindNextIndex(root)\n",
        "nextPoint = points[nextIndex]\n",
        "hull = np.append(hull, points[nextIndex])\n",
        "points = np.delete(points, nextIndex)\n",
        "recursiveGiftWrap(nextPoint,root)"
      ],
      "metadata": {
        "colab": {
          "base_uri": "https://localhost:8080/"
        },
        "id": "8G4l3XtBA6Vk",
        "outputId": "d61e65a5-ba04-4ebf-a961-30bdc9b44db8"
      },
      "execution_count": 35,
      "outputs": [
        {
          "output_type": "stream",
          "name": "stderr",
          "text": [
            "<ipython-input-31-6d09ccbaf3fe>:2: RuntimeWarning: invalid value encountered in divide\n",
            "  return np.divide((point2[1]-point1[1]),(point2[0]-point1[0]))\n"
          ]
        }
      ]
    },
    {
      "cell_type": "code",
      "source": [
        "#plt.plot(hull[:, 0], hull[:, 1], c='blue')"
      ],
      "metadata": {
        "id": "Jy8nhiB0aDS9"
      },
      "execution_count": 36,
      "outputs": []
    },
    {
      "cell_type": "code",
      "source": [],
      "metadata": {
        "id": "5cQdxfI1aEml"
      },
      "execution_count": 36,
      "outputs": []
    }
  ]
}