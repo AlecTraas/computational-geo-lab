{
  "nbformat": 4,
  "nbformat_minor": 0,
  "metadata": {
    "colab": {
      "provenance": [],
      "authorship_tag": "ABX9TyMncuAx8VoS2jj6vXg6tBD/",
      "include_colab_link": true
    },
    "kernelspec": {
      "name": "python3",
      "display_name": "Python 3"
    },
    "language_info": {
      "name": "python"
    }
  },
  "cells": [
    {
      "cell_type": "markdown",
      "metadata": {
        "id": "view-in-github",
        "colab_type": "text"
      },
      "source": [
        "<a href=\"https://colab.research.google.com/github/AlecTraas/computational-geo-lab/blob/main/Colab/Ridge/RangeSearchingV2.ipynb\" target=\"_parent\"><img src=\"https://colab.research.google.com/assets/colab-badge.svg\" alt=\"Open In Colab\"/></a>"
      ]
    },
    {
      "cell_type": "code",
      "execution_count": 8,
      "metadata": {
        "id": "w44602uuFDDB"
      },
      "outputs": [],
      "source": [
        "class node:\n",
        "\n",
        "  def __init__(self, value):\n",
        "    self.value = value\n",
        "    self.lchild = None\n",
        "    self.rchild = None\n",
        "    self.subtree = None\n",
        "    self.span = None\n",
        "\n",
        "  def get_value(self):\n",
        "    return self.value\n",
        "\n",
        "  def set_rchild(self, child):\n",
        "    self.rchild = child\n",
        "\n",
        "  def set_lchild(self, child):\n",
        "    self.lchild = child\n",
        "\n",
        "  def get_rchild(self):\n",
        "    return self.rchild\n",
        "\n",
        "  def get_lchild(self):\n",
        "    return self.lchild\n",
        "\n",
        "  def is_leaf(self):\n",
        "    return self.lchild is None and self.rchild is None\n",
        "\n",
        "  def has_lchild(self):\n",
        "    return not self.lchild is None\n",
        "\n",
        "  def has_rchild(self):\n",
        "    return not self.rchild is None\n",
        "\n",
        "  def set_subtree(self, root):\n",
        "    self.subtree = root\n",
        "\n",
        "  def get_subtree(self):\n",
        "    return self.subtree\n",
        "\n",
        "  def set_span(self, nodes):\n",
        "    self.span = nodes\n",
        "\n",
        "  def get_span(self):\n",
        "    return self.span\n",
        "\n",
        "  def display(self):\n",
        "    format = \"\"\n",
        "    queue = [(self,0)]\n",
        "    prev_depth = 0\n",
        "    while len(queue) != 0:\n",
        "      cur = queue.pop(0)\n",
        "      curnode = cur[0]\n",
        "      cur_depth = cur[1]\n",
        "      if(cur_depth > prev_depth):\n",
        "        print(format)\n",
        "        format = \"\"\n",
        "        #format += \"/n\n",
        "        prev_depth = cur_depth\n",
        "      format += str(curnode.value)\n",
        "      if(curnode.has_lchild()):\n",
        "        queue.append((curnode.lchild,cur_depth+1))\n",
        "      if(curnode.has_rchild()):\n",
        "        queue.append((curnode.rchild,cur_depth+1))\n",
        "\n",
        "    print(format)\n",
        "\n",
        "  def compareTo(self, otherNode, nvars, i):\n",
        "    for j in range(0, nvars): #occurs nvars times\n",
        "      out = self.value[i] - otherNode.value[i]\n",
        "      if out !=0:\n",
        "        return out\n",
        "      i = (i+1) % nvars\n",
        "    return 0 #only return 0 if all are same\n",
        "\n"
      ]
    },
    {
      "cell_type": "code",
      "source": [
        "class database:\n",
        "\n",
        "  def __init__(self, nvars, values=None):\n",
        "    self.cur_id = 1\n",
        "    self.table = []\n",
        "    if values == None:\n",
        "      self.size = 0\n",
        "    else:\n",
        "      self.size = len(values)\n",
        "      for i in values:\n",
        "        self.table += [[self.cur_id]+i]\n",
        "        self.cur_id += 1\n",
        "\n",
        "    self.nvars = nvars\n",
        "    self.id = self.size + 1\n",
        "    self.db_rt = range_tree(self.table, self.nvars) #check if nvars matches up\n",
        "\n",
        "\n",
        "  def add(self, value):\n",
        "    self.table += [[self.cur_id]+value]\n",
        "    self.size += 1\n",
        "    self.cur_id += 1\n",
        "\n",
        "\n",
        "  def update_rt(self):\n",
        "    self.db_rt = range_tree(self.table, self.nvars) #check if nvars matches up\n",
        "\n",
        "\n",
        "  def display(self):\n",
        "    header = \"id\"\n",
        "    for i in range (1, self.nvars + 1):\n",
        "      header += \"\\tvar\" + str(i)\n",
        "    print(header)\n",
        "    for i in range(0,self.size):\n",
        "      print(\"--------------------\")\n",
        "      point = self.table[i]\n",
        "      line = \"\"\n",
        "      for j in range(0, self.nvars + 1):\n",
        "        line += str(point[j]) + \"\\t\"\n",
        "      print(line)\n",
        "\n",
        "  def query(self, params):\n",
        "    myquery = range_search_query(self.db_rt.root, params, self.nvars)\n",
        "    return myquery.answer\n",
        "\n",
        "\n"
      ],
      "metadata": {
        "id": "w0iHFPtzYEM1"
      },
      "execution_count": 3,
      "outputs": []
    },
    {
      "cell_type": "code",
      "source": [
        "class range_tree:\n",
        "\n",
        "  def __init__(self,points,nvars):\n",
        "    temp = nvars - 1\n",
        "    self.root = self.rec_range_tree(points, temp, 0)\n",
        "\n",
        "\n",
        "  def rec_range_tree(self, points, nvars, i):\n",
        "\n",
        "    if len(points) == 0:\n",
        "      return None\n",
        "\n",
        "    if len(points) == 1:\n",
        "      root = node(points[0])\n",
        "      if i < nvars:\n",
        "        root.set_subtree(node(points[0]))\n",
        "      else:\n",
        "        root.set_span(points)\n",
        "\n",
        "    else:\n",
        "      median = len(points) // 2\n",
        "      root = node(points[median])\n",
        "      root.set_lchild(self.rec_range_tree(points[:median],nvars, i))\n",
        "      root.set_rchild(self.rec_range_tree(points[median:],nvars, i)) # median included in right tree\n",
        "\n",
        "      if i < nvars:\n",
        "        ypoints = sorted(points, key=lambda x: x[i+1]) # sorted on next variable\n",
        "        root.set_subtree(self.rec_range_tree(ypoints, nvars, i+1))\n",
        "      else:\n",
        "        root.set_span(points)\n",
        "\n",
        "    return root\n",
        "\n",
        "  def display(self):\n",
        "    format = \"\"\n",
        "    queue = [(self.root,0)]\n",
        "    prev_depth = 0\n",
        "    while len(queue) != 0:\n",
        "      cur = queue.pop(0)\n",
        "      curnode = cur[0]\n",
        "      cur_depth = cur[1]\n",
        "      if(cur_depth > prev_depth):\n",
        "        print(format)\n",
        "        format = \"\"\n",
        "        #format += \"/n\n",
        "        prev_depth = cur_depth\n",
        "      format += str(curnode.value)\n",
        "      if(curnode.has_lchild()):\n",
        "        queue.append((curnode.lchild,cur_depth+1))\n",
        "      if(curnode.has_rchild()):\n",
        "        queue.append((curnode.rchild,cur_depth+1))\n",
        "\n",
        "    print(format)\n"
      ],
      "metadata": {
        "id": "xYQ8qj0SYgzc"
      },
      "execution_count": 4,
      "outputs": []
    },
    {
      "cell_type": "code",
      "source": [
        "class range_search_query:\n",
        "\n",
        "  def __init__(self, root, params, nvars):\n",
        "    self.answer = []\n",
        "    self.rec_query(root, params, nvars, 0)\n",
        "\n",
        "  def find_split_node(self, root, start, end, i):\n",
        "    curnode = root\n",
        "    curval = curnode.get_value()[i]\n",
        "    while not curnode.is_leaf() and (end < curval or start >= curval):\n",
        "      if end < curval:\n",
        "        curnode = curnode.get_lchild()\n",
        "      else:\n",
        "        curnode = curnode.get_rchild()\n",
        "      curval = curnode.get_value()[i]\n",
        "    return curnode\n",
        "\n",
        "\n",
        "  def check_leaf(self, leaf, start, end, i):\n",
        "    value = leaf.get_value()[i]\n",
        "    return value >= start and value <= end\n",
        "\n",
        "\n",
        "  def rec_query(self, root, param, nvars, i):\n",
        "\n",
        "    last_var = i >= nvars\n",
        "    start = param[i][0]\n",
        "    end = param[i][1]\n",
        "    split = self.find_split_node(root, start, end, 0)\n",
        "\n",
        "    # split is leaf -> check if included\n",
        "    if split.is_leaf():\n",
        "      include_leaf = self.check_leaf(split, start, end, i)\n",
        "      if include_leaf and last_var:\n",
        "        self.answer += [split.get_value()]\n",
        "      elif include_leaf:\n",
        "        self.rec_query(split, param, nvars, i+1)\n",
        "      return\n",
        "\n",
        "    # follow left path\n",
        "    curnode = split.get_lchild()\n",
        "\n",
        "    while not curnode.is_leaf():\n",
        "      follow_left = start < curnode.get_value()[i]\n",
        "      if follow_left and last_var:\n",
        "        self.answer += [curnode.get_rchild().get_span()]\n",
        "        curnode = curnode.get_lchild()\n",
        "      elif follow_left:\n",
        "        self.rec_query(curnode.get_rchild().get_subtree(), param, nvars, i+1)\n",
        "        curnode = curnode.get_lchild()\n",
        "      else:\n",
        "        curnode = curnode.get_rchild()\n",
        "\n",
        "    # is terminal leaf included\n",
        "    if self.check_leaf(curnode, start, end, i):\n",
        "      if last_var:\n",
        "        self.answer += [curnode.get_value()]\n",
        "      else:\n",
        "        self.rec_query(curnode, param, nvars, i+1)\n",
        "\n",
        "    # follow right path\n",
        "    curnode = split.get_rchild()\n",
        "\n",
        "    while not curnode.is_leaf():\n",
        "      follow_right = end >= curnode.get_value()[i]\n",
        "      if follow_right and last_var:\n",
        "        self.answer += [curnode.get_lchild().get_span()]\n",
        "        curnode = curnode.get_rchild()\n",
        "      elif follow_right:\n",
        "        self.rec_query(curnode.get_lchild().get_subtree(), param, nvars, i+1)\n",
        "        curnode = curnode.get_rchild()\n",
        "      else:\n",
        "        curnode = curnode.get_lchild()\n",
        "\n",
        "    # is terminal leaf included\n",
        "    if self.check_leaf(curnode, start, end, i):\n",
        "      if last_var:\n",
        "        self.answer += [curnode.get_value()]\n",
        "      else:\n",
        "        self.rec_query(curnode, param,nvars,i+1)"
      ],
      "metadata": {
        "id": "gXjKMr6q6WBm"
      },
      "execution_count": 5,
      "outputs": []
    },
    {
      "cell_type": "code",
      "source": [
        "mypoints = [[9],[2],[8],[6],[7]]\n",
        "mypoints = sorted(mypoints, key=lambda x: x[0])\n",
        "rt = range_tree(mypoints, 1)\n",
        "rquery= range_search_query(rt.root, [[0,5]], 0)\n",
        "print(rquery.answer)"
      ],
      "metadata": {
        "colab": {
          "base_uri": "https://localhost:8080/"
        },
        "id": "FuFv9pgiooJ1",
        "outputId": "3e4a40b7-423f-4909-ae21-747e66d2941a"
      },
      "execution_count": 28,
      "outputs": [
        {
          "output_type": "stream",
          "name": "stdout",
          "text": [
            "[[2]]\n"
          ]
        }
      ]
    },
    {
      "cell_type": "code",
      "source": [
        "mypoints = [[9],[2],[8],[6],[7]]\n",
        "mypoints = sorted(mypoints, key=lambda x: x[0])\n",
        "rt = range_tree(mypoints, 1)\n",
        "rquery= range_search_query(rt.root, [[0,6]], 0)\n",
        "print(rquery.answer)"
      ],
      "metadata": {
        "colab": {
          "base_uri": "https://localhost:8080/"
        },
        "id": "aDVq1QCxdimP",
        "outputId": "fc1877f4-427e-4eed-a5f6-0f804a4b3af6"
      },
      "execution_count": 29,
      "outputs": [
        {
          "output_type": "stream",
          "name": "stdout",
          "text": [
            "[[2], [6]]\n"
          ]
        }
      ]
    },
    {
      "cell_type": "code",
      "source": [
        "mypoints = [[9,20],[2,21],[8,26],[6,25],[7,23]]\n",
        "mypoints = sorted(mypoints, key=lambda x: x[0])\n",
        "rt = range_tree(mypoints, 2)\n",
        "rquery= range_search_query(rt.root, [[0,10],[20,21]], 1)\n",
        "print(rquery.answer)"
      ],
      "metadata": {
        "colab": {
          "base_uri": "https://localhost:8080/"
        },
        "id": "MYT821YcdjM7",
        "outputId": "4f779fc8-7b0b-4955-87cc-78b8c3fdace3"
      },
      "execution_count": 26,
      "outputs": [
        {
          "output_type": "stream",
          "name": "stdout",
          "text": [
            "[[2, 21], [9, 20]]\n"
          ]
        }
      ]
    },
    {
      "cell_type": "code",
      "source": [
        "mypoints = [[9,20],[2,21],[8,26],[6,25],[7,23]]\n",
        "mypoints = sorted(mypoints, key=lambda x: x[0])\n",
        "rt = range_tree(mypoints, 2)\n",
        "rquery= range_search_query(rt.root, [[0,2],[20,25]], 1)\n",
        "print(rquery.answer)"
      ],
      "metadata": {
        "colab": {
          "base_uri": "https://localhost:8080/"
        },
        "id": "aOmjKZsjdtDb",
        "outputId": "0e51c3ef-7f41-411f-c8ca-bc378205ab13"
      },
      "execution_count": 27,
      "outputs": [
        {
          "output_type": "stream",
          "name": "stdout",
          "text": [
            "[[2, 21]]\n"
          ]
        }
      ]
    }
  ]
}