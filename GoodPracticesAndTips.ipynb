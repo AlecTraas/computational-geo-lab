{
  "nbformat": 4,
  "nbformat_minor": 0,
  "metadata": {
    "colab": {
      "provenance": [],
      "authorship_tag": "ABX9TyP+CR/teamUN/UjXPPQblck",
      "include_colab_link": true
    },
    "kernelspec": {
      "name": "python3",
      "display_name": "Python 3"
    },
    "language_info": {
      "name": "python"
    }
  },
  "cells": [
    {
      "cell_type": "markdown",
      "metadata": {
        "id": "view-in-github",
        "colab_type": "text"
      },
      "source": [
        "<a href=\"https://colab.research.google.com/github/AlecTraas/computational-geo-lab/blob/main/GoodPracticesAndTips.ipynb\" target=\"_parent\"><img src=\"https://colab.research.google.com/assets/colab-badge.svg\" alt=\"Open In Colab\"/></a>"
      ]
    },
    {
      "cell_type": "markdown",
      "source": [
        "# Follow these good practices guidelines to keep your notebook clean"
      ],
      "metadata": {
        "id": "Es-9ukiuE0cz"
      }
    },
    {
      "cell_type": "markdown",
      "source": [
        "## Keep imports in their own cell. If you have many imports, you can separate them into multiple cells and keep similar ones together."
      ],
      "metadata": {
        "id": "NlxGRo1qE7df"
      }
    },
    {
      "cell_type": "code",
      "source": [
        "import numpy as np\n",
        "import matplotlib.pyplot as plt"
      ],
      "metadata": {
        "id": "JnpVmutJFEIo"
      },
      "execution_count": 1,
      "outputs": []
    },
    {
      "cell_type": "markdown",
      "source": [
        "## Define functions in their own cells. You should have a main function for whatever task we are doing for that week."
      ],
      "metadata": {
        "id": "WQSs-iDcFTnK"
      }
    },
    {
      "cell_type": "code",
      "source": [
        "def AuxFn1():\n",
        "  # Do something\n",
        "  pass"
      ],
      "metadata": {
        "id": "CFMH90PDGARV"
      },
      "execution_count": 2,
      "outputs": []
    },
    {
      "cell_type": "code",
      "source": [
        "def AuxFn2():\n",
        "  # Do something else\n",
        "  pass"
      ],
      "metadata": {
        "id": "C1NTjd0jGIGH"
      },
      "execution_count": 3,
      "outputs": []
    },
    {
      "cell_type": "code",
      "source": [
        "def Convex_Hull(points):\n",
        "  # convex hull computation goes in here. Any auxiliary function should be defined in previous cells.\n",
        "  AuxFn1()\n",
        "  AuxFn2()\n",
        "\n",
        "  pass"
      ],
      "metadata": {
        "id": "yn5leD6GFveO"
      },
      "execution_count": 4,
      "outputs": []
    },
    {
      "cell_type": "markdown",
      "source": [
        "# Numpy Tips"
      ],
      "metadata": {
        "id": "h45v0Z5AGPDW"
      }
    },
    {
      "cell_type": "markdown",
      "source": [
        "## Numpy arrays are defined from lists of lists (of lists, of lists, etc.)"
      ],
      "metadata": {
        "id": "7nzlsYrRGljX"
      }
    },
    {
      "cell_type": "markdown",
      "source": [
        "np.array() takes a single list as an argument. This list must contain further lists of the same size."
      ],
      "metadata": {
        "id": "XdXA87isKdys"
      }
    },
    {
      "cell_type": "code",
      "source": [
        "points = np.array( [ [1,1], [2,1], [-1, 3] ] )"
      ],
      "metadata": {
        "id": "L4K7pr99G--Q"
      },
      "execution_count": 5,
      "outputs": []
    },
    {
      "cell_type": "code",
      "source": [
        "print(points)"
      ],
      "metadata": {
        "colab": {
          "base_uri": "https://localhost:8080/"
        },
        "id": "2aAXRhFwHXGG",
        "outputId": "b858b128-6325-4300-d228-d8ec74f8ed1a"
      },
      "execution_count": 6,
      "outputs": [
        {
          "output_type": "stream",
          "name": "stdout",
          "text": [
            "[[ 1  1]\n",
            " [ 2  1]\n",
            " [-1  3]]\n"
          ]
        }
      ]
    },
    {
      "cell_type": "code",
      "source": [
        "print(points.shape)"
      ],
      "metadata": {
        "colab": {
          "base_uri": "https://localhost:8080/"
        },
        "id": "Uz7AtzKxH0Kz",
        "outputId": "a402019e-6807-498c-8def-df44c3533dc5"
      },
      "execution_count": 7,
      "outputs": [
        {
          "output_type": "stream",
          "name": "stdout",
          "text": [
            "(3, 2)\n"
          ]
        }
      ]
    },
    {
      "cell_type": "markdown",
      "source": [
        "Example of multidimensionality. Note the final lists that contains numbers are all the same size."
      ],
      "metadata": {
        "id": "HdCdgPyZKhcf"
      }
    },
    {
      "cell_type": "code",
      "source": [
        "multi_dim_array = np.array( [ [ [1,2,3], [4,5,6] ] , [ [7,8,9], [10, 11, 12] ] ] )"
      ],
      "metadata": {
        "id": "aj6H6IdNHYkl"
      },
      "execution_count": 12,
      "outputs": []
    },
    {
      "cell_type": "code",
      "source": [
        "print(multi_dim_array)"
      ],
      "metadata": {
        "colab": {
          "base_uri": "https://localhost:8080/"
        },
        "id": "pMPavIpvH1ho",
        "outputId": "c73362b2-a45b-480b-cd17-989bf45358fc"
      },
      "execution_count": 9,
      "outputs": [
        {
          "output_type": "stream",
          "name": "stdout",
          "text": [
            "[[[ 1  2  3]\n",
            "  [ 4  5  6]]\n",
            "\n",
            " [[ 7  8  9]\n",
            "  [10 11 12]]]\n"
          ]
        }
      ]
    },
    {
      "cell_type": "markdown",
      "source": [
        "This array contains 2 lists, each containing 2 lists, which then contain 3 elements. The brackets above should make this clear."
      ],
      "metadata": {
        "id": "aLGWEi15KjMT"
      }
    },
    {
      "cell_type": "code",
      "source": [
        "print(multi_dim_array.shape)"
      ],
      "metadata": {
        "colab": {
          "base_uri": "https://localhost:8080/"
        },
        "id": "5kJcse9yH2xJ",
        "outputId": "2e09fc30-3be8-4575-fca7-e831875d749b"
      },
      "execution_count": 10,
      "outputs": [
        {
          "output_type": "stream",
          "name": "stdout",
          "text": [
            "(2, 2, 3)\n"
          ]
        }
      ]
    },
    {
      "cell_type": "markdown",
      "source": [
        "To index an numpy array, you can list out of the index according to the shape of the array. Each dimension is called an \"axis\"."
      ],
      "metadata": {
        "id": "wrbLfbyrKmUJ"
      }
    },
    {
      "cell_type": "code",
      "source": [
        "# Here, we take the second element in the first axis, i.e. [ [7,8,9], [10, 11, 12] ]. Then take the first element along the second axis, i.e. [7,8,9]. Finally take the third element along the third axis, i.e. 9\n",
        "print(multi_dim_array[1, 0, 2])"
      ],
      "metadata": {
        "colab": {
          "base_uri": "https://localhost:8080/"
        },
        "id": "Yo0DvgoCH4Q9",
        "outputId": "a2cb157b-59d3-4e39-febf-f776414a8daa"
      },
      "execution_count": 17,
      "outputs": [
        {
          "output_type": "stream",
          "name": "stdout",
          "text": [
            "9\n"
          ]
        }
      ]
    },
    {
      "cell_type": "markdown",
      "source": [
        "Use a colon to index every element of that axis simultaneously. This is known as slicing."
      ],
      "metadata": {
        "id": "Fhm1E3-RKpoN"
      }
    },
    {
      "cell_type": "code",
      "source": [
        "# Here, for all elements in the first axis, we take the first element along the second axis, i.e. [1,2,3] AND [7,8,9]. For each of these elements, take the second element along the third axis, i.e. 2 AND 8.\n",
        "print(multi_dim_array[:, 0, 1])"
      ],
      "metadata": {
        "colab": {
          "base_uri": "https://localhost:8080/"
        },
        "id": "208-nf9FIUe0",
        "outputId": "66daba5b-b06e-4531-ee3e-f6638b4d3a44"
      },
      "execution_count": 19,
      "outputs": [
        {
          "output_type": "stream",
          "name": "stdout",
          "text": [
            "[2 8]\n"
          ]
        }
      ]
    },
    {
      "cell_type": "code",
      "source": [
        "print(multi_dim_array[0, :, 0])"
      ],
      "metadata": {
        "colab": {
          "base_uri": "https://localhost:8080/"
        },
        "id": "yaD20q2dJt-0",
        "outputId": "94d94445-958b-44b9-b89d-0c136ee11712"
      },
      "execution_count": 20,
      "outputs": [
        {
          "output_type": "stream",
          "name": "stdout",
          "text": [
            "[1 4]\n"
          ]
        }
      ]
    },
    {
      "cell_type": "code",
      "source": [
        "print(multi_dim_array[0, 1, :])"
      ],
      "metadata": {
        "colab": {
          "base_uri": "https://localhost:8080/"
        },
        "id": "kUqjcJ0VKJlj",
        "outputId": "bb528a39-f833-4b8e-ece4-0bb0946a992b"
      },
      "execution_count": 21,
      "outputs": [
        {
          "output_type": "stream",
          "name": "stdout",
          "text": [
            "[4 5 6]\n"
          ]
        }
      ]
    }
  ]
}