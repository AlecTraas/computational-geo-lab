{
  "nbformat": 4,
  "nbformat_minor": 0,
  "metadata": {
    "colab": {
      "provenance": [],
      "authorship_tag": "ABX9TyMvIlIRIaPEQG39FGRJt0RS",
      "include_colab_link": true
    },
    "kernelspec": {
      "name": "python3",
      "display_name": "Python 3"
    },
    "language_info": {
      "name": "python"
    }
  },
  "cells": [
    {
      "cell_type": "markdown",
      "metadata": {
        "id": "view-in-github",
        "colab_type": "text"
      },
      "source": [
        "<a href=\"https://colab.research.google.com/github/AlecTraas/computational-geo-lab/blob/main/Colab/Kai/hyperbolic_convex_hull.ipynb\" target=\"_parent\"><img src=\"https://colab.research.google.com/assets/colab-badge.svg\" alt=\"Open In Colab\"/></a>"
      ]
    },
    {
      "cell_type": "code",
      "execution_count": 1,
      "metadata": {
        "id": "r83j8yb8oQao"
      },
      "outputs": [],
      "source": [
        "import numpy as np\n",
        "import matplotlib.pyplot as plt"
      ]
    },
    {
      "cell_type": "code",
      "source": [
        "# plots a geodesic segment through complex numbers a and b, with color c\n",
        "def plot_geodesic(a,b,c):\n",
        "    if abs(a.real - b.real) <= 2/900:\n",
        "        plt.plot([a.real,b.real],[a.imag,b.imag],color=c)\n",
        "        return\n",
        "    o = ((a.real**2 + a.imag**2 - b.real**2 - b.imag**2) / (2*(a.real - b.real)), 0)\n",
        "    x = np.linspace(min(a.real,b.real), max(a.real,b.real), 1000)\n",
        "    arc = lambda x: np.sqrt(np.linalg.norm(np.array([a.real,a.imag]) - np.array(o))**2 - (x - o[0])**2) + o[1]\n",
        "    y = [arc(xi) for xi in x]\n",
        "    plt.plot(x,y,color=c)"
      ],
      "metadata": {
        "id": "UIDSQTCWocXL"
      },
      "execution_count": 2,
      "outputs": []
    },
    {
      "cell_type": "code",
      "source": [
        "def plot_point(p,c):\n",
        "    ax = plt.gca()\n",
        "    ax.add_artist(plt.Circle((p.real, p.imag), 0.04, facecolor=c, alpha=0.7))"
      ],
      "metadata": {
        "id": "3rWDXUysofAh"
      },
      "execution_count": 3,
      "outputs": []
    },
    {
      "cell_type": "code",
      "source": [
        "a = 1 + 0j\n",
        "b = 3 + 2j\n",
        "c = 4 + 4j\n",
        "\n",
        "fig, ax = plt.subplots()\n",
        "ax.axhline(0, color='black')\n",
        "\n",
        "plot_point(a,'green')\n",
        "plot_point(b,'green')\n",
        "plot_point(c,'green')\n",
        "plot_geodesic(a,b,'red')\n",
        "plot_geodesic(b,c,'blue')\n",
        "\n",
        "ax.axis('off')\n",
        "ax.set_aspect('equal')\n",
        "plt.tight_layout()\n",
        "plt.show()"
      ],
      "metadata": {
        "colab": {
          "base_uri": "https://localhost:8080/",
          "height": 487
        },
        "id": "XeiKChQGohJY",
        "outputId": "1a3e22d4-4d2e-45a1-e504-7f0bb3bda897"
      },
      "execution_count": 5,
      "outputs": [
        {
          "output_type": "display_data",
          "data": {
            "text/plain": [
              "<Figure size 640x480 with 1 Axes>"
            ],
            "image/png": "[encoded data removed]"
          },
          "metadata": {}
        }
      ]
    }
  ]
}