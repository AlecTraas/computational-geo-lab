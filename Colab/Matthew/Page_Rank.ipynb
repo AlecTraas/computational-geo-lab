{
  "nbformat": 4,
  "nbformat_minor": 0,
  "metadata": {
    "colab": {
      "provenance": [],
      "authorship_tag": "ABX9TyMoFXX/AN2nMLES0KLdjcM5",
      "include_colab_link": true
    },
    "kernelspec": {
      "name": "python3",
      "display_name": "Python 3"
    },
    "language_info": {
      "name": "python"
    }
  },
  "cells": [
    {
      "cell_type": "markdown",
      "metadata": {
        "id": "view-in-github",
        "colab_type": "text"
      },
      "source": [
        "<a href=\"https://colab.research.google.com/github/AlecTraas/computational-geo-lab/blob/main/Colab/Matthew/Page_Rank.ipynb\" target=\"_parent\"><img src=\"https://colab.research.google.com/assets/colab-badge.svg\" alt=\"Open In Colab\"/></a>"
      ]
    },
    {
      "cell_type": "markdown",
      "source": [
        "### Pagerank Algorithm\n"
      ],
      "metadata": {
        "id": "6k0ggdh4tZFF"
      }
    },
    {
      "cell_type": "markdown",
      "source": [
        "- Want to take in a directed graph, and give a probability distribution that details the probability of landing on a given node\n",
        "- Output this in a way such that:\n",
        "  - Node A: 50%\n",
        "  - Node B: 20%\n",
        "  - Could possibly be done by iterating through the node list and probability distribution at the same time and print each one by one\n",
        "\n",
        "To-Do list 3/19 and Ideas\n",
        "- Finish coding single_pr\n",
        "  - find out count for each node attached to the in node, then divide prob by out count, add together for each in node of a given node\n",
        "- Think about convergence\n",
        "  - Brunt force of checking new prob list and old prob list, if they are the same for 1/2 decimal points, end the algorithm\n",
        "    - Could lead to potential complexity problems\n",
        "  - Try threshold idea (i.e if |current - update| < 0.001 for every prob, end)"
      ],
      "metadata": {
        "id": "n8y_rQDHGfAy"
      }
    },
    {
      "cell_type": "markdown",
      "source": [
        "#### Pseudocode\n"
      ],
      "metadata": {
        "id": "1XkKMsN1GXcm"
      }
    },
    {
      "cell_type": "markdown",
      "source": [
        "- First assign the same probability to each node (1/n)\n",
        "- Caution of convergence as we iterate over the algorithm (look for when probabilities start to stabilize as the time to stop)\n",
        "  - Could look at stopping when all rounded probabilities (to 2 decimal places) are the same between the previous iteration and the current iteration"
      ],
      "metadata": {
        "id": "TzwuS3JSs-hu"
      }
    },
    {
      "cell_type": "markdown",
      "source": [
        "## Code"
      ],
      "metadata": {
        "id": "DTdpy2hp4KLe"
      }
    },
    {
      "cell_type": "code",
      "execution_count": 1,
      "metadata": {
        "id": "cxpeYZAvsPou"
      },
      "outputs": [],
      "source": [
        "import numpy as np\n",
        "import pandas as pd\n",
        "import matplotlib.pyplot as plt\n",
        "import networkx as nx\n",
        "import math\n",
        "from sympy import Matrix"
      ]
    },
    {
      "cell_type": "markdown",
      "source": [
        "### Example Graph Used as a test"
      ],
      "metadata": {
        "id": "cUJ6wUVou9P-"
      }
    },
    {
      "cell_type": "code",
      "source": [
        "DG = nx.DiGraph()\n",
        "edge_list = [ (1,2),(1,3), (1,4), (2,3), (2,4),(3,1), (4,1), (4,3)]\n",
        "DG.add_edges_from(edge_list)"
      ],
      "metadata": {
        "id": "2YSB5_Iku8Kh"
      },
      "execution_count": null,
      "outputs": []
    },
    {
      "cell_type": "markdown",
      "source": [
        "### Single PageRank update"
      ],
      "metadata": {
        "id": "3JJzEOlOG05k"
      }
    },
    {
      "cell_type": "code",
      "source": [
        "def single_pr(graph, node, prob_list):\n",
        "\n",
        "#First obtain the nodes that have an edge going into our desired node\n",
        "  in_list = []\n",
        "  for edge in graph.in_edges(node):\n",
        "    curr = edge\n",
        "    in_list.append(curr)\n",
        "\n",
        "\n",
        "  update_pr = 0\n",
        "  for i in range(len(in_list)):\n",
        "    curr_deg = graph.out_degree(in_list[i][0])\n",
        "    index = list(graph.nodes()).index(in_list[i][0])\n",
        "    curr_prob = prob_list[index]\n",
        "    update_pr = update_pr + (curr_prob / curr_deg)\n",
        "\n",
        "\n",
        "  return update_pr\n"
      ],
      "metadata": {
        "id": "IWndSo_e1M_y"
      },
      "execution_count": null,
      "outputs": []
    },
    {
      "cell_type": "code",
      "source": [
        "#Create an update function\n",
        "#Could use this to update a single pagerank\n",
        "#Given a node at the current iteration, output the updated page_rank\n",
        "def single_prd(graph, node, prob_list, d):\n",
        "\n",
        "#First obtain the nodes that have an edge going into our desired node\n",
        "  in_list = []\n",
        "  for edge in graph.in_edges(node):\n",
        "    curr = edge\n",
        "    in_list.append(curr)\n",
        "\n",
        "\n",
        "  update_pr = 0\n",
        "  for i in range(len(in_list)):\n",
        "    curr_deg = graph.out_degree(in_list[i][0])\n",
        "    index = list(graph.nodes()).index(in_list[i][0])\n",
        "    curr_prob = prob_list[index]\n",
        "    update_pr = update_pr + curr_prob / curr_deg\n",
        "\n",
        "\n",
        "  final_update = (1-d)/ len(np.array(graph.nodes())) + d* update_pr\n",
        "\n",
        "  return final_update\n"
      ],
      "metadata": {
        "id": "3PUAzjOtyBPw"
      },
      "execution_count": 2,
      "outputs": []
    },
    {
      "cell_type": "code",
      "source": [
        "#Building Alg with example graph\n",
        "G = nx.DiGraph()\n",
        "edge_list = [ (1,3), (2,3)]\n",
        "prob_list = [1/3,1/3,1/3]\n",
        "G.add_edges_from(edge_list)\n",
        "G.in_edges(3)\n",
        "in_list = []\n",
        "for edge in G.in_edges(3):\n",
        "  #Store edges in a list that can be accessed\n",
        "  curr = edge\n",
        "  in_list.append(curr)\n",
        "\n",
        "\n",
        "new_prob = 0\n",
        "for i in range(len(in_list)):\n",
        "\n",
        "  curr_out = G.out_degree(in_list[i][0])\n",
        "  index = list(G.nodes()).index(in_list[i][0])\n",
        "  curr_prob = prob_list[index]\n",
        "  new_prob = new_prob + curr_prob / curr_out\n",
        "\n",
        "new_prob\n",
        "\n",
        "\n",
        "single_pr(G, 3, prob_list)\n",
        "\n",
        "\n",
        "\n"
      ],
      "metadata": {
        "colab": {
          "base_uri": "https://localhost:8080/"
        },
        "id": "Ey9SlLRc2duR",
        "outputId": "cf41aaba-c1c5-4f41-89ea-6791534bf39a"
      },
      "execution_count": null,
      "outputs": [
        {
          "output_type": "execute_result",
          "data": {
            "text/plain": [
              "0.6666666666666666"
            ]
          },
          "metadata": {},
          "execution_count": 4
        }
      ]
    },
    {
      "cell_type": "markdown",
      "source": [
        "### PageRank completed algorithm"
      ],
      "metadata": {
        "id": "eI54h313GluR"
      }
    },
    {
      "cell_type": "code",
      "source": [
        "def PageRank(digraph):\n",
        "  node_list = np.array(digraph.nodes())\n",
        "  n = len(node_list)\n",
        "  current_prob_dist = np.repeat((1/n), n) #Probabilities of each node (indexes should correspond to above node list) (should st)\n",
        "  updated_prob_dist = np.repeat(0.0, n) # placeholder list to throw in new values during the update sequence\n",
        "  difference = 1\n",
        "  while difference > 0.00001:   #Iterate through multiple page rank updates (multiple p-distribution updates)\n",
        "    for  i in range(n):  #Single probability distribution update (single page rank update for all points)\n",
        "      update_pr = single_pr(digraph, node_list[i], current_prob_dist)\n",
        "      updated_prob_dist[i] = update_pr\n",
        "\n",
        "      difference = np.max(abs(updated_prob_dist - current_prob_dist))\n",
        "      current_prob_dist = np.array(updated_prob_dist)\n",
        "\n",
        "  return updated_prob_dist"
      ],
      "metadata": {
        "id": "HRsLkgx71WDJ"
      },
      "execution_count": null,
      "outputs": []
    },
    {
      "cell_type": "code",
      "source": [
        "def PageRank_d(digraph, d):\n",
        "  node_list = np.array(digraph.nodes())\n",
        "  n = len(node_list)\n",
        "  current_prob_dist = np.repeat((1/n), n) #Probabilities of each node (indexes should correspond to above node list) (should st)\n",
        "  updated_prob_dist = np.repeat(0.0, n) # placeholder list to throw in new values during the update sequence\n",
        "  difference = 1\n",
        "  while difference > 0.00001:   #Iterate through multiple page rank updates (multiple p-distribution updates)\n",
        "    for  i in range(n):  #Single probability distribution update (single page rank update for all points)\n",
        "      update_pr = single_prd(digraph, node_list[i], current_prob_dist, d)\n",
        "      updated_prob_dist[i] = update_pr\n",
        "\n",
        "      difference = np.max(abs(updated_prob_dist - current_prob_dist))\n",
        "      current_prob_dist = np.array(updated_prob_dist)\n",
        "\n",
        "\n",
        "  return updated_prob_dist / sum(updated_prob_dist)"
      ],
      "metadata": {
        "id": "uBRHpPFOsnyf"
      },
      "execution_count": 51,
      "outputs": []
    },
    {
      "cell_type": "markdown",
      "source": [
        "#### Testing algorithm iteration by iteration"
      ],
      "metadata": {
        "id": "ansb-Kp6FtXL"
      }
    },
    {
      "cell_type": "code",
      "source": [
        "DG.add_edges_from(edge_list)\n",
        "\n",
        "node_list = np.array(DG.nodes())\n",
        "n = len(np.array(DG.nodes()))\n",
        "current_prob_dist = np.repeat((1/n), n)\n",
        "update_prob_dist = np.zeros(n, float)\n",
        "\n",
        "for i in range(n):\n",
        "  update_pr = single_pr(DG, node_list[i], current_prob_dist)\n",
        "  update_prob_dist[i] = update_pr\n",
        "\n",
        "difference = np.max(abs(update_prob_dist - current_prob_dist))\n",
        "\n",
        "print(update_prob_dist)\n",
        "current_prob_dist = np.array(update_prob_dist)\n",
        "\n",
        "#Setting current_prob_dist = update_prob_dist is causing some issues :(\n",
        "for i in range(n):\n",
        "  update_pr = single_pr(DG, node_list[i], current_prob_dist)\n",
        "  update_prob_dist[i] = update_pr\n",
        "\n",
        "current_prob_dist = np.array(update_prob_dist)\n",
        "\n",
        "for i in range(n):\n",
        "  update_pr = single_pr(DG, node_list[i], current_prob_dist)\n",
        "  update_prob_dist[i] = update_pr\n",
        "\n",
        "\n",
        "sum(update_prob_dist)\n",
        "\n"
      ],
      "metadata": {
        "colab": {
          "base_uri": "https://localhost:8080/"
        },
        "id": "k9cSMdcvFsNM",
        "outputId": "f738949f-d5f6-4709-a1af-9aabf1505243"
      },
      "execution_count": null,
      "outputs": [
        {
          "output_type": "stream",
          "name": "stdout",
          "text": [
            "[0.05 0.25 0.35 0.1  0.25]\n"
          ]
        },
        {
          "output_type": "execute_result",
          "data": {
            "text/plain": [
              "0.09999266751110554"
            ]
          },
          "metadata": {},
          "execution_count": 28
        }
      ]
    },
    {
      "cell_type": "markdown",
      "source": [
        "# Linear Algebra Approach"
      ],
      "metadata": {
        "id": "rnXN8h-0_D7Y"
      }
    },
    {
      "cell_type": "markdown",
      "source": [
        "#### Stochastic Matrix Function Given a Digraph"
      ],
      "metadata": {
        "id": "HRxrKUzX9xod"
      }
    },
    {
      "cell_type": "code",
      "source": [
        "def stochastic(DG):\n",
        "  A = nx.to_numpy_array(DG)\n",
        "  for i in range(len(A)):\n",
        "    count = 0\n",
        "    for j in range(len(A)):\n",
        "      if A[i][j] == 1:\n",
        "        count = count + 1\n",
        "\n",
        "    A[i] = A[i] / count\n",
        "\n",
        "\n",
        "\n",
        "  return A.transpose()"
      ],
      "metadata": {
        "id": "y0oDUTAn8OWd"
      },
      "execution_count": 80,
      "outputs": []
    },
    {
      "cell_type": "markdown",
      "source": [
        "##### Scrap work for Stochastic Matrix function"
      ],
      "metadata": {
        "id": "PyxFIFOtuYNO"
      }
    },
    {
      "cell_type": "code",
      "source": [
        "#Calculate the stochastic matrix from the adjacency matrix\n",
        "A = nx.to_numpy_array(DG)\n",
        "A_t = np.transpose(A)\n",
        "for i in range(len(A_t)):\n",
        "  count = 0\n",
        "  for j in range(len(A_t)):\n",
        "    if A_t[i][j] == 1:\n",
        "      count = count + 1\n",
        "\n",
        "  A_t[i] = A_t[i] / count\n",
        "\n",
        "A"
      ],
      "metadata": {
        "colab": {
          "base_uri": "https://localhost:8080/"
        },
        "id": "KjPsaGA45Qf1",
        "outputId": "873cad9c-3872-4c1a-c28e-e5d87ef892f2"
      },
      "execution_count": 54,
      "outputs": [
        {
          "output_type": "execute_result",
          "data": {
            "text/plain": [
              "array([[0.        , 1.        , 0.33333333, 0.5       ],\n",
              "       [0.        , 0.        , 0.33333333, 0.5       ],\n",
              "       [0.        , 0.        , 0.        , 0.        ],\n",
              "       [1.        , 0.        , 0.33333333, 0.        ]])"
            ]
          },
          "metadata": {},
          "execution_count": 54
        }
      ]
    },
    {
      "cell_type": "code",
      "source": [
        "A = nx.to_numpy_array(DG)\n",
        "\n",
        "for i in range(len(A)):\n",
        "  count = 0\n",
        "  for j in range(len(A)):\n",
        "    if A[i][j] == 1:\n",
        "      count = count + 1\n",
        "\n",
        "  A[i] = A[i] / count\n",
        "\n",
        "\n",
        "\n",
        "A.transpose()"
      ],
      "metadata": {
        "colab": {
          "base_uri": "https://localhost:8080/"
        },
        "id": "UTCQ5uOekSUz",
        "outputId": "bbbd37bb-dc1f-45d0-b5d9-17f4467ce22c"
      },
      "execution_count": 67,
      "outputs": [
        {
          "output_type": "execute_result",
          "data": {
            "text/plain": [
              "array([[0.        , 0.        , 1.        , 0.5       ],\n",
              "       [0.33333333, 0.        , 0.        , 0.        ],\n",
              "       [0.33333333, 0.5       , 0.        , 0.5       ],\n",
              "       [0.33333333, 0.5       , 0.        , 0.        ]])"
            ]
          },
          "metadata": {},
          "execution_count": 67
        }
      ]
    },
    {
      "cell_type": "markdown",
      "source": [
        "#### Finalized PageRank Algorithm w/ Linear Algebra"
      ],
      "metadata": {
        "id": "qj6xE2IKuFIO"
      }
    },
    {
      "cell_type": "code",
      "source": [
        "def linalg_PageRank(DG, d):\n",
        "  n = len(np.array(DG.nodes()))\n",
        "  A = stochastic(DG)\n",
        "  B = np.ones((n,n))\n",
        "\n",
        "  M = d*A + ((1-d)/n)*B\n",
        "\n",
        "  vals, vecs = np.linalg.eig(M)\n",
        "  prob_vecs = vecs.real\n",
        "  return abs(prob_vecs.transpose()[0]) / sum(abs(prob_vecs.transpose()[0]))"
      ],
      "metadata": {
        "id": "wbywkIMglOBa"
      },
      "execution_count": 90,
      "outputs": []
    },
    {
      "cell_type": "markdown",
      "source": [
        "##### Scrap work for Algorithm"
      ],
      "metadata": {
        "id": "IHDGJ2wFuKaY"
      }
    },
    {
      "cell_type": "code",
      "source": [
        "A = stochastic(DG)\n",
        "\n",
        "n = len(np.array(DG.nodes()))\n",
        "B = np.ones((n,n))\n",
        "d = 0.85\n",
        "M= d*A + ((1-d)/n)*B\n",
        "M"
      ],
      "metadata": {
        "colab": {
          "base_uri": "https://localhost:8080/"
        },
        "id": "zazgKJUB94ZH",
        "outputId": "b893830e-e76d-456a-b131-714da9325262"
      },
      "execution_count": 87,
      "outputs": [
        {
          "output_type": "execute_result",
          "data": {
            "text/plain": [
              "array([[0.0375    , 0.0375    , 0.8875    , 0.4625    ],\n",
              "       [0.32083333, 0.0375    , 0.0375    , 0.0375    ],\n",
              "       [0.32083333, 0.4625    , 0.0375    , 0.4625    ],\n",
              "       [0.32083333, 0.4625    , 0.0375    , 0.0375    ]])"
            ]
          },
          "metadata": {},
          "execution_count": 87
        }
      ]
    },
    {
      "cell_type": "code",
      "source": [
        "vals, vecs = np.linalg.eig(M)\n",
        "prob_vecs = vecs.real\n",
        "prob_vecs.transpose()\n",
        "\n",
        "prob_vecs.transpose()[0] / sum(prob_vecs.transpose()[0])"
      ],
      "metadata": {
        "id": "nqYOMBFO-BBJ",
        "colab": {
          "base_uri": "https://localhost:8080/"
        },
        "outputId": "e743945c-f45e-4fdb-abf7-2d60e57cefc3"
      },
      "execution_count": 85,
      "outputs": [
        {
          "output_type": "execute_result",
          "data": {
            "text/plain": [
              "array([0.36815068, 0.14180936, 0.28796163, 0.20207834])"
            ]
          },
          "metadata": {},
          "execution_count": 85
        }
      ]
    },
    {
      "cell_type": "code",
      "source": [
        "linalg_PageRank(DG, 0.85)\n",
        "#IT WORKS LFG!!"
      ],
      "metadata": {
        "colab": {
          "base_uri": "https://localhost:8080/"
        },
        "id": "CnrCdnDAfcy2",
        "outputId": "8cfe57da-0297-495f-8584-6050540a3d4e"
      },
      "execution_count": 91,
      "outputs": [
        {
          "output_type": "execute_result",
          "data": {
            "text/plain": [
              "array([0.36815068, 0.14180936, 0.28796163, 0.20207834])"
            ]
          },
          "metadata": {},
          "execution_count": 91
        }
      ]
    },
    {
      "cell_type": "markdown",
      "source": [
        "##Testing"
      ],
      "metadata": {
        "id": "Nu6GUm2quhaN"
      }
    },
    {
      "cell_type": "markdown",
      "source": [
        "### Example Test Graph"
      ],
      "metadata": {
        "id": "hrjWoYvCumfd"
      }
    },
    {
      "cell_type": "code",
      "source": [
        "DG = nx.DiGraph()\n",
        "edge_list = [ (1,2),(1,3), (1,4), (2,3), (2,4),(3,1), (4,1), (4,3)]\n",
        "DG.add_edges_from(edge_list)"
      ],
      "metadata": {
        "id": "zNypwaTZxy-u"
      },
      "execution_count": 92,
      "outputs": []
    },
    {
      "cell_type": "markdown",
      "source": [
        "### Comparison between brunt force, linear algebra, and networkX package"
      ],
      "metadata": {
        "id": "YCVSJjD2upXl"
      }
    },
    {
      "cell_type": "code",
      "source": [
        "print(PageRank_d(DG, 0.85)) # Brunt Force\n",
        "print(linalg_PageRank(DG, 0.85)) # Linear Algebra\n",
        "nx.pagerank(DG, 0.85) # Built-in networkX"
      ],
      "metadata": {
        "colab": {
          "base_uri": "https://localhost:8080/"
        },
        "id": "n9wKlELkulCM",
        "outputId": "7a29151f-2020-447a-f9b1-dca4a2bb6f3c"
      },
      "execution_count": 97,
      "outputs": [
        {
          "output_type": "stream",
          "name": "stdout",
          "text": [
            "[0.36814208 0.1418122  0.28796333 0.20208239]\n",
            "[0.36815068 0.14180936 0.28796163 0.20207834]\n"
          ]
        },
        {
          "output_type": "execute_result",
          "data": {
            "text/plain": [
              "{1: 0.3681509531104541,\n",
              " 2: 0.14180962694364857,\n",
              " 3: 0.28796129337481535,\n",
              " 4: 0.20207812657108176}"
            ]
          },
          "metadata": {},
          "execution_count": 97
        }
      ]
    },
    {
      "cell_type": "code",
      "source": [],
      "metadata": {
        "id": "uDZ23XAevGuj"
      },
      "execution_count": null,
      "outputs": []
    }
  ]
}