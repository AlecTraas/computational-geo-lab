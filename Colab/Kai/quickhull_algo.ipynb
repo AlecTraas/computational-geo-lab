{
  "cells": [
    {
      "cell_type": "markdown",
      "metadata": {
        "colab_type": "text",
        "id": "view-in-github"
      },
      "source": [
        "<a href=\"https://colab.research.google.com/github/AlecTraas/computational-geo-lab/blob/main/Colab/Kai/quickhull_algo.ipynb\" target=\"_parent\"><img src=\"https://colab.research.google.com/assets/colab-badge.svg\" alt=\"Open In Colab\"/></a>"
      ]
    },
    {
      "cell_type": "code",
      "execution_count": 1,
      "metadata": {
        "id": "4SxUlV6pa6aq"
      },
      "outputs": [],
      "source": [
        "import numpy as np\n",
        "import matplotlib.pyplot as plt\n",
        "import random as rnd"
      ]
    },
    {
      "cell_type": "code",
      "execution_count": 2,
      "metadata": {
        "id": "ILpJeuUAuqwJ"
      },
      "outputs": [],
      "source": [
        "parseSides = lambda l, r, ps: (\n",
        "  np.array([p for p in ps if aboveLine(l, r, p)]),\n",
        "  np.array([p for p in ps if not aboveLine(l, r, p)])\n",
        ")"
      ]
    },
    {
      "cell_type": "code",
      "execution_count": 17,
      "metadata": {
        "id": "catyJaWp7eG2"
      },
      "outputs": [],
      "source": [
        "def runProgram(num_points):\n",
        "  points = sorted([[rnd.random()*10, rnd.random()*10] for _ in range(num_points)], key=lambda x: x[0])\n",
        "\n",
        "  left = points[0]\n",
        "  right = points[-1]\n",
        "\n",
        "  hull_set = [left]\n",
        "\n",
        "  upper_set, lower_set = parseSides(left, right, points)\n",
        "\n",
        "  if quickHull(upper_set, left, right, 1) != None:\n",
        "    hull_set += sorted([arr.tolist() for arr in quickHull(upper_set, left, right, 1)]) # resort by x, smallest to largest\n",
        "\n",
        "  hull_set.append(right)\n",
        "\n",
        "  if quickHull(lower_set, left, right, -1) != None:\n",
        "    hull_set += sorted([arr.tolist() for arr in quickHull(lower_set, left, right, -1)],reverse=True) # resort by x, largest to smallest\n",
        "\n",
        "  result = []\n",
        "  for x in hull_set:\n",
        "    if x not in result:\n",
        "        result.append(x)\n",
        "  hull_set_pure = result\n",
        "\n",
        "  to_np_arr = lambda x : np.array([np.array(inner_list) for inner_list in x])\n",
        "\n",
        "  points = to_np_arr(points)\n",
        "  hull_set = to_np_arr(hull_set)\n",
        "  hull_set_pure = to_np_arr(hull_set_pure)\n",
        "\n",
        "  plt.scatter(points[:, 0], points[:, 1], color='red')\n",
        "  plt.scatter(hull_set[:, 0], hull_set[:, 1], color='blue')\n",
        "  plt.plot(hull_set[:, 0], hull_set[:, 1], color='green')"
      ]
    },
    {
      "cell_type": "code",
      "execution_count": 4,
      "metadata": {
        "id": "N-jN-BMGlL76"
      },
      "outputs": [],
      "source": [
        "def aboveLine(a,b,c):\n",
        "  return (b[0] - a[0]) * (c[1] - a[1]) - (b[1] - a[1]) * (c[0] - a[0]) > 0"
      ]
    },
    {
      "cell_type": "code",
      "execution_count": 5,
      "metadata": {
        "id": "p6Ckvx5368-f"
      },
      "outputs": [],
      "source": [
        "def furthestP(points,a,b):\n",
        "  dist = 1/2 * np.abs(a[0]*(b[1] - points[:,1]) + b[0]*(points[:,1] - a[1]) + points[:,0]*(a[1] - b[1]))\n",
        "  return points[np.argmax(dist)]"
      ]
    },
    {
      "cell_type": "code",
      "execution_count": 6,
      "metadata": {
        "id": "F-ZJZTZGmCwo"
      },
      "outputs": [],
      "source": [
        "def quickHull(points,a,b,f):\n",
        "  if points.size == 0 or a is None or b is None:\n",
        "    return None\n",
        "\n",
        "  c = furthestP(points,a,b)\n",
        "\n",
        "  hull_set = []\n",
        "  hull_set += [c]\n",
        "\n",
        "  indices = np.where((points == c).all(axis=1))[0]\n",
        "  points = np.delete(points, indices, axis=0)\n",
        "\n",
        "  parseSides = lambda l, r, ps: (\n",
        "    np.array([p for p in ps if aboveLine(l, r, p)]),\n",
        "    np.array([p for p in ps if not aboveLine(l, r, p)])\n",
        "  )\n",
        "\n",
        "  set_1a, set_1b = parseSides(a,c,points)\n",
        "  set_2b, set_2a = parseSides(b,c,points)\n",
        "\n",
        "  if f == 1:\n",
        "    a = quickHull(set_1a, a, c, 1)\n",
        "    b = quickHull(set_2a, c, b, 1)\n",
        "    if a != None:\n",
        "      hull_set += a\n",
        "    if b != None:\n",
        "      hull_set += b\n",
        "\n",
        "  else:\n",
        "    a = quickHull(set_1b, a, c, -1)\n",
        "    b = quickHull(set_2b, c, b, -1)\n",
        "    if a != None:\n",
        "      hull_set += a\n",
        "    if b != None:\n",
        "      hull_set += b\n",
        "\n",
        "  return hull_set"
      ]
    },
    {
      "cell_type": "code",
      "execution_count": 18,
      "metadata": {
        "colab": {
          "base_uri": "https://localhost:8080/",
          "height": 430
        },
        "id": "PQI4nLhugfG7",
        "outputId": "36431141-1706-4b39-ec2c-bd4317c957e5"
      },
      "outputs": [
        {
          "data": {
            "image/png": "[encoded data removed]",
            "text/plain": [
              "<Figure size 640x480 with 1 Axes>"
            ]
          },
          "metadata": {},
          "output_type": "display_data"
        }
      ],
      "source": [
        "runProgram(20)"
      ]
    }
  ],
  "metadata": {
    "colab": {
      "authorship_tag": "ABX9TyN3Sm5vQhIxxIWQAaaAIJ6T",
      "include_colab_link": true,
      "provenance": []
    },
    "kernelspec": {
      "display_name": "Python 3",
      "name": "python3"
    },
    "language_info": {
      "name": "python",
      "version": "3.9.6"
    }
  },
  "nbformat": 4,
  "nbformat_minor": 0
}
