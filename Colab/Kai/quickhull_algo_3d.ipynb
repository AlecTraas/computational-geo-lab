{
  "nbformat": 4,
  "nbformat_minor": 0,
  "metadata": {
    "colab": {
      "provenance": [],
      "authorship_tag": "ABX9TyNrslWK2ZfFkjEY61NZYV8e",
      "include_colab_link": true
    },
    "kernelspec": {
      "name": "python3",
      "display_name": "Python 3"
    },
    "language_info": {
      "name": "python"
    }
  },
  "cells": [
    {
      "cell_type": "markdown",
      "metadata": {
        "id": "view-in-github",
        "colab_type": "text"
      },
      "source": [
        "<a href=\"https://colab.research.google.com/github/AlecTraas/computational-geo-lab/blob/main/Colab/Kai/quickhull_algo_3d.ipynb\" target=\"_parent\"><img src=\"https://colab.research.google.com/assets/colab-badge.svg\" alt=\"Open In Colab\"/></a>"
      ]
    },
    {
      "cell_type": "code",
      "execution_count": null,
      "metadata": {
        "id": "W2wdRKkka48b"
      },
      "outputs": [],
      "source": [
        "import numpy as np\n",
        "import matplotlib.pyplot as plt\n",
        "import random as rnd"
      ]
    },
    {
      "cell_type": "code",
      "source": [
        "def main(num_points):\n",
        "  points = sorted([[rnd.random()*10, rnd.random()*10, rnd.random()*10] for _ in range(num_points)], key=lambda x: x[0])\n",
        "  np_points = np.array(points)\n",
        "  fig = plt.figure()\n",
        "  ax = fig.add_subplot(projection='3d')\n",
        "  ax.scatter(np_points[:,0], np_points[:,1], np_points[:,2])\n",
        "  hull = ConvexHull(np_points)\n",
        "  hull.quick_hull()\n",
        "  np_hull_pts = np.array(hull.hull_points)\n",
        "  np_hull_fcts = np.array(hull.hull_facets)\n",
        "  ax.plot_trisurf(np_hull_pts[:, 0], np_hull_pts[:, 1], np_hull_pts[:, 2], triangles=np_hull_fcts, color='red', alpha=0.5)\n",
        "  plt.show()"
      ],
      "metadata": {
        "id": "Dr3594c-bXjz"
      },
      "execution_count": null,
      "outputs": []
    },
    {
      "cell_type": "code",
      "source": [
        "# I miss structs :(\n",
        "class ConvexHull():\n",
        "  def __init__(self, points):\n",
        "    # [[x,y,z]...]\n",
        "    self.points = points\n",
        "    # [[x,y,z]...]\n",
        "    self.hull_points = None\n",
        "    # references indecies in the hull_points array\n",
        "    # [[a,b,c]...]\n",
        "    self.hull_facets = None\n",
        "    # references indecies in the hull_points array\n",
        "    # [[a,b]...]\n",
        "    self.hull_ridges = None\n",
        "    # references indecies in the hull_ridges array\n",
        "    # [a,b,c...]\n",
        "    self.neighbors = None\n",
        "\n",
        "    self.above_tri_sets = None\n",
        "\n",
        "  def quick_hull(self):\n",
        "    # I assume, for the sake of simplicity, that no one will input fewer that 4 points\n",
        "    self.define_tetrahedron()\n",
        "    # ↓ I'm going to use Lam's method!\n",
        "    self.clear_internal_points()\n",
        "\n",
        "  def define_tetrahedron(self):\n",
        "    temp = np.array(self.points)\n",
        "    # ↓ Inefficient, but it works\n",
        "    i = []\n",
        "    k = temp[:,0].argmin()\n",
        "    i.append(k)\n",
        "    temp[k] = np.inf\n",
        "    k = temp[:,1].argmin()\n",
        "    i.append(k)\n",
        "    temp[k] = np.inf\n",
        "    k = temp[:,2].argmin()\n",
        "    i.append(k)\n",
        "    temp[temp == np.inf] = -np.inf\n",
        "    temp[k] = -np.inf\n",
        "    k = temp[:,1].argmax()\n",
        "    i.append(k)\n",
        "    i = sorted(i, reverse=True)\n",
        "    self.hull_points = [self.points[j, :] for j in i]\n",
        "    for j in i:\n",
        "      self.points = np.delete(self.points,j,0)\n",
        "    self.hull_points.sort(key=lambda x: x[0])\n",
        "    self.hull_points = self.hull_points[::-1]\n",
        "    self.hull_facets = [[0,2,1],[0,1,3],[0,3,2],[1,2,3]]\n",
        "    self.neighbors = [[[0,3,2],[1,2,3],[0,1,3]],\n",
        "                      [[0,2,1],[1,2,3],[0,3,2]],\n",
        "                      [[0,1,3],[1,2,3],[0,2,1]],\n",
        "                      [[0,2,1],[0,3,2],[0,1,3]]]\n",
        "\n",
        "  def above_facet(self,face,point):\n",
        "    face = [self.hull_points[face[0]],self.hull_points[face[1]],self.hull_points[face[2]]]\n",
        "    n = np.cross((face[1]-face[0]),(face[2]-face[0]))\n",
        "    n = n/np.linalg.norm(n)\n",
        "    d = np.dot(n,(face[0]-point))\n",
        "    return d > 0\n",
        "\n",
        "  def clear_internal_points(self):\n",
        "    hull_centroid = np.sum(self.hull_points, axis=0)/len(self.hull_points)\n",
        "    normals = [[]]\n",
        "    for f in self.hull_facets:\n",
        "      normals.append(face_to_point_list(f)/3)\n",
        "    p_queue = [[]]\n",
        "    for p in self.points:\n",
        "      for n in normals:\n",
        "        if np.dot(p-n,n-hull_centroid) > 0:\n",
        "          p_queue.append(p)\n",
        "    # clear duplicates in the p_queue list\n",
        "    self.points.clear(p_queue)\n",
        "\n",
        "  def face_to_point_list(self,f): # still working on this\n",
        "    p = self.hull_points\n",
        "    return [[p[f[0,:]]]]\n",
        "\n",
        "  def furthest_point(self,face):\n",
        "    \"\"\"\n",
        "    furthest = 0\n",
        "    for i,p in enumerate(above_tri_sets[face_index]): # is enumerate the way to get index and point? not sure\n",
        "      if dist(p,face) > furthest:\n",
        "        furthest = i\n",
        "    return furthest\n",
        "    \"\"\"\n",
        "\n",
        "  def init_above_tri_sets(self):\n",
        "    \"\"\"\n",
        "    I came up with my own method, no wikipedia or anything!! :))\n",
        "    - find the average point for each face of the tet (a+b+c)/3\n",
        "    - assign point to face which has min dist between average and the point\n",
        "\n",
        "    Something like:\n",
        "\n",
        "    centers = [avg for avg in average(facets)]\n",
        "    for p in points:\n",
        "      above_tri_sets[min_dist_index(p,centers)].append(p)\n",
        "    \"\"\"\n",
        "\n",
        "  def join_point_to_horizon(self,horizon,point):\n",
        "    \"\"\"\n",
        "    - for ridge in horizon:\n",
        "      - new facet (point,ridge.a,rigde.b)\n",
        "    - delete_internal_points()\n",
        "    \"\"\""
      ],
      "metadata": {
        "id": "BRGBUNFoVZtO"
      },
      "execution_count": null,
      "outputs": []
    },
    {
      "cell_type": "code",
      "source": [
        "main(1000)"
      ],
      "metadata": {
        "id": "iRxQcObhPlOm"
      },
      "execution_count": null,
      "outputs": []
    }
  ]
}