{
  "nbformat": 4,
  "nbformat_minor": 0,
  "metadata": {
    "colab": {
      "provenance": [],
      "collapsed_sections": [
        "ansb-Kp6FtXL"
      ],
      "authorship_tag": "ABX9TyNYaUKwCHiFBFl2mG4wRbkZ",
      "include_colab_link": true
    },
    "kernelspec": {
      "name": "python3",
      "display_name": "Python 3"
    },
    "language_info": {
      "name": "python"
    }
  },
  "cells": [
    {
      "cell_type": "markdown",
      "metadata": {
        "id": "view-in-github",
        "colab_type": "text"
      },
      "source": [
        "<a href=\"https://colab.research.google.com/github/AlecTraas/computational-geo-lab/blob/main/Colab/Matthew/Page_Rank.ipynb\" target=\"_parent\"><img src=\"https://colab.research.google.com/assets/colab-badge.svg\" alt=\"Open In Colab\"/></a>"
      ]
    },
    {
      "cell_type": "markdown",
      "source": [
        "### Pagerank Algorithm\n"
      ],
      "metadata": {
        "id": "6k0ggdh4tZFF"
      }
    },
    {
      "cell_type": "markdown",
      "source": [
        "- Want to take in a directed graph, and give a probability distribution that details the probability of landing on a given node\n",
        "- Output this in a way such that:\n",
        "  - Node A: 50%\n",
        "  - Node B: 20%\n",
        "  - Could possibly be done by iterating through the node list and probability distribution at the same time and print each one by one\n",
        "\n",
        "To-Do list 3/19 and Ideas\n",
        "- Finish coding single_pr\n",
        "  - find out count for each node attached to the in node, then divide prob by out count, add together for each in node of a given node\n",
        "- Think about convergence\n",
        "  - Brunt force of checking new prob list and old prob list, if they are the same for 1/2 decimal points, end the algorithm\n",
        "    - Could lead to potential complexity problems\n",
        "  - Try threshold idea (i.e if |current - update| < 0.001 for every prob, end)"
      ],
      "metadata": {
        "id": "n8y_rQDHGfAy"
      }
    },
    {
      "cell_type": "markdown",
      "source": [
        "#### Pseudocode\n"
      ],
      "metadata": {
        "id": "1XkKMsN1GXcm"
      }
    },
    {
      "cell_type": "markdown",
      "source": [
        "- First assign the same probability to each node (1/n)\n",
        "- Caution of convergence as we iterate over the algorithm (look for when probabilities start to stabilize as the time to stop)\n",
        "  - Could look at stopping when all rounded probabilities (to 2 decimal places) are the same between the previous iteration and the current iteration"
      ],
      "metadata": {
        "id": "TzwuS3JSs-hu"
      }
    },
    {
      "cell_type": "markdown",
      "source": [
        "## Code"
      ],
      "metadata": {
        "id": "DTdpy2hp4KLe"
      }
    },
    {
      "cell_type": "code",
      "execution_count": 73,
      "metadata": {
        "id": "cxpeYZAvsPou"
      },
      "outputs": [],
      "source": [
        "import numpy as np\n",
        "import pandas as pd\n",
        "import matplotlib.pyplot as plt\n",
        "import networkx as nx\n",
        "import math\n",
        "from sympy import Matrix"
      ]
    },
    {
      "cell_type": "markdown",
      "source": [
        "### Single PageRank update"
      ],
      "metadata": {
        "id": "3JJzEOlOG05k"
      }
    },
    {
      "cell_type": "code",
      "source": [
        "#Create an update function\n",
        "#Could use this to update a single pagerank\n",
        "#Given a node at the current iteration, output the updated page_rank\n",
        "def single_prd(graph, node, prob_list, d):\n",
        "\n",
        "#First obtain the nodes that have an edge going into our desired node\n",
        "  in_list = []\n",
        "  for edge in graph.in_edges(node):\n",
        "    curr = edge\n",
        "    in_list.append(curr)\n",
        "\n",
        "\n",
        "  update_pr = 0\n",
        "  for i in range(len(in_list)):\n",
        "    curr_deg = graph.out_degree(in_list[i][0])\n",
        "    index = list(graph.nodes()).index(in_list[i][0])\n",
        "    curr_prob = prob_list[index]\n",
        "    update_pr = update_pr + curr_prob / curr_deg\n",
        "\n",
        "\n",
        "  final_update = (1-d)/ len(np.array(graph.nodes())) + d* update_pr\n",
        "\n",
        "  return final_update\n"
      ],
      "metadata": {
        "id": "3PUAzjOtyBPw"
      },
      "execution_count": 21,
      "outputs": []
    },
    {
      "cell_type": "code",
      "source": [
        "def single_pr(graph, node, prob_list):\n",
        "\n",
        "#First obtain the nodes that have an edge going into our desired node\n",
        "  in_list = []\n",
        "  for edge in graph.in_edges(node):\n",
        "    curr = edge\n",
        "    in_list.append(curr)\n",
        "\n",
        "\n",
        "  update_pr = 0\n",
        "  for i in range(len(in_list)):\n",
        "    curr_deg = graph.out_degree(in_list[i][0])\n",
        "    index = list(graph.nodes()).index(in_list[i][0])\n",
        "    curr_prob = prob_list[index]\n",
        "    update_pr = update_pr + curr_prob / curr_deg\n",
        "\n",
        "\n",
        "  final_update = update_pr\n",
        "\n",
        "  return final_update\n"
      ],
      "metadata": {
        "id": "IWndSo_e1M_y"
      },
      "execution_count": 22,
      "outputs": []
    },
    {
      "cell_type": "code",
      "source": [
        "#Building Alg with example graph\n",
        "G = nx.DiGraph()\n",
        "edge_list = [ (1,3), (2,3)]\n",
        "prob_list = [1/3,1/3,1/3]\n",
        "G.add_edges_from(edge_list)\n",
        "G.in_edges(3)\n",
        "in_list = []\n",
        "for edge in G.in_edges(3):\n",
        "  #Store edges in a list that can be accessed\n",
        "  curr = edge\n",
        "  in_list.append(curr)\n",
        "\n",
        "\n",
        "new_prob = 0\n",
        "for i in range(len(in_list)):\n",
        "\n",
        "  curr_out = G.out_degree(in_list[i][0])\n",
        "  index = list(G.nodes()).index(in_list[i][0])\n",
        "  curr_prob = prob_list[index]\n",
        "  new_prob = new_prob + curr_prob / curr_out\n",
        "\n",
        "new_prob\n",
        "\n",
        "\n",
        "single_pr(G, 3, prob_list)\n",
        "\n",
        "\n",
        "\n"
      ],
      "metadata": {
        "colab": {
          "base_uri": "https://localhost:8080/"
        },
        "id": "Ey9SlLRc2duR",
        "outputId": "33e849c6-dacf-45a7-b62f-90fa6a62a6c8"
      },
      "execution_count": 12,
      "outputs": [
        {
          "output_type": "execute_result",
          "data": {
            "text/plain": [
              "0.6666666666666666"
            ]
          },
          "metadata": {},
          "execution_count": 12
        }
      ]
    },
    {
      "cell_type": "markdown",
      "source": [
        "### PageRank completed algorithm"
      ],
      "metadata": {
        "id": "eI54h313GluR"
      }
    },
    {
      "cell_type": "code",
      "source": [
        "def PageRank(digraph):\n",
        "  node_list = np.array(digraph.nodes())\n",
        "  n = len(node_list)\n",
        "  current_prob_dist = np.repeat((1/n), n) #Probabilities of each node (indexes should correspond to above node list) (should st)\n",
        "  updated_prob_dist = np.repeat(0.0, n) # placeholder list to throw in new values during the update sequence\n",
        "  difference = 1\n",
        "  while difference > 0.00001:   #Iterate through multiple page rank updates (multiple p-distribution updates)\n",
        "    for  i in range(n):  #Single probability distribution update (single page rank update for all points)\n",
        "      update_pr = single_pr(digraph, node_list[i], current_prob_dist)\n",
        "      updated_prob_dist[i] = update_pr\n",
        "\n",
        "      difference = np.max(abs(updated_prob_dist - current_prob_dist))\n",
        "      current_prob_dist = np.array(updated_prob_dist)\n",
        "\n",
        "  return updated_prob_dist"
      ],
      "metadata": {
        "id": "HRsLkgx71WDJ"
      },
      "execution_count": 29,
      "outputs": []
    },
    {
      "cell_type": "code",
      "source": [
        "def PageRank_d(digraph, d):\n",
        "  node_list = np.array(digraph.nodes())\n",
        "  n = len(node_list)\n",
        "  current_prob_dist = np.repeat((1/n), n) #Probabilities of each node (indexes should correspond to above node list) (should st)\n",
        "  updated_prob_dist = np.repeat(0.0, n) # placeholder list to throw in new values during the update sequence\n",
        "  difference = 1\n",
        "  while difference > 0.00001:   #Iterate through multiple page rank updates (multiple p-distribution updates)\n",
        "    for  i in range(n):  #Single probability distribution update (single page rank update for all points)\n",
        "      update_pr = single_pr(digraph, node_list[i], current_prob_dist, d)\n",
        "      updated_prob_dist[i] = update_pr\n",
        "\n",
        "      difference = np.max(abs(updated_prob_dist - current_prob_dist))\n",
        "      current_prob_dist = np.array(updated_prob_dist)\n",
        "\n",
        "\n",
        "  return updated_prob_dist"
      ],
      "metadata": {
        "id": "uBRHpPFOsnyf"
      },
      "execution_count": 4,
      "outputs": []
    },
    {
      "cell_type": "code",
      "source": [
        "DG = nx.DiGraph()\n",
        "edge_list = [ (1,2), (2,5), (3,2), (3,5), (5,4), (4,5), (3,4), (4,3), (3,1)]\n",
        "\n",
        "#ORDER OF NODES 1,2,5,3,4\n",
        "\n"
      ],
      "metadata": {
        "id": "zNypwaTZxy-u"
      },
      "execution_count": 17,
      "outputs": []
    },
    {
      "cell_type": "code",
      "source": [
        "PageRank(DG)\n",
        "#Kinda works :)"
      ],
      "metadata": {
        "id": "rhrGcspz6hhE",
        "colab": {
          "base_uri": "https://localhost:8080/"
        },
        "outputId": "cc0460c8-6aa0-4f0b-b578-f163210e58a4"
      },
      "execution_count": 30,
      "outputs": [
        {
          "output_type": "execute_result",
          "data": {
            "text/plain": [
              "array([0.00454368, 0.00908735, 0.03181552, 0.01818448, 0.03636164])"
            ]
          },
          "metadata": {},
          "execution_count": 30
        }
      ]
    },
    {
      "cell_type": "markdown",
      "source": [
        "#### Testing algorithm iteration by iteration"
      ],
      "metadata": {
        "id": "ansb-Kp6FtXL"
      }
    },
    {
      "cell_type": "code",
      "source": [
        "DG.add_edges_from(edge_list)\n",
        "\n",
        "node_list = np.array(DG.nodes())\n",
        "n = len(np.array(DG.nodes()))\n",
        "current_prob_dist = np.repeat((1/n), n)\n",
        "update_prob_dist = np.zeros(n, float)\n",
        "\n",
        "for i in range(n):\n",
        "  update_pr = single_pr(DG, node_list[i], current_prob_dist)\n",
        "  update_prob_dist[i] = update_pr\n",
        "\n",
        "difference = np.max(abs(update_prob_dist - current_prob_dist))\n",
        "difference\n",
        "\n",
        "print(update_prob_dist)\n",
        "current_prob_dist = np.array([0.0725, 0.2425, 0.3275, 0.115, 0.2425]) # <-- This is the update_prob_dist, but actually works\n",
        "current_prob_dist = np.array(update_prob_dist)\n",
        "\n",
        "#Setting current_prob_dist = update_prob_dist is causing some issues :(\n",
        "for i in range(n):\n",
        "  print(single_pr(DG, node_list[i], current_prob_dist))\n",
        "  update_pr = single_pr(DG, node_list[i], current_prob_dist)\n",
        "  update_prob_dist[i] = update_pr\n",
        "\n",
        "\n",
        "sum(update_prob_dist)"
      ],
      "metadata": {
        "colab": {
          "base_uri": "https://localhost:8080/"
        },
        "id": "k9cSMdcvFsNM",
        "outputId": "2b83e9fa-faea-4f75-e70b-7c348f7f0b87"
      },
      "execution_count": 28,
      "outputs": [
        {
          "output_type": "stream",
          "name": "stdout",
          "text": [
            "[0.05 0.25 0.35 0.1  0.25]\n",
            "0.025\n",
            "0.07500000000000001\n",
            "0.4\n",
            "0.125\n",
            "0.375\n"
          ]
        },
        {
          "output_type": "execute_result",
          "data": {
            "text/plain": [
              "1.0"
            ]
          },
          "metadata": {},
          "execution_count": 28
        }
      ]
    },
    {
      "cell_type": "markdown",
      "source": [
        "# Linear Algebra Approach"
      ],
      "metadata": {
        "id": "rnXN8h-0_D7Y"
      }
    },
    {
      "cell_type": "code",
      "source": [
        "#Calculate the stochastic matrix from the adjacency matrix\n",
        "A = nx.to_numpy_array(DG)\n",
        "A_t = np.transpose(A)\n",
        "for i in range(len(A_t)):\n",
        "  count = 0\n",
        "  for j in range(len(A_t)):\n",
        "    if A_t[i][j] == 1:\n",
        "      count = count + 1\n",
        "\n",
        "  A_t[i] = A_t[i] / count\n",
        "\n",
        "A"
      ],
      "metadata": {
        "colab": {
          "base_uri": "https://localhost:8080/"
        },
        "id": "KjPsaGA45Qf1",
        "outputId": "c7a32775-2a23-4f29-ce74-522efcf1313e"
      },
      "execution_count": 69,
      "outputs": [
        {
          "output_type": "execute_result",
          "data": {
            "text/plain": [
              "array([[0.        , 0.5       , 0.        , 0.        , 0.        ],\n",
              "       [0.        , 0.        , 0.33333333, 0.        , 0.        ],\n",
              "       [0.        , 0.        , 0.        , 0.        , 0.5       ],\n",
              "       [1.        , 0.5       , 0.33333333, 0.        , 0.5       ],\n",
              "       [0.        , 0.        , 0.33333333, 1.        , 0.        ]])"
            ]
          },
          "metadata": {},
          "execution_count": 69
        }
      ]
    },
    {
      "cell_type": "markdown",
      "source": [
        "#### Stochastic Matrix Function Given a Digraph"
      ],
      "metadata": {
        "id": "HRxrKUzX9xod"
      }
    },
    {
      "cell_type": "code",
      "source": [
        "def stochastic(DG):\n",
        "  A = nx.to_numpy_array(DG)\n",
        "  A_t = np.transpose(A)\n",
        "  for i in range(len(A_t)):\n",
        "    count = 0\n",
        "    for j in range(len(A_t)):\n",
        "      if A_t[i][j] == 1:\n",
        "        count = count + 1\n",
        "\n",
        "    A_t[i] = A_t[i] / count\n",
        "\n",
        "  output = np.transpose(A_t)\n",
        "  return output"
      ],
      "metadata": {
        "id": "y0oDUTAn8OWd"
      },
      "execution_count": 72,
      "outputs": []
    },
    {
      "cell_type": "code",
      "source": [
        "A = stochastic(DG)\n",
        "matrix = Matrix(A)\n",
        "\n",
        "A - np.identity(len(A))\n",
        "\n"
      ],
      "metadata": {
        "colab": {
          "base_uri": "https://localhost:8080/"
        },
        "id": "zazgKJUB94ZH",
        "outputId": "bad92b73-e313-44ef-ed33-9a05fd21e296"
      },
      "execution_count": 87,
      "outputs": [
        {
          "output_type": "execute_result",
          "data": {
            "text/plain": [
              "array([[-1.        ,  0.5       ,  0.        ,  0.        ,  0.        ],\n",
              "       [ 0.        , -1.        ,  0.33333333,  0.        ,  0.        ],\n",
              "       [ 0.        ,  0.        , -1.        ,  0.        ,  0.5       ],\n",
              "       [ 1.        ,  0.5       ,  0.33333333, -1.        ,  0.5       ],\n",
              "       [ 0.        ,  0.        ,  0.33333333,  1.        , -1.        ]])"
            ]
          },
          "metadata": {},
          "execution_count": 87
        }
      ]
    },
    {
      "cell_type": "code",
      "source": [],
      "metadata": {
        "id": "nqYOMBFO-BBJ"
      },
      "execution_count": null,
      "outputs": []
    }
  ]
}