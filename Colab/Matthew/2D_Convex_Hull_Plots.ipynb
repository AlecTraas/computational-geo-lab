{
  "nbformat": 4,
  "nbformat_minor": 0,
  "metadata": {
    "colab": {
      "provenance": [],
      "authorship_tag": "ABX9TyOSitYN2H13/7faWf+dPqi0",
      "include_colab_link": true
    },
    "kernelspec": {
      "name": "python3",
      "display_name": "Python 3"
    },
    "language_info": {
      "name": "python"
    }
  },
  "cells": [
    {
      "cell_type": "markdown",
      "metadata": {
        "id": "view-in-github",
        "colab_type": "text"
      },
      "source": [
        "<a href=\"https://colab.research.google.com/github/AlecTraas/computational-geo-lab/blob/main/Colab/Matthew/2D_Convex_Hull_Plots.ipynb\" target=\"_parent\"><img src=\"https://colab.research.google.com/assets/colab-badge.svg\" alt=\"Open In Colab\"/></a>"
      ]
    },
    {
      "cell_type": "markdown",
      "source": [
        "##Imports"
      ],
      "metadata": {
        "id": "Y8jeM-WXtpra"
      }
    },
    {
      "cell_type": "code",
      "execution_count": 2,
      "metadata": {
        "id": "CKoD4_TicW4u"
      },
      "outputs": [],
      "source": [
        "#Imports\n",
        "import numpy as np\n",
        "import matplotlib.pyplot as plt\n",
        "import math"
      ]
    },
    {
      "cell_type": "markdown",
      "source": [
        "\n",
        "\n",
        "### Dot product Function for any three points\n",
        "Initially thought this would be useful when trying to implement the gift wrapping method / Graham Scan\n"
      ],
      "metadata": {
        "id": "xWTPmyYUtvEu"
      }
    },
    {
      "cell_type": "code",
      "source": [
        "def dot_product(past_point, curr_point, next_point):\n",
        "  vec_1 = [past_point[0] - curr_point[0], past_point[1] - curr_point[1]]\n",
        "  vec_2 = [next_point[0] - curr_point[0], next_point[1] - curr_point[1]]\n",
        "\n",
        "  prod = vec_1[0] * vec_2[0] + vec_1[1] * vec_2[1]\n",
        "\n",
        "  if prod > 0:\n",
        "    return 1 #acute\n",
        "  elif prod < 0:\n",
        "    return 2 #obtuse\n",
        "  elif prod == 0:\n",
        "    return 0 #orthogonal"
      ],
      "metadata": {
        "id": "1csRulmludxU"
      },
      "execution_count": null,
      "outputs": []
    },
    {
      "cell_type": "markdown",
      "source": [
        "## Orientation\n",
        "Will tell the orientation of any 3 points given the order past current and next of the points\n",
        "\n",
        "Useful to orient any given 3 points on the convex hall to tell whether the next point is going to be on the hull\n",
        "- If the next point turns inward to make clockwise turn, then it will no longer be on the convex hull, then we can test again on another point\n"
      ],
      "metadata": {
        "id": "drkrv2qh0mSJ"
      }
    },
    {
      "cell_type": "code",
      "source": [
        "def orientation(past, curr, next):\n",
        "    #Find orientation, counterclockwise, clockwise, or colinear of a set of 3\n",
        "    val = (curr[1]-past[1])*(next[0]-curr[0]) - (next[1]-curr[1])*(curr[0]-past[0])\n",
        "    if val == 0:\n",
        "        return 0  #collinear\n",
        "    elif val > 0:\n",
        "        return 1 #clock\n",
        "    else:\n",
        "        return 2 #counterclock"
      ],
      "metadata": {
        "id": "mqUzQT4dqPEN"
      },
      "execution_count": 3,
      "outputs": []
    },
    {
      "cell_type": "markdown",
      "source": [
        "## Hull Algorithm"
      ],
      "metadata": {
        "id": "ljOCpCKH104Y"
      }
    },
    {
      "cell_type": "code",
      "source": [
        "def hull_algorithm(points):\n",
        "  n = len(points)\n",
        "  if n <= 3:\n",
        "    return points\n",
        "\n",
        "  #Find lowest y\n",
        "  sorted_indices = np.argsort(points[:,1])\n",
        "  sorted_points_y_vals = points[sorted_indices]\n",
        "  start_point = sorted_points_y_vals[0]\n",
        "\n",
        "  #Find angle between start_point and the rest of the points (polar angle)\n",
        "  sorted_by_angle = sorted(points, key = lambda point: (math.atan2(start_point[1]-point[1], start_point[0]-point[0])))\n",
        "\n",
        "  convex_hull = [start_point, sorted_by_angle[0], sorted_by_angle[1]]\n",
        "\n",
        "  for i in range(2, len(points)):\n",
        "    while orientation(convex_hull[-2], convex_hull[-1], sorted_by_angle[i]) != 2:\n",
        "      convex_hull.pop()\n",
        "    convex_hull.append(sorted_by_angle[i])\n",
        "\n",
        "\n",
        "  del convex_hull[0]\n",
        "  return np.array(convex_hull)\n"
      ],
      "metadata": {
        "id": "T7d904n5c8Jn"
      },
      "execution_count": 79,
      "outputs": []
    },
    {
      "cell_type": "markdown",
      "source": [
        "## Test"
      ],
      "metadata": {
        "id": "NSdI8jJb16af"
      }
    },
    {
      "cell_type": "code",
      "source": [
        "npoints= 100\n",
        "points=np.random.rand(npoints,2)*10\n",
        "\n",
        "\n",
        "\n"
      ],
      "metadata": {
        "id": "4Fvpwn8VfCWd"
      },
      "execution_count": 96,
      "outputs": []
    },
    {
      "cell_type": "code",
      "source": [
        "hull_points = hull_algorithm(points)"
      ],
      "metadata": {
        "id": "E1vZ27Ir5PL8"
      },
      "execution_count": 97,
      "outputs": []
    },
    {
      "cell_type": "markdown",
      "source": [
        "## Plotting\n"
      ],
      "metadata": {
        "id": "_Fwom5s4i-Bs"
      }
    },
    {
      "cell_type": "code",
      "source": [
        "all_xpoints = points[:,0]\n",
        "all_ypoints = points[:,1]\n",
        "\n",
        "hull_xpoints = hull_points[:,0]\n",
        "hull_ypoints = hull_points[:,1]\n",
        "\n",
        "plt.plot(all_xpoints, all_ypoints, \"o\", color = \"red\") #Interior points of the hull are red\n",
        "plt.plot(hull_xpoints, hull_ypoints, \"o\", color = \"blue\") #Hull points are blue\n",
        "\n",
        "#plot lines between hull points\n",
        "\n",
        "for i in range(len(hull_points)-1):\n",
        "  curr_x = [hull_points[i,0], hull_points[i+1,0]]\n",
        "  curr_y = [hull_points[i,1], hull_points[i+1,1]]\n",
        "  plt.plot(curr_x, curr_y, color = \"green\")\n",
        "\n",
        "first_and_last_x = [hull_points[0,0], hull_points[-1,0]]\n",
        "first_and_last_y = [hull_points[0,1], hull_points[-1,1]]\n",
        "\n",
        "plt.plot(first_and_last_x, first_and_last_y, color = \"green\")\n",
        "\n",
        "\n"
      ],
      "metadata": {
        "colab": {
          "base_uri": "https://localhost:8080/",
          "height": 448
        },
        "id": "Vqyj3R0ejCRd",
        "outputId": "8e0b2e27-a00e-4c90-8daf-cfc0fd8725b9"
      },
      "execution_count": 98,
      "outputs": [
        {
          "output_type": "execute_result",
          "data": {
            "text/plain": [
              "[<matplotlib.lines.Line2D at 0x7dcf141c67d0>]"
            ]
          },
          "metadata": {},
          "execution_count": 98
        },
        {
          "output_type": "display_data",
          "data": {
            "text/plain": [
              "<Figure size 640x480 with 1 Axes>"
            ],
            "image/png": "[encoded data removed]"
          },
          "metadata": {}
        }
      ]
    },
    {
      "cell_type": "code",
      "source": [],
      "metadata": {
        "id": "ahfDQdbGjbUV"
      },
      "execution_count": null,
      "outputs": []
    }
  ]
}