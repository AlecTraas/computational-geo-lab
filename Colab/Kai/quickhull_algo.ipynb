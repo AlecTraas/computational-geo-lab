{
  "nbformat": 4,
  "nbformat_minor": 0,
  "metadata": {
    "colab": {
      "provenance": [],
      "authorship_tag": "ABX9TyPnEyYGpAbouu0q6lczM14z",
      "include_colab_link": true
    },
    "kernelspec": {
      "name": "python3",
      "display_name": "Python 3"
    },
    "language_info": {
      "name": "python"
    }
  },
  "cells": [
    {
      "cell_type": "markdown",
      "metadata": {
        "id": "view-in-github",
        "colab_type": "text"
      },
      "source": [
        "<a href=\"https://colab.research.google.com/github/AlecTraas/computational-geo-lab/blob/main/Colab/Kai/quickhull_algo.ipynb\" target=\"_parent\"><img src=\"https://colab.research.google.com/assets/colab-badge.svg\" alt=\"Open In Colab\"/></a>"
      ]
    },
    {
      "cell_type": "code",
      "execution_count": null,
      "metadata": {
        "id": "4SxUlV6pa6aq"
      },
      "outputs": [],
      "source": [
        "import numpy as np\n",
        "import matplotlib.pyplot as plt"
      ]
    },
    {
      "cell_type": "code",
      "source": [
        "def furthestP(a,b,points):\n",
        "  dist = np.cross(b-a,points-a)/norm(b-a)\n",
        "  return points[np.agrmax(dist)]"
      ],
      "metadata": {
        "id": "OjYAES5MD_28"
      },
      "execution_count": null,
      "outputs": []
    },
    {
      "cell_type": "code",
      "source": [
        "def quickhull(points):\n",
        ""
      ],
      "metadata": {
        "id": "F-ZJZTZGmCwo"
      },
      "execution_count": null,
      "outputs": []
    },
    {
      "cell_type": "code",
      "source": [
        "points = np.random.rand(10,2)*10\n",
        "\n",
        "leftmost = points[np.argmin(points[:,0])]\n",
        "rightmost = points[np.argmax(points[:,0])]\n",
        "\n",
        "hull_set = np.array(leftmost, rightmost)"
      ],
      "metadata": {
        "id": "jc6_FG0G-zD0"
      },
      "execution_count": null,
      "outputs": []
    },
    {
      "cell_type": "code",
      "source": [
        "upper_set = np.array()\n",
        "lower_set = np.array()\n",
        "\n",
        "for p in points:\n",
        "  if sign((rightmost[0] - leftmost[0]) * (p[1] - leftmost[1]) - (rightmost[1] - leftmost[1]) * (p[0] - leftmost[0])) >= 0:\n",
        "    upper_set.append(p)\n",
        "  else:\n",
        "    lowerset.append(p)\n",
        "\n",
        "hull_set.append(quickhull(upper_set,leftmost,rightmost),quickhull(lower_set,leftmost,rightmost))"
      ],
      "metadata": {
        "id": "BXLZtuX5bbkd"
      },
      "execution_count": null,
      "outputs": []
    },
    {
      "cell_type": "code",
      "source": [
        "plt.scatter(points[:,0],points[:,1])"
      ],
      "metadata": {
        "id": "J5vAjdEZ_IvM"
      },
      "execution_count": null,
      "outputs": []
    }
  ]
}