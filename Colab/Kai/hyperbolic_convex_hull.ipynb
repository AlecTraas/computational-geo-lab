{
  "nbformat": 4,
  "nbformat_minor": 0,
  "metadata": {
    "colab": {
      "provenance": [],
      "authorship_tag": "ABX9TyOs6rasBPY4VIjv60Z2XRLb",
      "include_colab_link": true
    },
    "kernelspec": {
      "name": "python3",
      "display_name": "Python 3"
    },
    "language_info": {
      "name": "python"
    }
  },
  "cells": [
    {
      "cell_type": "markdown",
      "metadata": {
        "id": "view-in-github",
        "colab_type": "text"
      },
      "source": [
        "<a href=\"https://colab.research.google.com/github/AlecTraas/computational-geo-lab/blob/main/Colab/Kai/hyperbolic_convex_hull.ipynb\" target=\"_parent\"><img src=\"https://colab.research.google.com/assets/colab-badge.svg\" alt=\"Open In Colab\"/></a>"
      ]
    },
    {
      "cell_type": "code",
      "execution_count": 3,
      "metadata": {
        "id": "r83j8yb8oQao"
      },
      "outputs": [],
      "source": [
        "import numpy as np\n",
        "import matplotlib.pyplot as plt"
      ]
    },
    {
      "cell_type": "code",
      "source": [
        "# plots a geodesic segment through complex numbers a and b, with color c\n",
        "def plot_geodesic(a,b,c):\n",
        "    if abs(a.real - b.real) <= 2/900:\n",
        "      plt.plot([a.real,b.real],[a.imag,b.imag],color=c)\n",
        "      return\n",
        "    o = ((a.real**2 + a.imag**2 - b.real**2 - b.imag**2) / (2*(a.real - b.real)), 0)\n",
        "    x = np.linspace(min(a.real,b.real), max(a.real,b.real), 1000)\n",
        "    arc = lambda x: np.sqrt(np.linalg.norm(np.array([a.real,a.imag]) - np.array(o))**2 - (x - o[0])**2) + o[1]\n",
        "    y = [arc(xi) for xi in x]\n",
        "    plt.plot(x,y,color=c)"
      ],
      "metadata": {
        "id": "UIDSQTCWocXL"
      },
      "execution_count": 4,
      "outputs": []
    },
    {
      "cell_type": "code",
      "source": [
        "# plots a list of points p, with color c\n",
        "def plot_point(p,c):\n",
        "    plt.scatter(np.real(p), np.imag(p), s=10, c=c, alpha=1)"
      ],
      "metadata": {
        "id": "3rWDXUysofAh"
      },
      "execution_count": 5,
      "outputs": []
    },
    {
      "cell_type": "code",
      "source": [
        "# returns the distance between two points a and b\n",
        "def dist(a,b):\n",
        "  numer = np.abs(a - np.conjugate(b)) + np.abs(a - b)\n",
        "  denom = np.abs(a - np.conjugate(b)) - np.abs(a - b)\n",
        "  return np.log(numer/denom)"
      ],
      "metadata": {
        "id": "V4ULVduZ0Vg_"
      },
      "execution_count": 6,
      "outputs": []
    },
    {
      "cell_type": "code",
      "source": [
        "# returns the angle ∠ACB given points a, b, c\n",
        "def angle(pa,pb,pc):\n",
        "  a = dist(pb,pc)\n",
        "  b = dist(pa,pc)\n",
        "  c = dist(pa,pb)\n",
        "  numer = np.cosh(a) * np.cosh(b) - np.cosh(c)\n",
        "  denom = np.sinh(a) * np.sinh(b)\n",
        "  return np.arccos(numer/denom)"
      ],
      "metadata": {
        "id": "iEC4zfExvSrL"
      },
      "execution_count": 21,
      "outputs": []
    },
    {
      "cell_type": "code",
      "source": [
        "# applies the Cayley transform to a set of points z in the upper half plane\n",
        "def cayley(z):\n",
        "  return (z-1j)/(z+1j)"
      ],
      "metadata": {
        "id": "eRyrUWQFFqMR"
      },
      "execution_count": 8,
      "outputs": []
    },
    {
      "cell_type": "code",
      "source": [
        "n = 50\n",
        "points = np.random.uniform(-10, 10, n) + np.random.uniform(0, 10, n) * 1j\n",
        "# points = [-2+4j,3.5+3.5j,-1+3j,-3+1j,-1+2j]\n",
        "points = sorted(points, key=lambda z: z.real)\n",
        "\n",
        "hull_pts = []\n",
        "hull_pts.append(points[0])\n",
        "\n",
        "points = points[1:]\n",
        "\n",
        "# this could break, but it is soooo unlikely.\n",
        "next_pt = hull_pts[0] - min(1,hull_pts[0].imag - 0.0001)*1j\n",
        "\n",
        "# initial hull point\n",
        "max_a = 0\n",
        "max_i = -1\n",
        "for k,p in enumerate(points):\n",
        "  a = angle(next_pt,p,hull_pts[0])\n",
        "  if a > max_a:\n",
        "    max_i = k\n",
        "    max_a = a\n",
        "next_pt = points[max_i]\n",
        "# del points[max_i]\n",
        "\n",
        "# pts [(1,2),(3,3),(7,6),(2,6),(5,1)]\n",
        "# hull_pts []\n",
        "# while the selected point isn't the one we started with:\n",
        "#    for each point in pts:\n",
        "#       if the angle formed by the previous point, the current point, and the next point (a) is the greatest observed yet:\n",
        "#          note the index and angle\n",
        "#    assign the current point to the hull set (effectively making it the previous point)\n",
        "#    assing the next point (max-angled one we found earlier) to be the current point\n",
        "#    clear the old next point from pts so that we don't reselect an old point\n",
        "\n",
        "i = 0\n",
        "while next_pt not in hull_pts:\n",
        "  max_a = 0\n",
        "  max_i = -1\n",
        "  for j,p in enumerate(points):\n",
        "    a = angle(hull_pts[i],p,next_pt)\n",
        "    if a > max_a:\n",
        "      max_i = j\n",
        "      max_a = a\n",
        "  i += 1\n",
        "  hull_pts.append(next_pt)\n",
        "  next_pt = points[max_i]\n",
        "\n",
        "print(hull_pts)\n",
        "\n",
        "fig, ax = plt.subplots()\n",
        "ax.axhline(0, color='black')\n",
        "\n",
        "# plot upper half plane points\n",
        "plot_point(points,'b')\n",
        "plot_point(hull_pts,'orange')\n",
        "\n",
        "for i in range(0,len(hull_pts)-1):\n",
        "  plot_geodesic(hull_pts[i],hull_pts[i+1],'green')\n",
        "plot_geodesic(hull_pts[0],hull_pts[len(hull_pts)-1],'green')\n",
        "\n",
        "# plot poincare disc points\n",
        "# plot_point(cayley(points),'g')\n",
        "\n",
        "# unit circle\n",
        "# theta = np.linspace(0, 2*np.pi, 1000)\n",
        "# x = np.cos(theta)\n",
        "# y = np.sin(theta)\n",
        "# plt.plot(x, y, color = 'r')\n",
        "\n",
        "# formatting\n",
        "ax.axis('off')\n",
        "ax.set_aspect('equal')\n",
        "plt.tight_layout()\n",
        "plt.show()"
      ],
      "metadata": {
        "colab": {
          "base_uri": "https://localhost:8080/",
          "height": 540
        },
        "id": "XeiKChQGohJY",
        "outputId": "0a71f21c-a423-494d-afe1-3851f6ab9dec"
      },
      "execution_count": 76,
      "outputs": [
        {
          "output_type": "stream",
          "name": "stderr",
          "text": [
            "<ipython-input-21-426af828b714>:8: RuntimeWarning: invalid value encountered in scalar divide\n",
            "  return np.arccos(numer/denom)\n",
            "<ipython-input-21-426af828b714>:8: RuntimeWarning: invalid value encountered in arccos\n",
            "  return np.arccos(numer/denom)\n"
          ]
        },
        {
          "output_type": "stream",
          "name": "stdout",
          "text": [
            "[(-8.945573605695436+5.664394788997056j), (9.340310754260017+9.32918826633753j), (9.624736697212363+7.21550621636154j), (9.48032173895782+6.2384508738095334j), (8.985395262439116+1.118270974629475j), (8.323257969807965+0.8235494420226974j), (6.00489602720118+1.2027299797699664j), (4.834586663298655+0.2754399979222366j), (4.125746650610207+1.4431170757496559j), (3.130567777526972+2.2991469435762335j), (-0.3111768677901967+2.7969767904850986j), (-2.169182011894442+1.9378072858346929j), (-4.528557129669133+1.6801368856291266j), (-4.981533317218869+1.791002930807284j), (-8.088234205161122+0.07076250186982325j), (-6.623881472945974+7.973239195239215j)]\n"
          ]
        },
        {
          "output_type": "display_data",
          "data": {
            "text/plain": [
              "<Figure size 640x480 with 1 Axes>"
            ],
            "image/png": "[encoded data removed]"
          },
          "metadata": {}
        }
      ]
    }
  ]
}