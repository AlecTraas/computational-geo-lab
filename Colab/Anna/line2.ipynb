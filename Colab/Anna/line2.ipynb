{
  "nbformat": 4,
  "nbformat_minor": 0,
  "metadata": {
    "colab": {
      "provenance": [],
      "authorship_tag": "ABX9TyMPKJR5R/D/uhAbj1Y83A+H",
      "include_colab_link": true
    },
    "kernelspec": {
      "name": "python3",
      "display_name": "Python 3"
    },
    "language_info": {
      "name": "python"
    }
  },
  "cells": [
    {
      "cell_type": "markdown",
      "metadata": {
        "id": "view-in-github",
        "colab_type": "text"
      },
      "source": [
        "<a href=\"https://colab.research.google.com/github/AlecTraas/computational-geo-lab/blob/main/line2.ipynb\" target=\"_parent\"><img src=\"https://colab.research.google.com/assets/colab-badge.svg\" alt=\"Open In Colab\"/></a>"
      ]
    },
    {
      "cell_type": "code",
      "execution_count": null,
      "metadata": {
        "id": "kqqpNRQNbwyl"
      },
      "outputs": [],
      "source": [
        "import numpy as np\n",
        "import matplotlib.pyplot as plt\n",
        "\n",
        "# A point is represented as a numpy array [x, y]\n",
        "# A segment is represented by two points [point1, point2]\n",
        "\n",
        "def on_segment(p, q, r):\n",
        "    \"\"\"Check if point q lies on line segment 'pr'\"\"\"\n",
        "    if (q[0] <= max(p[0], r[0]) and q[0] >= min(p[0], r[0]) and\n",
        "            q[1] <= max(p[1], r[1]) and q[1] >= min(p[1], r[1])):\n",
        "        return True\n",
        "    return False\n",
        "\n",
        "def orientation(p, q, r):\n",
        "    \"\"\"Find orientation of ordered triplet (p, q, r)\"\"\"\n",
        "    val = (q[1] - p[1]) * (r[0] - q[0]) - (q[0] - p[0]) * (r[1] - q[1])\n",
        "    if val == 0:\n",
        "        return 0  # collinear\n",
        "    return 1 if val > 0 else 2  # clock or counterclockwise\n",
        "\n",
        "def do_intersect(s1, s2):\n",
        "    \"\"\"Check if segments s1 and s2 intersect\"\"\"\n",
        "    p1, q1 = s1\n",
        "    p2, q2 = s2\n",
        "    o1 = orientation(p1, q1, p2)\n",
        "    o2 = orientation(p1, q1, q2)\n",
        "    o3 = orientation(p2, q2, p1)\n",
        "    o4 = orientation(p2, q2, q1)"
      ]
    },
    {
      "cell_type": "code",
      "source": [
        " # General case\n",
        "    if o1 != o2 and o3 != o4:\n",
        "        return True\n",
        "     # Special Cases\n",
        "    if o1 == 0 and on_segment(p1, p2, q1): return True\n",
        "    if o2 == 0 and on_segment(p1, q2, q1): return True\n",
        "    if o3 == 0 and on_segment(p2, p1, q2): return True\n",
        "    if o4 == 0 and on_segment(p2, q1, q2): return True\n",
        "\n",
        "    return False  #identification of the special case and exclude this"
      ],
      "metadata": {
        "id": "_ta9zMVw5hBL"
      },
      "execution_count": null,
      "outputs": []
    },
    {
      "cell_type": "code",
      "source": [
        "#revised version\n",
        "\n",
        "def is_intersect(segments):\n",
        "    n = len(segments)\n",
        "    intersect_found = False\n",
        "    for i in range(n):\n",
        "        for j in range(i + 1, n):\n",
        "            if do_intersect(segments[i], segments[j]):\n",
        "                print(f\"Segments {i + 1} and {j + 1} intersect.\")\n",
        "                intersect_found = True\n",
        "    return intersect_found"
      ],
      "metadata": {
        "id": "cePPzA6l1yM8"
      },
      "execution_count": null,
      "outputs": []
    },
    {
      "cell_type": "code",
      "source": [],
      "metadata": {
        "id": "2DcXyIztuxGL"
      },
      "execution_count": null,
      "outputs": []
    },
    {
      "cell_type": "code",
      "source": [
        "#Example\n",
        "segments = [\n",
        "    (np.array([1, 5]), np.array([4, 5])),\n",
        "    (np.array([2, 5]), np.array([10, 1])),\n",
        "    (np.array([1, 2]), np.array([8, 3])),\n",
        "    (np.array([5, 8]), np.array([9, 4])),\n",
        "    (np.array([7, 1]), np.array([8, 7]))\n",
        "]\n",
        "\n",
        "if is_intersect(segments):\n",
        "    print(\"There are intersecting segments.\")\n",
        "else:\n",
        "    print(\"No intersecting segments.\")"
      ],
      "metadata": {
        "colab": {
          "base_uri": "https://localhost:8080/"
        },
        "id": "9mng5O1bb-nx",
        "outputId": "db43ff8e-d9c3-4a29-e9d6-ad1561d65b78"
      },
      "execution_count": null,
      "outputs": [
        {
          "output_type": "stream",
          "name": "stdout",
          "text": [
            "Segments 1 and 2 intersect.\n",
            "Segments 2 and 3 intersect.\n",
            "Segments 2 and 5 intersect.\n",
            "Segments 3 and 5 intersect.\n",
            "Segments 4 and 5 intersect.\n",
            "There are intersecting segments.\n"
          ]
        }
      ]
    },
    {
      "cell_type": "code",
      "source": [
        "for s in segments:\n",
        "    plt.plot([s[0][0], s[1][0]], [s[0][1], s[1][1]])\n",
        "plt.xlabel('X')\n",
        "plt.ylabel('Y')\n",
        "plt.title('Line Segments Graph')\n",
        "plt.show()"
      ],
      "metadata": {
        "colab": {
          "base_uri": "https://localhost:8080/",
          "height": 472
        },
        "id": "Uyai4MzFcE7R",
        "outputId": "dab8b68d-2e81-439a-e71c-8aa0c7d82268"
      },
      "execution_count": null,
      "outputs": [
        {
          "output_type": "display_data",
          "data": {
            "text/plain": [
              "<Figure size 640x480 with 1 Axes>"
            ],
            "image/png": "[encoded data removed]"
          },
          "metadata": {}
        }
      ]
    },
    {
      "cell_type": "code",
      "source": [],
      "metadata": {
        "id": "-wJ8Qvy4-KVO"
      },
      "execution_count": null,
      "outputs": []
    },
    {
      "cell_type": "code",
      "source": [],
      "metadata": {
        "id": "TLMBmHjP-jtH"
      },
      "execution_count": null,
      "outputs": []
    }
  ]
}
